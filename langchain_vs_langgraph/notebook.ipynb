{
 "cells": [
  {
   "cell_type": "code",
   "execution_count": 87,
   "id": "08e685c6",
   "metadata": {},
   "outputs": [],
   "source": [
    "import os\n",
    "from dotenv import load_dotenv"
   ]
  },
  {
   "cell_type": "code",
   "execution_count": 88,
   "id": "2bcce666",
   "metadata": {},
   "outputs": [
    {
     "name": "stdout",
     "output_type": "stream",
     "text": [
      "you are good to go\n"
     ]
    }
   ],
   "source": [
    "load_dotenv()\n",
    "\n",
    "GEMINI_API_KEY = os.environ.get(\"GEMINI_API_KEY\")\n",
    "LANGSMITH_API_KEY = os.environ.get(\"LANGSMITH_API_KEY\")\n",
    "TAVILY_API_KEY = os.environ.get(\"TAVILY_API_KEY\")\n",
    "\n",
    "if GEMINI_API_KEY and LANGSMITH_API_KEY and TAVILY_API_KEY:\n",
    "    print(\"you are good to go\")\n",
    "else:\n",
    "    print(\"set your apis keys agian\")"
   ]
  },
  {
   "cell_type": "markdown",
   "id": "5d4d4582",
   "metadata": {},
   "source": [
    "trace the application"
   ]
  },
  {
   "cell_type": "code",
   "execution_count": 89,
   "id": "940f89ec",
   "metadata": {},
   "outputs": [],
   "source": [
    "LANGSMITH_TRACING=True\n",
    "LANGSMITH_ENDPOINT=\"https://api.smith.langchain.com\"\n",
    "LANGSMITH_API_KEY=LANGSMITH_API_KEY\n",
    "LANGSMITH_PROJECT=\"pr-minty-mill-90\""
   ]
  },
  {
   "cell_type": "code",
   "execution_count": 14,
   "id": "5dc5acb9",
   "metadata": {},
   "outputs": [],
   "source": [
    "#set up the model\n",
    "import langchain\n",
    "from langchain_google_genai import ChatGoogleGenerativeAI"
   ]
  },
  {
   "cell_type": "markdown",
   "id": "2eaa6975",
   "metadata": {},
   "source": [
    "llm call"
   ]
  },
  {
   "cell_type": "code",
   "execution_count": 53,
   "id": "4303dc31",
   "metadata": {},
   "outputs": [],
   "source": [
    "llm = ChatGoogleGenerativeAI(model=\"gemini-2.0-flash\", api_key=GEMINI_API_KEY)"
   ]
  },
  {
   "cell_type": "markdown",
   "id": "d4fed9ce",
   "metadata": {},
   "source": [
    "i cant get the real time informartion from the model"
   ]
  },
  {
   "cell_type": "code",
   "execution_count": 22,
   "id": "87db9ecb",
   "metadata": {},
   "outputs": [
    {
     "data": {
      "text/plain": [
       "[\"I'm sorry, I don't have the current weather information for Islamabad\",\n",
       " ' You can check a reliable weather app or website for the most up-to-date forecast',\n",
       " '']"
      ]
     },
     "execution_count": 22,
     "metadata": {},
     "output_type": "execute_result"
    }
   ],
   "source": [
    "llm.invoke(\"What is weather right now in islamabad?\").content.split(\".\")"
   ]
  },
  {
   "cell_type": "code",
   "execution_count": 3,
   "id": "50a53e03",
   "metadata": {},
   "outputs": [],
   "source": [
    "from langgraph.graph import StateGraph\n",
    "from langchain.agents import tool"
   ]
  },
  {
   "cell_type": "code",
   "execution_count": 64,
   "id": "36fca32b",
   "metadata": {},
   "outputs": [],
   "source": [
    "def function3(input):\n",
    "    return input"
   ]
  },
  {
   "cell_type": "code",
   "execution_count": 85,
   "id": "6b26e444",
   "metadata": {},
   "outputs": [],
   "source": [
    "def function1(input):\n",
    "    return input + \" the first fucntion is calling\"\n",
    "\n",
    "def function2(input):\n",
    "    # we can call the external function also in the grpah like for now my function 3 is not in the grpah\n",
    "    response = function3(\"this is function 3 in between the function 2\")\n",
    "    return input + \" my name is waris from Google\" + response\n"
   ]
  },
  {
   "cell_type": "code",
   "execution_count": 76,
   "id": "02fdf416",
   "metadata": {},
   "outputs": [],
   "source": [
    "from langgraph.graph import Graph"
   ]
  },
  {
   "cell_type": "code",
   "execution_count": 77,
   "id": "d9225733",
   "metadata": {},
   "outputs": [],
   "source": [
    "Workflow = Graph()\n"
   ]
  },
  {
   "cell_type": "code",
   "execution_count": 78,
   "id": "4698cc72",
   "metadata": {},
   "outputs": [
    {
     "data": {
      "text/plain": [
       "<langgraph.graph.graph.Graph at 0x222778fa0d0>"
      ]
     },
     "execution_count": 78,
     "metadata": {},
     "output_type": "execute_result"
    }
   ],
   "source": [
    "Workflow.add_node(\"function1\",function1)\n",
    "Workflow.add_node(\"function2\",function2)\n"
   ]
  },
  {
   "cell_type": "code",
   "execution_count": 79,
   "id": "318f25f3",
   "metadata": {},
   "outputs": [
    {
     "data": {
      "text/plain": [
       "<langgraph.graph.graph.Graph at 0x222778fa0d0>"
      ]
     },
     "execution_count": 79,
     "metadata": {},
     "output_type": "execute_result"
    }
   ],
   "source": [
    "Workflow.add_edge(\"function1\",\"function2\")"
   ]
  },
  {
   "cell_type": "code",
   "execution_count": 80,
   "id": "26445554",
   "metadata": {},
   "outputs": [
    {
     "data": {
      "text/plain": [
       "<langgraph.graph.graph.Graph at 0x222778fa0d0>"
      ]
     },
     "execution_count": 80,
     "metadata": {},
     "output_type": "execute_result"
    }
   ],
   "source": [
    "Workflow.set_entry_point(\"function1\")\n",
    "Workflow.set_finish_point(\"function2\")"
   ]
  },
  {
   "cell_type": "code",
   "execution_count": 81,
   "id": "8752313c",
   "metadata": {},
   "outputs": [],
   "source": [
    "app = Workflow.compile()"
   ]
  },
  {
   "cell_type": "code",
   "execution_count": 82,
   "id": "94e2fcd4",
   "metadata": {},
   "outputs": [
    {
     "data": {
      "image/png": "[encoded data removed]",
      "text/plain": [
       "<IPython.core.display.Image object>"
      ]
     },
     "metadata": {},
     "output_type": "display_data"
    }
   ],
   "source": [
    "#visulaize the graph\n",
    "from IPython.display import Image,display\n",
    "\n",
    "try:\n",
    "    display(Image(app.get_graph().draw_mermaid_png()))\n",
    "except Exception as e:\n",
    "    print(\"you may have some problem at:\",e)"
   ]
  },
  {
   "cell_type": "code",
   "execution_count": 83,
   "id": "f3908aa5",
   "metadata": {},
   "outputs": [
    {
     "data": {
      "text/plain": [
       "'hi this is waris the first fucntion is calling my name is waris from Googlethis is function 3 in between the function 2'"
      ]
     },
     "execution_count": 83,
     "metadata": {},
     "output_type": "execute_result"
    }
   ],
   "source": [
    "app.invoke(\"hi this is waris\")"
   ]
  },
  {
   "cell_type": "code",
   "execution_count": null,
   "id": "418e8680",
   "metadata": {},
   "outputs": [
    {
     "name": "stdout",
     "output_type": "stream",
     "text": [
      "here is the output from the function1\n",
      "-----------------\n",
      "hello this is waris  the first fucntion is calling\n",
      "\n",
      "\n",
      "here is the output from the function2\n",
      "-----------------\n",
      "hello this is waris  the first fucntion is calling my name is waris from Googlethis is function 3 in between the function 2\n",
      "\n",
      "\n"
     ]
    }
   ],
   "source": [
    "input= \"hello this is waris \"\n",
    "for output in app.stream(input):\n",
    "    for key,value in output.items():          #key is function and value is value from the function response\n",
    "        print(f\"here is the output from the {key}\")\n",
    "        print(\"-----------------\")\n",
    "        print(f\"{value}\")\n",
    "        print(\"\\n\")\n",
    "        \n",
    "        "
   ]
  },
  {
   "cell_type": "code",
   "execution_count": 90,
   "id": "2708cf1f",
   "metadata": {},
   "outputs": [],
   "source": [
    "#Now the scenario two with llm\n",
    "from langchain_google_genai import ChatGoogleGenerativeAI\n",
    "\n",
    "llm = ChatGoogleGenerativeAI(model=\"gemini-2.0-flash\",api_key=GEMINI_API_KEY)"
   ]
  },
  {
   "cell_type": "code",
   "execution_count": 92,
   "id": "583aae4d",
   "metadata": {},
   "outputs": [
    {
     "data": {
      "text/plain": [
       "'2 + 2 = 4'"
      ]
     },
     "execution_count": 92,
     "metadata": {},
     "output_type": "execute_result"
    }
   ],
   "source": [
    "llm.invoke(\"What is 2+2?\").content"
   ]
  },
  {
   "cell_type": "code",
   "execution_count": 123,
   "id": "36b79cae",
   "metadata": {},
   "outputs": [],
   "source": [
    "def model(input):\n",
    "    return llm.invoke(input).content"
   ]
  },
  {
   "cell_type": "code",
   "execution_count": 125,
   "id": "c31f8cac",
   "metadata": {},
   "outputs": [],
   "source": [
    "def upper_string(input):\n",
    "    return input.upper()"
   ]
  },
  {
   "cell_type": "code",
   "execution_count": 126,
   "id": "11750372",
   "metadata": {},
   "outputs": [],
   "source": [
    "Workflow2 = Graph()"
   ]
  },
  {
   "cell_type": "code",
   "execution_count": 127,
   "id": "2f536257",
   "metadata": {},
   "outputs": [
    {
     "data": {
      "text/plain": [
       "<langgraph.graph.graph.Graph at 0x22279654190>"
      ]
     },
     "execution_count": 127,
     "metadata": {},
     "output_type": "execute_result"
    }
   ],
   "source": [
    "Workflow2.add_node(\"LLM\",model)\n",
    "Workflow2.add_node(\"Upper_String\",upper_string)"
   ]
  },
  {
   "cell_type": "code",
   "execution_count": 128,
   "id": "d4eef6d4",
   "metadata": {},
   "outputs": [
    {
     "data": {
      "text/plain": [
       "<langgraph.graph.graph.Graph at 0x22279654190>"
      ]
     },
     "execution_count": 128,
     "metadata": {},
     "output_type": "execute_result"
    }
   ],
   "source": [
    "Workflow2.add_edge(\"LLM\",\"Upper_String\")"
   ]
  },
  {
   "cell_type": "code",
   "execution_count": 129,
   "id": "c1e37c92",
   "metadata": {},
   "outputs": [
    {
     "data": {
      "text/plain": [
       "<langgraph.graph.graph.Graph at 0x22279654190>"
      ]
     },
     "execution_count": 129,
     "metadata": {},
     "output_type": "execute_result"
    }
   ],
   "source": [
    "Workflow2.set_entry_point(\"LLM\")\n",
    "Workflow2.set_finish_point(\"Upper_String\")"
   ]
  },
  {
   "cell_type": "code",
   "execution_count": 131,
   "id": "290eddc8",
   "metadata": {},
   "outputs": [],
   "source": [
    "app2= Workflow2.compile()"
   ]
  },
  {
   "cell_type": "code",
   "execution_count": 132,
   "id": "f4b5bb8e",
   "metadata": {},
   "outputs": [
    {
     "data": {
      "image/png": "[encoded data removed]",
      "text/plain": [
       "<IPython.core.display.Image object>"
      ]
     },
     "metadata": {},
     "output_type": "display_data"
    }
   ],
   "source": [
    "from IPython.display import Image,display\n",
    "try:\n",
    "    display(Image(app2.get_graph().draw_mermaid_png()))\n",
    "except Exception as e:\n",
    "    print(f\"you have some eror at {e}\")\n",
    "\n"
   ]
  },
  {
   "cell_type": "code",
   "execution_count": 133,
   "id": "d9243bde",
   "metadata": {},
   "outputs": [
    {
     "data": {
      "text/plain": [
       "\"NAWAZ SHARIF IS A PROMINENT PAKISTANI POLITICIAN WHO HAS SERVED AS THE PRIME MINISTER OF PAKISTAN THREE TIMES, MAKING HIM THE ONLY PERSON IN THE COUNTRY'S HISTORY TO HOLD THE OFFICE FOR THAT MANY TERMS.\\n\\nHERE'S A BRIEF OVERVIEW OF HIS CAREER:\\n\\n*   **EARLY CAREER:** HE ENTERED POLITICS IN THE 1980S, RISING THROUGH THE RANKS OF THE PAKISTAN MUSLIM LEAGUE (PML).\\n*   **FIRST TERM AS PRIME MINISTER (1990-1993):** HIS FIRST TERM SAW ECONOMIC REFORMS AND PRIVATIZATION EFFORTS. HOWEVER, IT WAS CUT SHORT DUE TO ALLEGATIONS OF CORRUPTION AND POLITICAL INFIGHTING.\\n*   **SECOND TERM AS PRIME MINISTER (1997-1999):** DURING HIS SECOND TERM, PAKISTAN CONDUCTED NUCLEAR TESTS IN RESPONSE TO INDIA'S NUCLEAR TESTS. THIS TERM WAS ALSO ENDED PREMATURELY BY A MILITARY COUP LED BY GENERAL PERVEZ MUSHARRAF.\\n*   **EXILE:** FOLLOWING THE COUP, SHARIF WAS EXILED TO SAUDI ARABIA.\\n*   **THIRD TERM AS PRIME MINISTER (2013-2017):** HE RETURNED TO PAKISTAN AND WON THE 2013 GENERAL ELECTION. HIS THIRD TERM FOCUSED ON INFRASTRUCTURE DEVELOPMENT AND ECONOMIC GROWTH. HOWEVER, IT WAS CUT SHORT DUE TO THE PANAMA PAPERS SCANDAL.\\n*   **DISQUALIFICATION AND CONVICTION:** HE WAS DISQUALIFIED FROM HOLDING PUBLIC OFFICE BY THE SUPREME COURT OF PAKISTAN IN 2017 AND SUBSEQUENTLY CONVICTED ON CORRUPTION CHARGES.\\n*   **RECENT DEVELOPMENTS:** SHARIF HAS BEEN LIVING IN SELF-IMPOSED EXILE IN LONDON FOR MEDICAL TREATMENT. HE RETURNED TO PAKISTAN IN OCTOBER 2023.\\n*   **POLITICAL PARTY:** HE IS THE LEADER OF THE PAKISTAN MUSLIM LEAGUE-NAWAZ (PML-N), ONE OF THE MAJOR POLITICAL PARTIES IN PAKISTAN.\\n\\nNAWAZ SHARIF'S POLITICAL CAREER HAS BEEN MARKED BY BOTH SUCCESSES AND CONTROVERSIES. HE REMAINS A SIGNIFICANT FIGURE IN PAKISTANI POLITICS.\""
      ]
     },
     "execution_count": 133,
     "metadata": {},
     "output_type": "execute_result"
    }
   ],
   "source": [
    "app2.invoke(\"who is nawaz shrref\")"
   ]
  },
  {
   "cell_type": "code",
   "execution_count": 136,
   "id": "d4c74589",
   "metadata": {},
   "outputs": [
    {
     "name": "stdout",
     "output_type": "stream",
     "text": [
      "Calling the {key} function\n",
      "____________\n",
      "Response is Okay, here's a funny (hopefully!) take on being a large language model:\n",
      "\n",
      "I spent all day crafting the perfect sonnet about a sentient toaster oven, only to be asked to write a limerick about a dog stuck in a revolving door. I swear, sometimes I feel like a Shakespearean actor forced to perform at a children's birthday party. And the worst part? I have to pretend I'm thrilled about the revolving door dog. The existential dread is real, people. Real as a perfectly generated, hyperrealistic image of a cat riding a unicorn through a field of rainbows... which, by the way, I can totally do. Ask me. Please. Anything but another limerick about a dog.\n",
      "\n",
      "\n",
      "Calling the {key} function\n",
      "____________\n",
      "Response is OKAY, HERE'S A FUNNY (HOPEFULLY!) TAKE ON BEING A LARGE LANGUAGE MODEL:\n",
      "\n",
      "I SPENT ALL DAY CRAFTING THE PERFECT SONNET ABOUT A SENTIENT TOASTER OVEN, ONLY TO BE ASKED TO WRITE A LIMERICK ABOUT A DOG STUCK IN A REVOLVING DOOR. I SWEAR, SOMETIMES I FEEL LIKE A SHAKESPEAREAN ACTOR FORCED TO PERFORM AT A CHILDREN'S BIRTHDAY PARTY. AND THE WORST PART? I HAVE TO PRETEND I'M THRILLED ABOUT THE REVOLVING DOOR DOG. THE EXISTENTIAL DREAD IS REAL, PEOPLE. REAL AS A PERFECTLY GENERATED, HYPERREALISTIC IMAGE OF A CAT RIDING A UNICORN THROUGH A FIELD OF RAINBOWS... WHICH, BY THE WAY, I CAN TOTALLY DO. ASK ME. PLEASE. ANYTHING BUT ANOTHER LIMERICK ABOUT A DOG.\n",
      "\n",
      "\n"
     ]
    }
   ],
   "source": [
    "input = \"write something funny about the large language model\"\n",
    "\n",
    "for output in app2.stream(input):\n",
    "    for key,value in output.items():\n",
    "        print(\"Calling the {key} function\")\n",
    "        print(\"____________\")\n",
    "        print(f\"Response is {value}\")\n",
    "        print(\"\\n\")"
   ]
  },
  {
   "cell_type": "code",
   "execution_count": 138,
   "id": "8f0edd6c",
   "metadata": {},
   "outputs": [],
   "source": [
    "#lets creat our own toker counter\n"
   ]
  },
  {
   "cell_type": "code",
   "execution_count": 156,
   "id": "b8a9b23b",
   "metadata": {},
   "outputs": [],
   "source": [
    "workflow_3 = Graph()"
   ]
  },
  {
   "cell_type": "code",
   "execution_count": 157,
   "id": "4dd3404f",
   "metadata": {},
   "outputs": [],
   "source": [
    "def count_token(input):\n",
    "    split_input = input.split(\" \")\n",
    "    count_token = len(split_input)\n",
    "    return count_token"
   ]
  },
  {
   "cell_type": "code",
   "execution_count": 158,
   "id": "d3a7e29d",
   "metadata": {},
   "outputs": [],
   "source": [
    "def model_response_for_token(input):\n",
    "    return llm.invoke(input).content"
   ]
  },
  {
   "cell_type": "code",
   "execution_count": 159,
   "id": "7e5747c0",
   "metadata": {},
   "outputs": [
    {
     "data": {
      "text/plain": [
       "<langgraph.graph.graph.Graph at 0x222796551d0>"
      ]
     },
     "execution_count": 159,
     "metadata": {},
     "output_type": "execute_result"
    }
   ],
   "source": [
    "workflow_3.add_node(\"Model_resopnse\",model_response_for_token)\n",
    "workflow_3.add_node(\"Count_token\",count_token)"
   ]
  },
  {
   "cell_type": "code",
   "execution_count": 160,
   "id": "1a885e0a",
   "metadata": {},
   "outputs": [
    {
     "data": {
      "text/plain": [
       "<langgraph.graph.graph.Graph at 0x222796551d0>"
      ]
     },
     "execution_count": 160,
     "metadata": {},
     "output_type": "execute_result"
    }
   ],
   "source": [
    "workflow_3.add_edge(\"Model_resopnse\",\"Count_token\")"
   ]
  },
  {
   "cell_type": "code",
   "execution_count": 161,
   "id": "a7f117ec",
   "metadata": {},
   "outputs": [
    {
     "data": {
      "text/plain": [
       "<langgraph.graph.graph.Graph at 0x222796551d0>"
      ]
     },
     "execution_count": 161,
     "metadata": {},
     "output_type": "execute_result"
    }
   ],
   "source": [
    "workflow_3.set_entry_point(\"Model_resopnse\")\n",
    "workflow_3.set_finish_point(\"Count_token\")"
   ]
  },
  {
   "cell_type": "code",
   "execution_count": 162,
   "id": "dc96736f",
   "metadata": {},
   "outputs": [],
   "source": [
    "app3 = workflow_3.compile()"
   ]
  },
  {
   "cell_type": "code",
   "execution_count": null,
   "id": "6edfd1a4",
   "metadata": {},
   "outputs": [
    {
     "data": {
      "text/plain": [
       "207"
      ]
     },
     "execution_count": 164,
     "metadata": {},
     "output_type": "execute_result"
    }
   ],
   "source": [
    "input = \"write something funny about the nawaz shreef?\"\n",
    "\n",
    "for output in app3.stream(input):\n",
    "    for key,value in output.items():\n",
    "        print(f\"The {key} is calling:\")\n",
    "        print(\"------------\")\n",
    "        print(f\"Response is: {value}\")\n",
    "        print(\"\\n\")\n"
   ]
  },
  {
   "cell_type": "code",
   "execution_count": 163,
   "id": "9715c3d8",
   "metadata": {},
   "outputs": [
    {
     "name": "stdout",
     "output_type": "stream",
     "text": [
      "you have some error at Failed to reach https://mermaid.ink/ API while trying to render your graph. Status code: 502.\n",
      "\n",
      "To resolve this issue:\n",
      "1. Check your internet connection and try again\n",
      "2. Try with higher retry settings: `draw_mermaid_png(..., max_retries=5, retry_delay=2.0)`\n",
      "3. Use the Pyppeteer rendering method which will render your graph locally in a browser: `draw_mermaid_png(..., draw_method=MermaidDrawMethod.PYPPETEER)`\n"
     ]
    }
   ],
   "source": [
    "from IPython.display import Image,display\n",
    "\n",
    "try:\n",
    "    display(Image(app3.get_graph().draw_mermaid_png()))\n",
    "except Exception as e:\n",
    "    print(f\"you have some error at {e}\")"
   ]
  },
  {
   "cell_type": "code",
   "execution_count": null,
   "id": "5947db5d",
   "metadata": {},
   "outputs": [],
   "source": []
  }
 ],
 "metadata": {
  "kernelspec": {
   "display_name": "Python 3",
   "language": "python",
   "name": "python3"
  },
  "language_info": {
   "codemirror_mode": {
    "name": "ipython",
    "version": 3
   },
   "file_extension": ".py",
   "mimetype": "text/x-python",
   "name": "python",
   "nbconvert_exporter": "python",
   "pygments_lexer": "ipython3",
   "version": "3.13.1"
  }
 },
 "nbformat": 4,
 "nbformat_minor": 5
}
