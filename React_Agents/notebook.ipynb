{
 "cells": [
  {
   "cell_type": "code",
   "execution_count": 1,
   "id": "08e685c6",
   "metadata": {},
   "outputs": [],
   "source": [
    "import os\n",
    "from dotenv import load_dotenv"
   ]
  },
  {
   "cell_type": "code",
   "execution_count": 2,
   "id": "1eff3af1",
   "metadata": {},
   "outputs": [],
   "source": [
    "#in simple llm we dont get the updated answer it gave us the answer since it was tarined. that is simple assistant"
   ]
  },
  {
   "cell_type": "code",
   "execution_count": 3,
   "id": "62870fbf",
   "metadata": {},
   "outputs": [],
   "source": [
    "#rag connected knowledge  base context into the llm."
   ]
  },
  {
   "cell_type": "code",
   "execution_count": 4,
   "id": "5e2cf3ad",
   "metadata": {},
   "outputs": [],
   "source": [
    "#Agent base assistant: advance system in this we have prompt by prompt we genrate answer,than we do observation tahn we take action.we call third party tools like google seach."
   ]
  },
  {
   "cell_type": "code",
   "execution_count": 5,
   "id": "900fd7d6",
   "metadata": {},
   "outputs": [],
   "source": [
    "#Agents alwasys contain three main things 1:Think 2: Action and 3:Observation"
   ]
  },
  {
   "cell_type": "code",
   "execution_count": 6,
   "id": "2bcce666",
   "metadata": {},
   "outputs": [
    {
     "name": "stdout",
     "output_type": "stream",
     "text": [
      "you are good to go\n"
     ]
    }
   ],
   "source": [
    "load_dotenv()\n",
    "\n",
    "GEMINI_API_KEY = os.environ.get(\"GEMINI_API_KEY\")\n",
    "LANGSMITH_API_KEY = os.environ.get(\"LANGSMITH_API_KEY\")\n",
    "TAVILY_API_KEY = os.environ.get(\"TAVILY_API_KEY\")\n",
    "\n",
    "if GEMINI_API_KEY and LANGSMITH_API_KEY and TAVILY_API_KEY:\n",
    "    print(\"you are good to go\")\n",
    "else:\n",
    "    print(\"set your apis keys agian\")"
   ]
  },
  {
   "cell_type": "markdown",
   "id": "5d4d4582",
   "metadata": {},
   "source": [
    "trace the application"
   ]
  },
  {
   "cell_type": "code",
   "execution_count": 7,
   "id": "940f89ec",
   "metadata": {},
   "outputs": [],
   "source": [
    "LANGSMITH_TRACING=True\n",
    "LANGSMITH_ENDPOINT=\"https://api.smith.langchain.com\"\n",
    "LANGSMITH_API_KEY=LANGSMITH_API_KEY\n",
    "LANGSMITH_PROJECT=\"pr-minty-mill-90\""
   ]
  },
  {
   "cell_type": "code",
   "execution_count": 8,
   "id": "5dc5acb9",
   "metadata": {},
   "outputs": [
    {
     "name": "stderr",
     "output_type": "stream",
     "text": [
      "c:\\Users\\HP\\AppData\\Local\\Programs\\Python\\Python313\\Lib\\site-packages\\tqdm\\auto.py:21: TqdmWarning: IProgress not found. Please update jupyter and ipywidgets. See https://ipywidgets.readthedocs.io/en/stable/user_install.html\n",
      "  from .autonotebook import tqdm as notebook_tqdm\n"
     ]
    }
   ],
   "source": [
    "#set up the model\n",
    "import langchain\n",
    "from langchain_google_genai import ChatGoogleGenerativeAI"
   ]
  },
  {
   "cell_type": "markdown",
   "id": "2eaa6975",
   "metadata": {},
   "source": [
    "llm call"
   ]
  },
  {
   "cell_type": "code",
   "execution_count": 92,
   "id": "4303dc31",
   "metadata": {},
   "outputs": [],
   "source": [
    "llm = ChatGoogleGenerativeAI(model=\"gemini-2.0-flash\", api_key=GEMINI_API_KEY)"
   ]
  },
  {
   "cell_type": "markdown",
   "id": "d4fed9ce",
   "metadata": {},
   "source": [
    "i cant get the real time informartion from the model"
   ]
  },
  {
   "cell_type": "code",
   "execution_count": 10,
   "id": "87db9ecb",
   "metadata": {},
   "outputs": [
    {
     "data": {
      "text/plain": [
       "[\"I'm sorry, I don't have the current weather information for Islamabad\",\n",
       " ' To get the latest weather updates, you can check a reliable weather app or website, such as:\\n\\n*   **Google Weather:** Search \"weather in Islamabad\" on Google',\n",
       " '\\n*   **AccuWeather:** [https://www',\n",
       " 'accuweather',\n",
       " 'com/en/pk/islamabad/260727/weather-forecast/260727](https://www',\n",
       " 'accuweather',\n",
       " 'com/en/pk/islamabad/260727/weather-forecast/260727)\\n*   **The Weather Channel:** [https://weather',\n",
       " 'com/en-PK/weather/today/l/Islamabad+Federal+Capital+Territory+Pakistan?canonicalCityId=f76075722650452263e83a849c93ca9359581e03362d89571d7996762c12883d](https://weather',\n",
       " 'com/en-PK/weather/today/l/Islamabad+Federal+Capital+Territory+Pakistan?canonicalCityId=f76075722650452263e83a849c93ca9359581e03362d89571d7996762c12883d)\\n*   **Local Pakistani Weather Services:** Check local news websites or apps that provide weather information for Pakistan',\n",
       " '']"
      ]
     },
     "execution_count": 10,
     "metadata": {},
     "output_type": "execute_result"
    }
   ],
   "source": [
    "llm.invoke(\"What is weather right now in islamabad?\").content.split(\".\")"
   ]
  },
  {
   "cell_type": "code",
   "execution_count": 11,
   "id": "0b2f1ee5",
   "metadata": {},
   "outputs": [],
   "source": [
    "#tool is nothing but functionality \n",
    "#i want answer from third party if my llm fifnt have answer.\n",
    "#like serper api  duckduckgo etc\n",
    "\n",
    "#Langraph is the letast way of creating agents and agents are working in the loop. \n",
    "# loop is like think action and observation"
   ]
  },
  {
   "cell_type": "code",
   "execution_count": 12,
   "id": "2e746910",
   "metadata": {},
   "outputs": [],
   "source": [
    "#when we creat somple rag it is unin direction like prompt | llm | StroutputParser() there is no any process \n",
    "#thinking observation and action.\n",
    "\n",
    "#the main drawback we are not sure about the output the result is correct or not."
   ]
  },
  {
   "cell_type": "markdown",
   "id": "1694e751",
   "metadata": {},
   "source": [
    "Simple AI Assistant"
   ]
  },
  {
   "cell_type": "code",
   "execution_count": 13,
   "id": "4c6aa9b9",
   "metadata": {},
   "outputs": [
    {
     "data": {
      "text/plain": [
       "['Waris Hayat is a Pakistani television director, producer, and actor',\n",
       " ' He is known for his work in Pakistani dramas and films',\n",
       " ' Some of his notable works include:\\n\\n*   **Drama Series:** \"Family Front\", \"Teen Bata Teen\", \"Yeh Zindagi Hai\" and more',\n",
       " '\\n*   **Films:** He also worked in some Pakistani films',\n",
       " '\\n\\nHe is considered a veteran in the Pakistani entertainment industry',\n",
       " '']"
      ]
     },
     "execution_count": 13,
     "metadata": {},
     "output_type": "execute_result"
    }
   ],
   "source": [
    "llm.invoke(\"Who is waris hayat\").content.split(\".\")"
   ]
  },
  {
   "cell_type": "code",
   "execution_count": 14,
   "id": "895e1089",
   "metadata": {},
   "outputs": [
    {
     "name": "stdout",
     "output_type": "stream",
     "text": [
      "good bye take care of yourself\n"
     ]
    }
   ],
   "source": [
    "while True:\n",
    "    question = input(\"ask some thing about you want to know else write quite to exit\").lower()\n",
    "\n",
    "    if question != \"quit\":\n",
    "        print(llm.invoke(question))\n",
    "    else:\n",
    "        print(\"good bye take care of yourself\")\n",
    "        break"
   ]
  },
  {
   "cell_type": "code",
   "execution_count": 15,
   "id": "427d74cb",
   "metadata": {},
   "outputs": [],
   "source": [
    "#adding memory into llms\n",
    "from langchain_core.chat_history import BaseChatMessageHistory\n",
    "from langchain_core.chat_history import InMemoryChatMessageHistory\n",
    "from langchain_core.runnables.history import RunnableWithMessageHistory\n",
    "from langchain_core.messages import AIMessage\n",
    "from langchain.memory import ConversationBufferWindowMemory"
   ]
  },
  {
   "cell_type": "code",
   "execution_count": 16,
   "id": "36c304bc",
   "metadata": {},
   "outputs": [],
   "source": [
    "STORE= {} #This will save the message history"
   ]
  },
  {
   "cell_type": "code",
   "execution_count": 17,
   "id": "41fa5d1e",
   "metadata": {},
   "outputs": [],
   "source": [
    "def get_session_history(session_id:str)-> BaseChatMessageHistory:\n",
    "    if session_id not in STORE:\n",
    "        STORE[session_id] = InMemoryChatMessageHistory()\n",
    "    return STORE[session_id]"
   ]
  },
  {
   "cell_type": "code",
   "execution_count": 18,
   "id": "388c9e3e",
   "metadata": {},
   "outputs": [
    {
     "data": {
      "text/plain": [
       "{}"
      ]
     },
     "execution_count": 18,
     "metadata": {},
     "output_type": "execute_result"
    }
   ],
   "source": [
    "STORE"
   ]
  },
  {
   "cell_type": "code",
   "execution_count": 19,
   "id": "c01542a6",
   "metadata": {},
   "outputs": [],
   "source": [
    "config = {\"configurable\" : {\"session_id\" : \"first_chat\"}}"
   ]
  },
  {
   "cell_type": "code",
   "execution_count": 20,
   "id": "1a01ff9d",
   "metadata": {},
   "outputs": [],
   "source": [
    "model_with_memory = RunnableWithMessageHistory(llm,get_session_history=get_session_history)"
   ]
  },
  {
   "cell_type": "code",
   "execution_count": 21,
   "id": "8f693d0e",
   "metadata": {},
   "outputs": [
    {
     "data": {
      "text/plain": [
       "AIMessage(content=\"Okay, Waris Hayat Abbasi. It's nice to meet you (virtually)! Is there anything specific you'd like to talk about or anything I can help you with today?\", additional_kwargs={}, response_metadata={'prompt_feedback': {'block_reason': 0, 'safety_ratings': []}, 'finish_reason': 'STOP', 'safety_ratings': []}, id='run--ce664b4b-ac86-4278-96ec-c7e091ccc093-0', usage_metadata={'input_tokens': 9, 'output_tokens': 40, 'total_tokens': 49, 'input_token_details': {'cache_read': 0}})"
      ]
     },
     "execution_count": 21,
     "metadata": {},
     "output_type": "execute_result"
    }
   ],
   "source": [
    "model_with_memory.invoke({\"input\": \"my name is waris hayat abbasi...\"}, config=config)\n"
   ]
  },
  {
   "cell_type": "code",
   "execution_count": 22,
   "id": "15692b11",
   "metadata": {},
   "outputs": [
    {
     "data": {
      "text/plain": [
       "'Yes, your name is Waris Hayat Abbasi. You just told me!'"
      ]
     },
     "execution_count": 22,
     "metadata": {},
     "output_type": "execute_result"
    }
   ],
   "source": [
    "model_with_memory.invoke({\"input\":\"Do you know what is my name\"},config=config).content"
   ]
  },
  {
   "cell_type": "code",
   "execution_count": 23,
   "id": "54a77872",
   "metadata": {},
   "outputs": [
    {
     "data": {
      "text/plain": [
       "\"That's fantastic, Waris! It's impressive that you're working as an AI Engineer while pursuing your bachelor's degree at NUML University Islamabad. That's a demanding but rewarding combination.\\n\\nSo, you're studying at NUML and working in AI. That's a fascinating intersection. Are you focusing on any particular area of AI, or is there a specific project you're currently working on that you're excited about? I'd love to hear more!\""
      ]
     },
     "execution_count": 23,
     "metadata": {},
     "output_type": "execute_result"
    }
   ],
   "source": [
    "model_with_memory.invoke({\"input\":\"i am doing my bachelor from numl university islamabd and i am working as a AI engineer.\"},config=config).content"
   ]
  },
  {
   "cell_type": "code",
   "execution_count": 24,
   "id": "2d99a1b1",
   "metadata": {},
   "outputs": [
    {
     "data": {
      "text/plain": [
       "\"Yes, based on our conversation, I know the following about you:\\n\\n*   **Name:** Waris Hayat Abbasi\\n*   **Education:** You are currently pursuing a bachelor's degree at NUML University Islamabad.\\n*   **Profession:** You are working as an AI Engineer.\\n\\nIs there anything else you'd like me to know about you? Or perhaps you'd like to test my knowledge further? Let me know!\""
      ]
     },
     "execution_count": 24,
     "metadata": {},
     "output_type": "execute_result"
    }
   ],
   "source": [
    "model_with_memory.invoke({\"input\":\"do you know about my name and qualification?\"},config=config).content"
   ]
  },
  {
   "cell_type": "code",
   "execution_count": 25,
   "id": "c8a48a19",
   "metadata": {},
   "outputs": [
    {
     "data": {
      "text/plain": [
       "\"No, I don't know your age. You haven't told me your age, and as an AI, I don't have access to personal information about you unless you explicitly provide it.\\n\\nWould you like to tell me your age? Or is there something else I can help you with?\""
      ]
     },
     "execution_count": 25,
     "metadata": {},
     "output_type": "execute_result"
    }
   ],
   "source": [
    "model_with_memory.invoke({\"input\":\"do you know about my age?\"},config=config).content"
   ]
  },
  {
   "cell_type": "code",
   "execution_count": 26,
   "id": "3b9a0b4d",
   "metadata": {},
   "outputs": [],
   "source": [
    "#rag with lcel\n",
    "from langchain_community.document_loaders import TextLoader,DirectoryLoader\n",
    "from langchain_text_splitters import RecursiveCharacterTextSplitter\n",
    "from langchain_community.vectorstores import FAISS\n",
    "from langchain import PromptTemplate\n",
    "from langchain_core.runnables import RunnableParallel,RunnablePassthrough,RunnableLambda\n",
    "from langchain_core.output_parsers import StrOutputParser\n",
    "from langchain.schema import Document"
   ]
  },
  {
   "cell_type": "code",
   "execution_count": 27,
   "id": "ab7109fa",
   "metadata": {},
   "outputs": [
    {
     "ename": "FileNotFoundError",
     "evalue": "Directory not found: 'C:\\Users\\HP\\Desktop\\LangGraph-Playlist\\chian_lcel_tools\\Data'",
     "output_type": "error",
     "traceback": [
      "\u001b[1;31m---------------------------------------------------------------------------\u001b[0m",
      "\u001b[1;31mFileNotFoundError\u001b[0m                         Traceback (most recent call last)",
      "Cell \u001b[1;32mIn[27], line 2\u001b[0m\n\u001b[0;32m      1\u001b[0m loader \u001b[38;5;241m=\u001b[39m DirectoryLoader(path\u001b[38;5;241m=\u001b[39m\u001b[38;5;124mr\u001b[39m\u001b[38;5;124m\"\u001b[39m\u001b[38;5;124mC:\u001b[39m\u001b[38;5;124m\\\u001b[39m\u001b[38;5;124mUsers\u001b[39m\u001b[38;5;124m\\\u001b[39m\u001b[38;5;124mHP\u001b[39m\u001b[38;5;124m\\\u001b[39m\u001b[38;5;124mDesktop\u001b[39m\u001b[38;5;124m\\\u001b[39m\u001b[38;5;124mLangGraph-Playlist\u001b[39m\u001b[38;5;124m\\\u001b[39m\u001b[38;5;124mchian_lcel_tools\u001b[39m\u001b[38;5;124m\\\u001b[39m\u001b[38;5;124mData\u001b[39m\u001b[38;5;124m\"\u001b[39m,loader_cls\u001b[38;5;241m=\u001b[39mTextLoader)\n\u001b[1;32m----> 2\u001b[0m docs \u001b[38;5;241m=\u001b[39m \u001b[43mloader\u001b[49m\u001b[38;5;241;43m.\u001b[39;49m\u001b[43mload\u001b[49m\u001b[43m(\u001b[49m\u001b[43m)\u001b[49m\n\u001b[0;32m      3\u001b[0m docs\n",
      "File \u001b[1;32mc:\\Users\\HP\\AppData\\Local\\Programs\\Python\\Python313\\Lib\\site-packages\\langchain_community\\document_loaders\\directory.py:117\u001b[0m, in \u001b[0;36mDirectoryLoader.load\u001b[1;34m(self)\u001b[0m\n\u001b[0;32m    115\u001b[0m \u001b[38;5;28;01mdef\u001b[39;00m \u001b[38;5;21mload\u001b[39m(\u001b[38;5;28mself\u001b[39m) \u001b[38;5;241m-\u001b[39m\u001b[38;5;241m>\u001b[39m List[Document]:\n\u001b[0;32m    116\u001b[0m \u001b[38;5;250m    \u001b[39m\u001b[38;5;124;03m\"\"\"Load documents.\"\"\"\u001b[39;00m\n\u001b[1;32m--> 117\u001b[0m     \u001b[38;5;28;01mreturn\u001b[39;00m \u001b[38;5;28;43mlist\u001b[39;49m\u001b[43m(\u001b[49m\u001b[38;5;28;43mself\u001b[39;49m\u001b[38;5;241;43m.\u001b[39;49m\u001b[43mlazy_load\u001b[49m\u001b[43m(\u001b[49m\u001b[43m)\u001b[49m\u001b[43m)\u001b[49m\n",
      "File \u001b[1;32mc:\\Users\\HP\\AppData\\Local\\Programs\\Python\\Python313\\Lib\\site-packages\\langchain_community\\document_loaders\\directory.py:123\u001b[0m, in \u001b[0;36mDirectoryLoader.lazy_load\u001b[1;34m(self)\u001b[0m\n\u001b[0;32m    121\u001b[0m p \u001b[38;5;241m=\u001b[39m Path(\u001b[38;5;28mself\u001b[39m\u001b[38;5;241m.\u001b[39mpath)\n\u001b[0;32m    122\u001b[0m \u001b[38;5;28;01mif\u001b[39;00m \u001b[38;5;129;01mnot\u001b[39;00m p\u001b[38;5;241m.\u001b[39mexists():\n\u001b[1;32m--> 123\u001b[0m     \u001b[38;5;28;01mraise\u001b[39;00m \u001b[38;5;167;01mFileNotFoundError\u001b[39;00m(\u001b[38;5;124mf\u001b[39m\u001b[38;5;124m\"\u001b[39m\u001b[38;5;124mDirectory not found: \u001b[39m\u001b[38;5;124m'\u001b[39m\u001b[38;5;132;01m{\u001b[39;00m\u001b[38;5;28mself\u001b[39m\u001b[38;5;241m.\u001b[39mpath\u001b[38;5;132;01m}\u001b[39;00m\u001b[38;5;124m'\u001b[39m\u001b[38;5;124m\"\u001b[39m)\n\u001b[0;32m    124\u001b[0m \u001b[38;5;28;01mif\u001b[39;00m \u001b[38;5;129;01mnot\u001b[39;00m p\u001b[38;5;241m.\u001b[39mis_dir():\n\u001b[0;32m    125\u001b[0m     \u001b[38;5;28;01mraise\u001b[39;00m \u001b[38;5;167;01mValueError\u001b[39;00m(\u001b[38;5;124mf\u001b[39m\u001b[38;5;124m\"\u001b[39m\u001b[38;5;124mExpected directory, got file: \u001b[39m\u001b[38;5;124m'\u001b[39m\u001b[38;5;132;01m{\u001b[39;00m\u001b[38;5;28mself\u001b[39m\u001b[38;5;241m.\u001b[39mpath\u001b[38;5;132;01m}\u001b[39;00m\u001b[38;5;124m'\u001b[39m\u001b[38;5;124m\"\u001b[39m)\n",
      "\u001b[1;31mFileNotFoundError\u001b[0m: Directory not found: 'C:\\Users\\HP\\Desktop\\LangGraph-Playlist\\chian_lcel_tools\\Data'"
     ]
    }
   ],
   "source": [
    "loader = DirectoryLoader(path=r\"C:\\Users\\HP\\Desktop\\LangGraph-Playlist\\chian_lcel_tools\\Data\",loader_cls=TextLoader)\n",
    "docs = loader.load()\n",
    "docs"
   ]
  },
  {
   "cell_type": "code",
   "execution_count": null,
   "id": "140450a3",
   "metadata": {},
   "outputs": [],
   "source": [
    "text_splitter = RecursiveCharacterTextSplitter(chunk_size=500, chunk_overlap=50)\n",
    "\n",
    "text_splitt = []\n",
    "for doc in docs:\n",
    "    chunks = text_splitter.split_documents([doc])  # pass a single doc in a list\n",
    "    text_splitt.extend(chunks)  \n",
    "docx = text_splitt"
   ]
  },
  {
   "cell_type": "code",
   "execution_count": null,
   "id": "5cc5c6a5",
   "metadata": {},
   "outputs": [
    {
     "data": {
      "text/plain": [
       "[Document(metadata={'source': 'C:\\\\Users\\\\HP\\\\Desktop\\\\LangGraph-Playlist\\\\chian_lcel_tools\\\\Data\\\\Directory.txt'}, page_content='\\'result\\': \\'The provided text mentions DeepSeek-R1\\\\\\'s performance on ArenaHard and AlpacaEval 2.0 as benchmarks. \\\\n\\\\n\\\\nIt states: \\\\n\\\\n*  \"Moreover, the summary lengths generated by DeepSeek-R1 are concise, with an average of 689 tokens on ArenaHard and 2,218 characters on AlpacaEval 2.0.\" \\\\n\\\\n\\\\nLet me know if you\\\\\\'d like more details about these benchmarks! \\\\n\\\\n\\', \\'source_documents\\': [Document(id=\\'e0104a99-b17f-48fc-bb48-e9034e5fa501\\', metadata={\\'page_number\\': 13}, page_content=\\'RL, which not'),\n",
       " Document(metadata={'source': 'C:\\\\Users\\\\HP\\\\Desktop\\\\LangGraph-Playlist\\\\chian_lcel_tools\\\\Data\\\\Directory.txt'}, page_content=\"13}, page_content='RL, which not only boosts reasoning capabilities but also improves performance across diverse\\\\ndomains. Moreover, the summary lengths generated by DeepSeek-R1 are concise, with an\\\\naverage of 689 tokens on ArenaHard and 2,218 characters on AlpacaEval 2.0. This indicates that\\\\n13')]}\")]"
      ]
     },
     "execution_count": 97,
     "metadata": {},
     "output_type": "execute_result"
    }
   ],
   "source": [
    "docx"
   ]
  },
  {
   "cell_type": "code",
   "execution_count": null,
   "id": "4a26bdaa",
   "metadata": {},
   "outputs": [
    {
     "name": "stderr",
     "output_type": "stream",
     "text": [
      "C:\\Users\\HP\\AppData\\Local\\Temp\\ipykernel_12608\\3077754740.py:2: LangChainDeprecationWarning: The class `HuggingFaceEmbeddings` was deprecated in LangChain 0.2.2 and will be removed in 1.0. An updated version of the class exists in the :class:`~langchain-huggingface package and should be used instead. To use it run `pip install -U :class:`~langchain-huggingface` and import as `from :class:`~langchain_huggingface import HuggingFaceEmbeddings``.\n",
      "  embeddings = HuggingFaceEmbeddings()\n",
      "C:\\Users\\HP\\AppData\\Local\\Temp\\ipykernel_12608\\3077754740.py:2: LangChainDeprecationWarning: Default values for HuggingFaceEmbeddings.model_name were deprecated in LangChain 0.2.16 and will be removed in 0.4.0. Explicitly pass a model_name to the HuggingFaceEmbeddings constructor instead.\n",
      "  embeddings = HuggingFaceEmbeddings()\n"
     ]
    }
   ],
   "source": [
    "from langchain.embeddings import HuggingFaceEmbeddings\n",
    "embeddings = HuggingFaceEmbeddings()"
   ]
  },
  {
   "cell_type": "code",
   "execution_count": null,
   "id": "ef311b09",
   "metadata": {},
   "outputs": [],
   "source": [
    "Vector_store = FAISS.from_documents(docx,embeddings)"
   ]
  },
  {
   "cell_type": "code",
   "execution_count": null,
   "id": "abeb29ce",
   "metadata": {},
   "outputs": [],
   "source": [
    "retriever = Vector_store.as_retriever(kwargs=2)"
   ]
  },
  {
   "cell_type": "code",
   "execution_count": null,
   "id": "8143daf7",
   "metadata": {},
   "outputs": [
    {
     "data": {
      "text/plain": [
       "[Document(id='42f452e1-5114-4bb6-9f4b-1ac2333d3faa', metadata={'source': 'C:\\\\Users\\\\HP\\\\Desktop\\\\LangGraph-Playlist\\\\chian_lcel_tools\\\\Data\\\\Directory.txt'}, page_content='\\'result\\': \\'The provided text mentions DeepSeek-R1\\\\\\'s performance on ArenaHard and AlpacaEval 2.0 as benchmarks. \\\\n\\\\n\\\\nIt states: \\\\n\\\\n*  \"Moreover, the summary lengths generated by DeepSeek-R1 are concise, with an average of 689 tokens on ArenaHard and 2,218 characters on AlpacaEval 2.0.\" \\\\n\\\\n\\\\nLet me know if you\\\\\\'d like more details about these benchmarks! \\\\n\\\\n\\', \\'source_documents\\': [Document(id=\\'e0104a99-b17f-48fc-bb48-e9034e5fa501\\', metadata={\\'page_number\\': 13}, page_content=\\'RL, which not'),\n",
       " Document(id='0389f5ab-bc9e-42c1-94fa-d9256cc676ec', metadata={'source': 'C:\\\\Users\\\\HP\\\\Desktop\\\\LangGraph-Playlist\\\\chian_lcel_tools\\\\Data\\\\Directory.txt'}, page_content=\"13}, page_content='RL, which not only boosts reasoning capabilities but also improves performance across diverse\\\\ndomains. Moreover, the summary lengths generated by DeepSeek-R1 are concise, with an\\\\naverage of 689 tokens on ArenaHard and 2,218 characters on AlpacaEval 2.0. This indicates that\\\\n13')]}\")]"
      ]
     },
     "execution_count": 111,
     "metadata": {},
     "output_type": "execute_result"
    }
   ],
   "source": [
    "retriever.invoke(\"deepseek\")"
   ]
  },
  {
   "cell_type": "code",
   "execution_count": null,
   "id": "928f4c3d",
   "metadata": {},
   "outputs": [],
   "source": [
    "Template = \"\"\"asnwer the question based on provided context\n",
    "{context}\n",
    "question : {question}\n",
    "\"\"\"\n",
    "\n",
    "prompt  = PromptTemplate.from_template(template=Template)"
   ]
  },
  {
   "cell_type": "code",
   "execution_count": null,
   "id": "7b8fc50f",
   "metadata": {},
   "outputs": [],
   "source": [
    "retrive_chain = (RunnableParallel({\"context\" : retriever,\"question\" : RunnablePassthrough()})\n",
    "| prompt\n",
    "| llm\n",
    "| StrOutputParser()\n",
    ")"
   ]
  },
  {
   "cell_type": "code",
   "execution_count": null,
   "id": "b11e8463",
   "metadata": {},
   "outputs": [
    {
     "data": {
      "text/plain": [
       "\"Based on the provided text, DeepSeek-R1's benchmarks are ArenaHard and AlpacaEval 2.0.\""
      ]
     },
     "execution_count": 115,
     "metadata": {},
     "output_type": "execute_result"
    }
   ],
   "source": [
    "question = \"what are the benchamrk of deepseek?\"\n",
    "retrive_chain.invoke(question)"
   ]
  },
  {
   "cell_type": "code",
   "execution_count": null,
   "id": "214e27ee",
   "metadata": {},
   "outputs": [],
   "source": [
    "###Agents and tool\n",
    "from langchain.agents import Agent,initialize_agent\n",
    "from langchain_community.tools import WikipediaQueryRun\n",
    "from langchain_community.utilities import WikipediaAPIWrapper"
   ]
  },
  {
   "cell_type": "code",
   "execution_count": null,
   "id": "963144b2",
   "metadata": {},
   "outputs": [],
   "source": [
    "wikipedia_wrapper = WikipediaAPIWrapper(top_k_results=2)\n",
    "wiki_search = WikipediaQueryRun(api_wrapper=wikipedia_wrapper)"
   ]
  },
  {
   "cell_type": "code",
   "execution_count": null,
   "id": "48043059",
   "metadata": {},
   "outputs": [
    {
     "data": {
      "text/plain": [
       "\"Page: Islamabad Marriott Hotel bombing\\nSummary: The Islamabad Marriott Hotel bombing occurred on the night of 20 September 2008, when a dumper truck filled with explosives was detonated in front of the Marriott Hotel in the Pakistani capital Islamabad, killing at least 54 people, injuring at least 266 and leaving a 60 ft (18 m) wide, 20 ft (6.1 m) deep crater outside the hotel. The majority of the casualties were Pakistanis; at least five foreign nationals were also killed (including The Czech ambassador to Pakistan, Dr. Ivo Žďárek) and fifteen others reported injured. The attack occurred only hours after President Asif Ali Zardari made his first speech to the Pakistani parliament.\\nThe Marriott was the most prestigious hotel in the capital, and was located near government buildings, diplomatic missions, embassies and high commissions.\\nDuring the investigation, three suspected terrorists were arrested by the Pakistani police. They were suspected of having facilitated the suicide bomber. However, later they were acquitted of all charges as no evidence was ever presented against them.\\nOnly a few months after the hotel's bombing owner Sadruddin Hashwani had arranged a re-construction, and the Islamabad Marriott reopened officially on 28 December 2008. It is one of the worst terrorist attacks in the history of Pakistan.\\n\\nPage: List of cities with over one million inhabitants\\nSummary: This list contains all cities with one million or more inhabitants. Cities are defined in the political-geographic sense (city proper). The population figures given therefore refer to the city or municipality in the political-administrative sense. In some cases, the population figures refer to capital districts or Metropolises and, in the case of the People's Republic of China, to the urban population of the city in question. In many cases, the city boundaries do not correspond to the settlement structure and the boundaries of metropolitan regions and agglomerations often extend far beyond the administrative city boundaries. In some cases, metropolitan regions and political municipalities cannot be separated, as in the case of metropolitan municipalities or city regions, which exist in some countries. There is no globally standardised definition of what constitutes a city, and municipal divisions differ from country to country.\\nIf only the administrative boundaries of a city were taken into account, Chongqing would be the largest city in the world, with 32 million inhabitants. However, the urban population is significantly smaller at just under 14 million (2020) and is spread across various urban settlements. The city's administrative area is almost as large as Austria and larger than the Czech Republic. It consists mainly of mountains, forest and agricultural areas with a rural settlement structure.\""
      ]
     },
     "execution_count": 118,
     "metadata": {},
     "output_type": "execute_result"
    }
   ],
   "source": [
    "wiki_search.invoke(\"what is the current weather of islamabad?\")"
   ]
  },
  {
   "cell_type": "code",
   "execution_count": null,
   "id": "fa87a4b0",
   "metadata": {},
   "outputs": [
    {
     "data": {
      "text/plain": [
       "'A wrapper around Wikipedia. Useful for when you need to answer general questions about people, places, companies, facts, historical events, or other subjects. Input should be a search query.'"
      ]
     },
     "execution_count": 123,
     "metadata": {},
     "output_type": "execute_result"
    }
   ],
   "source": [
    "wiki_search.description"
   ]
  },
  {
   "cell_type": "code",
   "execution_count": null,
   "id": "8a198bb4",
   "metadata": {},
   "outputs": [
    {
     "data": {
      "text/plain": [
       "'wikipedia'"
      ]
     },
     "execution_count": 122,
     "metadata": {},
     "output_type": "execute_result"
    }
   ],
   "source": [
    "wiki_search.name"
   ]
  },
  {
   "cell_type": "code",
   "execution_count": null,
   "id": "449633b6",
   "metadata": {},
   "outputs": [],
   "source": [
    "#tools 2 tavily search for google\n",
    "\n",
    "from langchain_community.tools import YouTubeSearchTool"
   ]
  },
  {
   "cell_type": "code",
   "execution_count": null,
   "id": "9c762fa3",
   "metadata": {},
   "outputs": [],
   "source": [
    "tool = YouTubeSearchTool()"
   ]
  },
  {
   "cell_type": "code",
   "execution_count": null,
   "id": "b33969da",
   "metadata": {},
   "outputs": [
    {
     "ename": "NameError",
     "evalue": "name 'tool' is not defined",
     "output_type": "error",
     "traceback": [
      "\u001b[1;31m---------------------------------------------------------------------------\u001b[0m",
      "\u001b[1;31mNameError\u001b[0m                                 Traceback (most recent call last)",
      "Cell \u001b[1;32mIn[2], line 1\u001b[0m\n\u001b[1;32m----> 1\u001b[0m \u001b[43mtool\u001b[49m\u001b[38;5;241m.\u001b[39minvoke(\u001b[38;5;124m\"\u001b[39m\u001b[38;5;124mDownload the playlist of corey schafer about python\u001b[39m\u001b[38;5;124m\"\u001b[39m)\n",
      "\u001b[1;31mNameError\u001b[0m: name 'tool' is not defined"
     ]
    }
   ],
   "source": [
    "tool.invoke(\"Download the playlist of corey schafer about python\")"
   ]
  },
  {
   "cell_type": "code",
   "execution_count": null,
   "id": "1162951a",
   "metadata": {},
   "outputs": [],
   "source": [
    "from langchain_community.tools.tavily_search import TavilySearchResults"
   ]
  },
  {
   "cell_type": "code",
   "execution_count": null,
   "id": "03b4aa86",
   "metadata": {},
   "outputs": [],
   "source": [
    "search_engine = TavilySearchResults()"
   ]
  },
  {
   "cell_type": "code",
   "execution_count": null,
   "id": "37b01ad6",
   "metadata": {},
   "outputs": [
    {
     "data": {
      "text/plain": [
       "[{'url': 'https://www.accuweather.com/en/pk/islamabad/258278/weather-tomorrow/258278',\n",
       "  'content': 'Night ; RealFeel®67° ; WindNE at 7 mph ; Wind Gusts15 mph ; Probability of Precipitation1% ; Probability of Thunderstorms0%.'},\n",
       " {'url': 'https://www.weathercrave.com/weather-forecast-pakistan/city-26/weather-forecast-islamabad-today',\n",
       "  'content': \"Clearing but with a continued risk of thunder. Gradually fading light showers. Risk of rain 50 %. Tomorrow's weather. Weekend weather. Share. Link copied\"},\n",
       " {'url': 'https://weather.com/weather/tenday/l/Islamabad+Islamabad+Capital+Territory+Pakistan?canonicalCityId=e8dc5f47a70508ba42b3ce3df13a6182',\n",
       "  'content': 'recents\\n\\nWeather Forecasts\\n\\nRadar & Maps\\n\\nNews & Media\\n\\nProducts\\n\\nHealth & Wellness\\n\\nAccount\\n\\nLifestyle\\n\\nPrivacy\\n\\nSpecialty Forecasts\\n\\n10 Day Weather-Islamabad, Islamabad Capital Territory, Pakistan\\n\\nToday\\n\\nFri 30 | Day\\n\\nWindy with a few showers this morning. Partly cloudy skies during the afternoon hours. Hazy. High 97F. ENE winds at 25 to 35 mph, decreasing to 10 to 15 mph. Chance of rain 30%.\\n\\nHeads-up\\n\\nAlvin Forms In Eastern Pacific\\n\\nFri 30 | Night [...] Scattered thunderstorms this evening becoming more widespread overnight. Hazy. Low 71F. Winds NE at 10 to 15 mph. Chance of rain 70%.\\n\\nSat 31\\n\\nSat 31 | Day\\n\\nThunderstorms in the morning, then partly cloudy late. Hazy. High 89F. Winds NE at 10 to 15 mph. Chance of rain 60%.\\n\\nSat 31 | Night\\n\\nPartly cloudy skies. Hazy. Low near 70F. Winds NE at 5 to 10 mph.\\n\\nSun 01\\n\\nSun 01 | Day\\n\\nExcept for a few afternoon clouds, mainly sunny. Hazy. High 94F. Winds SSW at 5 to 10 mph.\\n\\nSun 01 | Night'},\n",
       " {'url': 'https://www.bbc.com/weather/1176615',\n",
       "  'content': '04:00  ,Clear Sky Clear Sky   24°76°    , 0%chance of precipitation  ,Wind speed 4 mph 6 km/h N 4 mph 6 km/h Northerly  , More details   A clear sky and light winds Humidity 51%Pressure 1001 mb Visibility Good Temperature feels like 27°80° Precipitation is not expected Light winds from the north [...] 22:00  ,Clear Sky Clear Sky   27°80°    , 0%chance of precipitation  ,Wind speed 4 mph 7 km/h ENE 4 mph 7 km/h East North Easterly  , More details   A clear sky and light winds Humidity 43%Pressure 1001 mb Visibility Good Temperature feels like 29°84° Precipitation is not expected Light winds from the east north east [...] 05:00  ,Clear Sky Clear Sky   24°75°    , 0%chance of precipitation  ,Wind speed 4 mph 6 km/h NE 4 mph 6 km/h North Easterly  , More details   A clear sky and light winds Humidity 56%Pressure 1001 mb Visibility Good Temperature feels like 26°79° Precipitation is not expected Light winds from the north east'},\n",
       " {'url': 'https://weather.com/en-PK/weather/tenday/l/Islamabad+Islamabad+Capital+Territory?canonicalCityId=e8dc5f47a70508ba42b3ce3df13a6182',\n",
       "  'content': 'recents\\n\\nAccount\\n\\nPrivacy\\n\\nSpecial Forecasts\\n\\n10-Day Weather-Islamabad, Islamabad Capital Territory\\n\\nTonight\\n\\nThu 29 | Night\\n\\nWindy, with scattered showers. Hazy. Low 21°C. Winds NE at 40 to 55 km/h. Chance of rain 30%.\\n\\nFri 30\\n\\nFri 30 | Day\\n\\nPartly cloudy. Hazy. High 37°C. Winds E at 15 to 25 km/h.\\n\\nFri 30 | Night\\n\\nThunderstorms. Hazy. Low 22°C. Winds NE at 15 to 25 km/h. Chance of rain 60%.\\n\\nSat 31\\n\\nSat 31 | Day [...] Morning thunderstorms. Hazy. High 32°C. Winds NE at 15 to 25 km/h. Chance of rain 60%.\\n\\nSat 31 | Night\\n\\nPartly cloudy. Hazy. Low 21°C. Winds NE at 10 to 15 km/h.\\n\\nSun 01\\n\\nSun 01 | Day\\n\\nGenerally clear. Hazy. High 35°C. Winds SW at 10 to 15 km/h.\\n\\nSun 01 | Night\\n\\nGenerally clear. Hazy. Low 22°C. Winds NE at 10 to 15 km/h.\\n\\nMon 02\\n\\nMon 02 | Day\\n\\nGenerally clear. Hazy. High 36°C. Winds WSW at 10 to 15 km/h.\\n\\nMon 02 | Night\\n\\nGenerally clear. Hazy. Low 23°C. Winds ENE at 10 to 15 km/h.\\n\\nTue 03'}]"
      ]
     },
     "execution_count": 145,
     "metadata": {},
     "output_type": "execute_result"
    }
   ],
   "source": [
    "search_engine.invoke(\"is there any chance of rain ins islamabad tommorow\" )"
   ]
  },
  {
   "cell_type": "code",
   "execution_count": null,
   "id": "678769dc",
   "metadata": {},
   "outputs": [
    {
     "data": {
      "text/plain": [
       "'tavily_search_results_json'"
      ]
     },
     "execution_count": 155,
     "metadata": {},
     "output_type": "execute_result"
    }
   ],
   "source": [
    "search_engine.name"
   ]
  },
  {
   "cell_type": "code",
   "execution_count": null,
   "id": "c0875a86",
   "metadata": {},
   "outputs": [],
   "source": [
    "#Agents"
   ]
  },
  {
   "cell_type": "code",
   "execution_count": null,
   "id": "3d6f6778",
   "metadata": {},
   "outputs": [],
   "source": [
    "from langchain.agents import AgentType\n",
    "from langchain.agents import Agent\n",
    "from langchain.agents import initialize_agent\n",
    "from langchain.agents import load_tools"
   ]
  },
  {
   "cell_type": "code",
   "execution_count": null,
   "id": "4d398e1d",
   "metadata": {},
   "outputs": [],
   "source": [
    "#initialize the tools\n",
    "tool = load_tools(['wikipedia'],llm=llm)"
   ]
  },
  {
   "cell_type": "code",
   "execution_count": null,
   "id": "9031426b",
   "metadata": {},
   "outputs": [
    {
     "name": "stderr",
     "output_type": "stream",
     "text": [
      "C:\\Users\\HP\\AppData\\Local\\Temp\\ipykernel_12608\\857746927.py:2: LangChainDeprecationWarning: LangChain agents will continue to be supported, but it is recommended for new use cases to be built with LangGraph. LangGraph offers a more flexible and full-featured framework for building agents, including support for tool-calling, persistence of state, and human-in-the-loop workflows. For details, refer to the `LangGraph documentation <https://langchain-ai.github.io/langgraph/>`_ as well as guides for `Migrating from AgentExecutor <https://python.langchain.com/docs/how_to/migrate_agent/>`_ and LangGraph's `Pre-built ReAct agent <https://langchain-ai.github.io/langgraph/how-tos/create-react-agent/>`_.\n",
      "  agent = initialize_agent(tools=tool,llm=llm,agent=AgentType.ZERO_SHOT_REACT_DESCRIPTION,verbose=True)\n"
     ]
    }
   ],
   "source": [
    "#initialize the agent\n",
    "agent = initialize_agent(tools=tool,llm=llm,agent=AgentType.ZERO_SHOT_REACT_DESCRIPTION,verbose=True)"
   ]
  },
  {
   "cell_type": "code",
   "execution_count": null,
   "id": "57ff6031",
   "metadata": {},
   "outputs": [
    {
     "name": "stdout",
     "output_type": "stream",
     "text": [
      "\n",
      "\n",
      "\u001b[1m> Entering new AgentExecutor chain...\u001b[0m\n",
      "\u001b[32;1m\u001b[1;3mI need to find out who Waris Hayat Abbasi is. A good first step would be to search for him on Wikipedia.\n",
      "Action: wikipedia\n",
      "Action Input: Waris Hayat Abbasi\u001b[0m\n",
      "Observation: \u001b[36;1m\u001b[1;3mPage: List of Punjabi people\n",
      "Summary: Following is a list of famous and notable Punjabi people, an ethnic group belonging to the Punjab region. It contains people mainly from what is today Punjab, Pakistan and Punjab, India, and people with Punjabi ancestry or people who speak Punjabi as their primary language.\n",
      "\n",
      "Page: List of hospitals in Pakistan\n",
      "Summary: List of hospitals in Pakistan shows the hospitals in Pakistan by administrative region and city with links to articles in Wikipedia on notable hospitals.\n",
      "According to 2016 statistics, Pakistan has more than 1200 public hospitals and 700 private hospitals. Besides these hospitals, there are also small Medical Clinics plus Maternity & Child Health Centers in different areas of Pakistan. The fees of public hospitals are marginal and affordable for all. However, private hospitals are expensive. All the doctors who are providing their services are certified and they all have a legal licence from Pakistan Medical & Dental Council (PMDC) to practice this profession.\n",
      "During the COVID-19 pandemic, hospitals in Pakistan take all the necessary measures and tackle the pandemic very effectively. The sections below show list of some of the hospitals by administrative region of Pakistan with links to notable hospitals that have articles in Wikipedia.\n",
      "\n",
      "Page: Landa Bazar (TV series)\n",
      "Summary: Landa Bazar (Urdu: لنڈا بازار, English: 'Flea Market') is a 2002 Pakistani television drama serial aired on Prime Entertainment (STN). It is directed by Dilawar Malik and written by Khalil-ur-Rehman Qamar. Premiering on 17 April 2002, the serial starred Tauqeer Nasir, Ali Zafar, Waseem Abbas, Kashif Mehmood, Babar Ali, Farah Shah, Mehmood Aslam, Jana Malik and Urooj. A sequel of the series, Laal Ishq was aired on A-Plus TV from 2017 to 2018.\u001b[0m\n",
      "Thought:\u001b[32;1m\u001b[1;3mThe search results did not provide information about Waris Hayat Abbasi. I need to try a broader search.\n",
      "Action: wikipedia\n",
      "Action Input: \"Waris Hayat Abbasi\"\u001b[0m\n",
      "Observation: \u001b[36;1m\u001b[1;3mPage: List of Punjabi people\n",
      "Summary: Following is a list of famous and notable Punjabi people, an ethnic group belonging to the Punjab region. It contains people mainly from what is today Punjab, Pakistan and Punjab, India, and people with Punjabi ancestry or people who speak Punjabi as their primary language.\n",
      "\n",
      "Page: List of hospitals in Pakistan\n",
      "Summary: List of hospitals in Pakistan shows the hospitals in Pakistan by administrative region and city with links to articles in Wikipedia on notable hospitals.\n",
      "According to 2016 statistics, Pakistan has more than 1200 public hospitals and 700 private hospitals. Besides these hospitals, there are also small Medical Clinics plus Maternity & Child Health Centers in different areas of Pakistan. The fees of public hospitals are marginal and affordable for all. However, private hospitals are expensive. All the doctors who are providing their services are certified and they all have a legal licence from Pakistan Medical & Dental Council (PMDC) to practice this profession.\n",
      "During the COVID-19 pandemic, hospitals in Pakistan take all the necessary measures and tackle the pandemic very effectively. The sections below show list of some of the hospitals by administrative region of Pakistan with links to notable hospitals that have articles in Wikipedia.\n",
      "\n",
      "Page: Landa Bazar (TV series)\n",
      "Summary: Landa Bazar (Urdu: لنڈا بازار, English: 'Flea Market') is a 2002 Pakistani television drama serial aired on Prime Entertainment (STN). It is directed by Dilawar Malik and written by Khalil-ur-Rehman Qamar. Premiering on 17 April 2002, the serial starred Tauqeer Nasir, Ali Zafar, Waseem Abbas, Kashif Mehmood, Babar Ali, Farah Shah, Mehmood Aslam, Jana Malik and Urooj. A sequel of the series, Laal Ishq was aired on A-Plus TV from 2017 to 2018.\u001b[0m\n",
      "Thought:\u001b[32;1m\u001b[1;3mI was unable to find information about Waris Hayat Abbasi on Wikipedia.\n",
      "Final Answer: I am sorry, I am unable to find information about Waris Hayat Abbasi.\u001b[0m\n",
      "\n",
      "\u001b[1m> Finished chain.\u001b[0m\n"
     ]
    },
    {
     "data": {
      "text/plain": [
       "'I am sorry, I am unable to find information about Waris Hayat Abbasi.'"
      ]
     },
     "execution_count": 160,
     "metadata": {},
     "output_type": "execute_result"
    }
   ],
   "source": [
    "agent.run(\"what is waris hayat Abbasi?\")"
   ]
  },
  {
   "cell_type": "markdown",
   "id": "05e7f725",
   "metadata": {},
   "source": [
    "#Strt with predefined tools than i will create the tools from the scratch"
   ]
  },
  {
   "cell_type": "code",
   "execution_count": 29,
   "id": "50a53e03",
   "metadata": {},
   "outputs": [
    {
     "data": {
      "text/plain": [
       "'wikipedia'"
      ]
     },
     "execution_count": 29,
     "metadata": {},
     "output_type": "execute_result"
    }
   ],
   "source": [
    "from langchain_community.tools import WikipediaQueryRun\n",
    "from langchain_community.utilities import WikipediaAPIWrapper\n",
    "\n",
    "\n",
    "Wiki_Wrapper = WikipediaAPIWrapper()\n",
    "Wiki_Search = WikipediaQueryRun(api_wrapper=Wiki_Wrapper)\n",
    "Wiki_Search.name"
   ]
  },
  {
   "cell_type": "code",
   "execution_count": 34,
   "id": "b9f4acf5",
   "metadata": {},
   "outputs": [
    {
     "data": {
      "text/plain": [
       "'Page: Muhammad Ali Jinnah\\nSummary: Muhammad Ali Jinnah (born Mahomedali Jinnahbhai; 25 December 1876 – 11 September 1948) was a barrister, politician, and the founder of Pakistan. Jinnah served as the leader of the All-India Muslim League from 1913 until the inception of Pakistan on 14 August 1947 and then as Pakistan\\'s first governor-general until his death.\\nBorn at Wazir Mansion in Karachi, Jinnah was trained as a barrister at Lincoln\\'s Inn in London, England. Upon his return to India, he enrolled at the Bombay High Court, and took an interest in national politics, which eventually replaced his legal practice. Jinnah rose to prominence in the Indian National Congress in the first two decades of the 20th century. In these early years of his political career, Jinnah advocated Hindu–Muslim unity, helping to shape the 1916 Lucknow Pact between the Congress and the All-India Muslim League, in which Jinnah had also become prominent. Jinnah became a key leader in the All-India Home Rule League, and proposed a fourteen-point constitutional reform plan to safeguard the political rights of Muslims in the Indian subcontinent. In 1920, however, Jinnah resigned from the Congress when it agreed to follow a campaign of satyagraha, which he regarded as political anarchy.\\nAfter joining the All-India Muslim League, Jinnah worked for the rights of Muslims in the subcontinent to protect them from the threat of marginalization in a Hindu-dominated state. In 1940, the Muslim League, led by Jinnah, passed the Lahore Resolution. During the Second World War, the League gained strength while leaders of the Congress were imprisoned, and in the provincial elections held shortly after the war, it won most of the seats reserved for Muslims. Ultimately, the Congress and the Muslim League could not reach a power-sharing formula that would allow the entirety of British India to be united as a single state following independence, leading all parties to agree instead to the independence of a Hindu-majority India, and for a predominantly Muslim state of Pakistan.\\nAs the first governor-general of Pakistan, Jinnah worked to establish the new nation\\'s government and policies and to aid the millions of Muslim migrants who had emigrated from regions that became part of the Dominion of India to Pakistan after the independence of both states, personally supervising the establishment of refugee camps. Jinnah died at age 71 in September 1948, just over a year after Pakistan gained independence from the United Kingdom. He left a deep and respected legacy in Pakistan. Several universities and public buildings in Pakistan bear Jinnah\\'s name.  He is revered in Pakistan as the Quaid-e-Azam (\"Great Leader\") and Baba-e-Qaum (\"Father of the Nation\"). His birthday is also observed as a national holiday in the country. According to his biographer, Stanley Wolpert, Jinnah remains Pakistan\\'s greatest leader.\\n\\nPage: Rattanbai Jinnah\\nSummary: Rattanbai Jinnah (née Petit, also known as Maryam Jinnah; 20 February 1900 – 20 February 1929), informally known as Ruttie, was the wife of Muhammad Ali Jinnah, an important figure in the creation of Pakistan and the country\\'s founder. \\nPetit belonged to two of the most influential families of the Indian Subcontinent, the Petit family through her father and the Jinnah family through her marriage to Jinnah. Her daughter Dina Wadia was married to Bombay Dyeing chairman Neville Wadia.\\n\\nPage: Syed Ahmad Khan\\nSummary: Sir Syed Ahmad Khan  (17 October 1817 – 27 March 1898), also spelled Sayyid Ahmad Khan, was an Indian Muslim reformer, philosopher, and educationist in nineteenth-century British India. \\nThough initially espousing Hindu–Muslim unity, he later became the pioneer of Muslim nationalism in India and is widely credited as the father of the two-nation theory, which formed the basis of the Pakistan movement. Born into a family with strong ties to the Mughal court, Ahmad studied science and the Quran within the court. He was awarded an honorar'"
      ]
     },
     "execution_count": 34,
     "metadata": {},
     "output_type": "execute_result"
    }
   ],
   "source": [
    "Wiki_Search.invoke(\"Write something about quaid e  azam muhammad ali jinnah?\")"
   ]
  },
  {
   "cell_type": "code",
   "execution_count": 38,
   "id": "58f6b25e",
   "metadata": {},
   "outputs": [],
   "source": [
    "#youtube search tools\n",
    "from langchain_community.tools import YouTubeSearchTool\n",
    "\n",
    "Youtube_tool = YouTubeSearchTool()"
   ]
  },
  {
   "cell_type": "code",
   "execution_count": 40,
   "id": "2873bdad",
   "metadata": {},
   "outputs": [
    {
     "data": {
      "text/plain": [
       "\"['https://www.youtube.com/shorts/OPIU4LJzn4k', 'https://www.youtube.com/shorts/5B41CPvYMjY']\""
      ]
     },
     "execution_count": 40,
     "metadata": {},
     "output_type": "execute_result"
    }
   ],
   "source": [
    "Youtube_tool.invoke(\"Suggest the best 10 playlist of python with most viewd?\")"
   ]
  },
  {
   "cell_type": "code",
   "execution_count": 49,
   "id": "4a847659",
   "metadata": {},
   "outputs": [],
   "source": [
    "from langchain_community.tools import YahooFinanceNewsTool\n",
    "\n",
    "\n",
    "finance_news = YahooFinanceNewsTool()"
   ]
  },
  {
   "cell_type": "code",
   "execution_count": 53,
   "id": "631b4cb5",
   "metadata": {},
   "outputs": [],
   "source": [
    "from langchain_community.tools.tavily_search import TavilySearchResults"
   ]
  },
  {
   "cell_type": "code",
   "execution_count": 54,
   "id": "c01e8fbf",
   "metadata": {},
   "outputs": [],
   "source": [
    "tavily = TavilySearchResults()"
   ]
  },
  {
   "cell_type": "code",
   "execution_count": 60,
   "id": "af7585b9",
   "metadata": {},
   "outputs": [
    {
     "data": {
      "text/plain": [
       "[{'url': 'https://magazine.sebastianraschka.com/p/llm-research-papers-the-2024-list',\n",
       "  'content': \"This magazine is a personal passion project. For those who wish to support me, please consider purchasing a copy of my Build a Large Language Model (From Scratch) book. (I am confident that you'll get lots out of this book as it explains how LLMs work in a level of detail that is not found anywhere else.) [...] 29 Nov, Critical Tokens Matter: Token-Level Contrastive Estimation Enhances LLM's Reasoning Capability, https://arxiv.org/abs/2411.19943\\n\\n\\nDecember 2024\\n\\n\\n2 Dec, Switti: Designing Scale-Wise Transformers for Text-to-Image Synthesis, https://arxiv.org/abs/2412.01819\\n\\n\\n2 Dec, X-Prompt: Towards Universal In-Context Image Generation in Auto-Regressive Vision Language Foundation Models, https://arxiv.org/abs/2412.01824 [...] 23 Oct, Scalable Ranked Preference Optimization for Text-to-Image Generation, https://arxiv.org/abs/2410.18013\\n\\n\\n23 Oct, Scaling Diffusion Language Models via Adaptation from Autoregressive Models, https://arxiv.org/abs/2410.17891\\n\\n\\n24 Oct, Hybrid Preferences: Learning to Route Instances for Human vs. AI Feedback, https://arxiv.org/abs/2410.19133\\n\\n\\n25 Oct, Counting Ability of Large Language Models and Impact of Tokenization, https://arxiv.org/abs/2410.19730\"}]"
      ]
     },
     "execution_count": 60,
     "metadata": {},
     "output_type": "execute_result"
    }
   ],
   "source": [
    "tavily.invoke(\"hwlp to get me the letast paper of llm\") #tavily get the ressources from the internet"
   ]
  },
  {
   "cell_type": "code",
   "execution_count": null,
   "id": "0a51968b",
   "metadata": {},
   "outputs": [],
   "source": [
    "#now creat a custom tool\n",
    "#lets creat a tool that will count the length of the words\n",
    "\n",
    "from langchain.agents import load_tools,tool\n",
    "\n",
    "@tool\n",
    "def count_words_length(data):\n",
    "    \"count how much total character in the data\"\n",
    "\n",
    "    return len(data)\n"
   ]
  },
  {
   "cell_type": "code",
   "execution_count": 67,
   "id": "0c4d6945",
   "metadata": {},
   "outputs": [
    {
     "data": {
      "text/plain": [
       "40"
      ]
     },
     "execution_count": 67,
     "metadata": {},
     "output_type": "execute_result"
    }
   ],
   "source": [
    "count_words_length.invoke(\"Do you know whom waris sent the bitcoin?\")"
   ]
  },
  {
   "cell_type": "code",
   "execution_count": 69,
   "id": "6d760864",
   "metadata": {},
   "outputs": [],
   "source": [
    "@tool\n",
    "def multiply_the_number(a,b):\n",
    "    \"\"\"\n",
    "    you are a helpful tool basically you will take the data either it can be in the form of string or number \n",
    "    than you will multiply the number that were given in the data if number are not given just simply said i can only assit\n",
    "    with the numbers\"\"\"\n",
    "\n",
    "    return a*b\n"
   ]
  },
  {
   "cell_type": "code",
   "execution_count": 77,
   "id": "1530fc6b",
   "metadata": {},
   "outputs": [
    {
     "name": "stdout",
     "output_type": "stream",
     "text": [
      "multiply_the_number\n",
      "you are a helpful tool basically you will take the data either it can be in the form of string or number \n",
      "than you will multiply the number that were given in the data if number are not given just simply said i can only assit\n",
      "with the numbers\n"
     ]
    },
    {
     "data": {
      "text/plain": [
       "130"
      ]
     },
     "execution_count": 77,
     "metadata": {},
     "output_type": "execute_result"
    }
   ],
   "source": [
    "print(multiply_the_number.name)\n",
    "print(multiply_the_number.description)\n",
    "multiply_the_number.invoke({\"a\":10,\"b\":13})"
   ]
  },
  {
   "cell_type": "code",
   "execution_count": 78,
   "id": "1ad7c17f",
   "metadata": {},
   "outputs": [],
   "source": [
    "# lets make the agent that have the internet acess which can search the answer from the internet.\n"
   ]
  },
  {
   "cell_type": "code",
   "execution_count": null,
   "id": "1af1ca49",
   "metadata": {},
   "outputs": [],
   "source": []
  }
 ],
 "metadata": {
  "kernelspec": {
   "display_name": "Python 3",
   "language": "python",
   "name": "python3"
  },
  "language_info": {
   "codemirror_mode": {
    "name": "ipython",
    "version": 3
   },
   "file_extension": ".py",
   "mimetype": "text/x-python",
   "name": "python",
   "nbconvert_exporter": "python",
   "pygments_lexer": "ipython3",
   "version": "3.13.1"
  }
 },
 "nbformat": 4,
 "nbformat_minor": 5
}
