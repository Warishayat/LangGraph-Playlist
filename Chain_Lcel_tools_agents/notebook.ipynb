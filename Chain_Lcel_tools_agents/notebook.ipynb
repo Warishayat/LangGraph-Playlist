{
 "cells": [
  {
   "cell_type": "code",
   "execution_count": 1,
   "id": "08e685c6",
   "metadata": {},
   "outputs": [],
   "source": [
    "import os\n",
    "from dotenv import load_dotenv"
   ]
  },
  {
   "cell_type": "code",
   "execution_count": null,
   "id": "2bcce666",
   "metadata": {},
   "outputs": [
    {
     "name": "stdout",
     "output_type": "stream",
     "text": [
      "you are good to go\n"
     ]
    }
   ],
   "source": [
    "load_dotenv()\n",
    "\n",
    "GEMINI_API_KEY = os.environ.get(\"GEMINI_API_KEY\")\n",
    "LANGSMITH_API_KEY = os.environ.get(\"LANGSMITH_API_KEY\")\n",
    "TAVILY_API_KEY = os.environ.get(\"TAVILY_API_KEY\")\n",
    "\n",
    "if GEMINI_API_KEY and LANGSMITH_API_KEY and TAVILY_API_KEY:\n",
    "    print(\"you are good to go\")\n",
    "else:\n",
    "    print(\"set your apis keys agian\")"
   ]
  },
  {
   "cell_type": "code",
   "execution_count": 14,
   "id": "5dc5acb9",
   "metadata": {},
   "outputs": [],
   "source": [
    "#set up the model\n",
    "import langchain\n",
    "from langchain_google_genai import ChatGoogleGenerativeAI"
   ]
  },
  {
   "cell_type": "code",
   "execution_count": 15,
   "id": "4303dc31",
   "metadata": {},
   "outputs": [],
   "source": [
    "llm = ChatGoogleGenerativeAI(model=\"gemini-2.0-flash\", api_key=GEMINI_API_KEY)"
   ]
  },
  {
   "cell_type": "code",
   "execution_count": 16,
   "id": "87db9ecb",
   "metadata": {},
   "outputs": [
    {
     "data": {
      "text/plain": [
       "'I\\'m sorry, I don\\'t have real-time weather updates. To get the current weather in Islamabad, I recommend checking a reliable weather app or website like:\\n\\n*   **Google Weather:** Just search \"weather in Islamabad\" on Google.\\n*   **AccuWeather:**\\n*   **The Weather Channel:**\\n\\nThese sources will give you the most up-to-date information.'"
      ]
     },
     "execution_count": 16,
     "metadata": {},
     "output_type": "execute_result"
    }
   ],
   "source": [
    "llm.invoke(\"What is weather right now in islamabad?\").content"
   ]
  },
  {
   "cell_type": "code",
   "execution_count": null,
   "id": "0b2f1ee5",
   "metadata": {},
   "outputs": [],
   "source": []
  },
  {
   "cell_type": "code",
   "execution_count": null,
   "id": "2e746910",
   "metadata": {},
   "outputs": [],
   "source": []
  },
  {
   "cell_type": "code",
   "execution_count": null,
   "id": "4c6aa9b9",
   "metadata": {},
   "outputs": [],
   "source": []
  }
 ],
 "metadata": {
  "kernelspec": {
   "display_name": "Python 3",
   "language": "python",
   "name": "python3"
  },
  "language_info": {
   "codemirror_mode": {
    "name": "ipython",
    "version": 3
   },
   "file_extension": ".py",
   "mimetype": "text/x-python",
   "name": "python",
   "nbconvert_exporter": "python",
   "pygments_lexer": "ipython3",
   "version": "3.13.1"
  }
 },
 "nbformat": 4,
 "nbformat_minor": 5
}
