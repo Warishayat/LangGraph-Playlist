{
  "cells": [
    {
      "cell_type": "code",
      "execution_count": 1,
      "metadata": {
        "id": "isHvpYr4y_Ya"
      },
      "outputs": [],
      "source": [
        "import numpy  as np\n",
        "import pandas as pd\n",
        "import matplotlib.pyplot as plt\n",
        "import seaborn as sns\n",
        "import warnings\n",
        "warnings.filterwarnings('ignore')"
      ]
    },
    {
      "cell_type": "code",
      "execution_count": 2,
      "metadata": {
        "id": "yaxBlAn-zMgr"
      },
      "outputs": [],
      "source": [
        "#setup the enviromenet\n",
        "from google.colab import userdata\n",
        "GEMINI = userdata.get('GEMINI-API-KEY')\n",
        "Tavily = userdata.get(\"TAVILY_API_KEY\")\n",
        "LANGSMITH = userdata.get(\"LANGSMITH_API_KEY\")"
      ]
    },
    {
      "cell_type": "code",
      "execution_count": 3,
      "metadata": {
        "colab": {
          "base_uri": "https://localhost:8080/",
          "height": 1000
        },
        "id": "BioAXYrUz2zr",
        "outputId": "fe0b61a2-5de2-4057-ea86-79608487260c"
      },
      "outputs": [
        {
          "output_type": "stream",
          "name": "stdout",
          "text": [
            "Requirement already satisfied: langchain in /usr/local/lib/python3.11/dist-packages (0.3.25)\n",
            "Collecting langchain_community\n",
            "  Downloading langchain_community-0.3.25-py3-none-any.whl.metadata (2.9 kB)\n",
            "Collecting langchain-google-genai\n",
            "  Downloading langchain_google_genai-2.1.5-py3-none-any.whl.metadata (5.2 kB)\n",
            "Requirement already satisfied: langchain-core<1.0.0,>=0.3.58 in /usr/local/lib/python3.11/dist-packages (from langchain) (0.3.63)\n",
            "Requirement already satisfied: langchain-text-splitters<1.0.0,>=0.3.8 in /usr/local/lib/python3.11/dist-packages (from langchain) (0.3.8)\n",
            "Requirement already satisfied: langsmith<0.4,>=0.1.17 in /usr/local/lib/python3.11/dist-packages (from langchain) (0.3.44)\n",
            "Requirement already satisfied: pydantic<3.0.0,>=2.7.4 in /usr/local/lib/python3.11/dist-packages (from langchain) (2.11.5)\n",
            "Requirement already satisfied: SQLAlchemy<3,>=1.4 in /usr/local/lib/python3.11/dist-packages (from langchain) (2.0.41)\n",
            "Requirement already satisfied: requests<3,>=2 in /usr/local/lib/python3.11/dist-packages (from langchain) (2.32.3)\n",
            "Requirement already satisfied: PyYAML>=5.3 in /usr/local/lib/python3.11/dist-packages (from langchain) (6.0.2)\n",
            "Collecting langchain-core<1.0.0,>=0.3.58 (from langchain)\n",
            "  Downloading langchain_core-0.3.65-py3-none-any.whl.metadata (5.8 kB)\n",
            "Requirement already satisfied: aiohttp<4.0.0,>=3.8.3 in /usr/local/lib/python3.11/dist-packages (from langchain_community) (3.11.15)\n",
            "Requirement already satisfied: tenacity!=8.4.0,<10,>=8.1.0 in /usr/local/lib/python3.11/dist-packages (from langchain_community) (9.1.2)\n",
            "Collecting dataclasses-json<0.7,>=0.5.7 (from langchain_community)\n",
            "  Downloading dataclasses_json-0.6.7-py3-none-any.whl.metadata (25 kB)\n",
            "Collecting pydantic-settings<3.0.0,>=2.4.0 (from langchain_community)\n",
            "  Downloading pydantic_settings-2.9.1-py3-none-any.whl.metadata (3.8 kB)\n",
            "Collecting httpx-sse<1.0.0,>=0.4.0 (from langchain_community)\n",
            "  Downloading httpx_sse-0.4.0-py3-none-any.whl.metadata (9.0 kB)\n",
            "Requirement already satisfied: numpy>=1.26.2 in /usr/local/lib/python3.11/dist-packages (from langchain_community) (2.0.2)\n",
            "Collecting filetype<2.0.0,>=1.2.0 (from langchain-google-genai)\n",
            "  Downloading filetype-1.2.0-py2.py3-none-any.whl.metadata (6.5 kB)\n",
            "Collecting google-ai-generativelanguage<0.7.0,>=0.6.18 (from langchain-google-genai)\n",
            "  Downloading google_ai_generativelanguage-0.6.18-py3-none-any.whl.metadata (9.8 kB)\n",
            "Requirement already satisfied: aiohappyeyeballs>=2.3.0 in /usr/local/lib/python3.11/dist-packages (from aiohttp<4.0.0,>=3.8.3->langchain_community) (2.6.1)\n",
            "Requirement already satisfied: aiosignal>=1.1.2 in /usr/local/lib/python3.11/dist-packages (from aiohttp<4.0.0,>=3.8.3->langchain_community) (1.3.2)\n",
            "Requirement already satisfied: attrs>=17.3.0 in /usr/local/lib/python3.11/dist-packages (from aiohttp<4.0.0,>=3.8.3->langchain_community) (25.3.0)\n",
            "Requirement already satisfied: frozenlist>=1.1.1 in /usr/local/lib/python3.11/dist-packages (from aiohttp<4.0.0,>=3.8.3->langchain_community) (1.6.0)\n",
            "Requirement already satisfied: multidict<7.0,>=4.5 in /usr/local/lib/python3.11/dist-packages (from aiohttp<4.0.0,>=3.8.3->langchain_community) (6.4.4)\n",
            "Requirement already satisfied: propcache>=0.2.0 in /usr/local/lib/python3.11/dist-packages (from aiohttp<4.0.0,>=3.8.3->langchain_community) (0.3.1)\n",
            "Requirement already satisfied: yarl<2.0,>=1.17.0 in /usr/local/lib/python3.11/dist-packages (from aiohttp<4.0.0,>=3.8.3->langchain_community) (1.20.0)\n",
            "Collecting marshmallow<4.0.0,>=3.18.0 (from dataclasses-json<0.7,>=0.5.7->langchain_community)\n",
            "  Downloading marshmallow-3.26.1-py3-none-any.whl.metadata (7.3 kB)\n",
            "Collecting typing-inspect<1,>=0.4.0 (from dataclasses-json<0.7,>=0.5.7->langchain_community)\n",
            "  Downloading typing_inspect-0.9.0-py3-none-any.whl.metadata (1.5 kB)\n",
            "Requirement already satisfied: google-api-core!=2.0.*,!=2.1.*,!=2.10.*,!=2.2.*,!=2.3.*,!=2.4.*,!=2.5.*,!=2.6.*,!=2.7.*,!=2.8.*,!=2.9.*,<3.0.0,>=1.34.1 in /usr/local/lib/python3.11/dist-packages (from google-api-core[grpc]!=2.0.*,!=2.1.*,!=2.10.*,!=2.2.*,!=2.3.*,!=2.4.*,!=2.5.*,!=2.6.*,!=2.7.*,!=2.8.*,!=2.9.*,<3.0.0,>=1.34.1->google-ai-generativelanguage<0.7.0,>=0.6.18->langchain-google-genai) (2.25.0)\n",
            "Requirement already satisfied: google-auth!=2.24.0,!=2.25.0,<3.0.0,>=2.14.1 in /usr/local/lib/python3.11/dist-packages (from google-ai-generativelanguage<0.7.0,>=0.6.18->langchain-google-genai) (2.38.0)\n",
            "Requirement already satisfied: proto-plus<2.0.0,>=1.22.3 in /usr/local/lib/python3.11/dist-packages (from google-ai-generativelanguage<0.7.0,>=0.6.18->langchain-google-genai) (1.26.1)\n",
            "Requirement already satisfied: protobuf!=4.21.0,!=4.21.1,!=4.21.2,!=4.21.3,!=4.21.4,!=4.21.5,<7.0.0,>=3.20.2 in /usr/local/lib/python3.11/dist-packages (from google-ai-generativelanguage<0.7.0,>=0.6.18->langchain-google-genai) (5.29.5)\n",
            "Collecting langsmith<0.4,>=0.1.17 (from langchain)\n",
            "  Downloading langsmith-0.3.45-py3-none-any.whl.metadata (15 kB)\n",
            "Requirement already satisfied: jsonpatch<2.0,>=1.33 in /usr/local/lib/python3.11/dist-packages (from langchain-core<1.0.0,>=0.3.58->langchain) (1.33)\n",
            "Requirement already satisfied: packaging<25,>=23.2 in /usr/local/lib/python3.11/dist-packages (from langchain-core<1.0.0,>=0.3.58->langchain) (24.2)\n",
            "Requirement already satisfied: typing-extensions>=4.7 in /usr/local/lib/python3.11/dist-packages (from langchain-core<1.0.0,>=0.3.58->langchain) (4.14.0)\n",
            "Requirement already satisfied: httpx<1,>=0.23.0 in /usr/local/lib/python3.11/dist-packages (from langsmith<0.4,>=0.1.17->langchain) (0.28.1)\n",
            "Requirement already satisfied: orjson<4.0.0,>=3.9.14 in /usr/local/lib/python3.11/dist-packages (from langsmith<0.4,>=0.1.17->langchain) (3.10.18)\n",
            "Requirement already satisfied: requests-toolbelt<2.0.0,>=1.0.0 in /usr/local/lib/python3.11/dist-packages (from langsmith<0.4,>=0.1.17->langchain) (1.0.0)\n",
            "Requirement already satisfied: zstandard<0.24.0,>=0.23.0 in /usr/local/lib/python3.11/dist-packages (from langsmith<0.4,>=0.1.17->langchain) (0.23.0)\n",
            "Requirement already satisfied: annotated-types>=0.6.0 in /usr/local/lib/python3.11/dist-packages (from pydantic<3.0.0,>=2.7.4->langchain) (0.7.0)\n",
            "Requirement already satisfied: pydantic-core==2.33.2 in /usr/local/lib/python3.11/dist-packages (from pydantic<3.0.0,>=2.7.4->langchain) (2.33.2)\n",
            "Requirement already satisfied: typing-inspection>=0.4.0 in /usr/local/lib/python3.11/dist-packages (from pydantic<3.0.0,>=2.7.4->langchain) (0.4.1)\n",
            "Collecting python-dotenv>=0.21.0 (from pydantic-settings<3.0.0,>=2.4.0->langchain_community)\n",
            "  Downloading python_dotenv-1.1.0-py3-none-any.whl.metadata (24 kB)\n",
            "Requirement already satisfied: charset-normalizer<4,>=2 in /usr/local/lib/python3.11/dist-packages (from requests<3,>=2->langchain) (3.4.2)\n",
            "Requirement already satisfied: idna<4,>=2.5 in /usr/local/lib/python3.11/dist-packages (from requests<3,>=2->langchain) (3.10)\n",
            "Requirement already satisfied: urllib3<3,>=1.21.1 in /usr/local/lib/python3.11/dist-packages (from requests<3,>=2->langchain) (2.4.0)\n",
            "Requirement already satisfied: certifi>=2017.4.17 in /usr/local/lib/python3.11/dist-packages (from requests<3,>=2->langchain) (2025.4.26)\n",
            "Requirement already satisfied: greenlet>=1 in /usr/local/lib/python3.11/dist-packages (from SQLAlchemy<3,>=1.4->langchain) (3.2.2)\n",
            "Requirement already satisfied: googleapis-common-protos<2.0.0,>=1.56.2 in /usr/local/lib/python3.11/dist-packages (from google-api-core!=2.0.*,!=2.1.*,!=2.10.*,!=2.2.*,!=2.3.*,!=2.4.*,!=2.5.*,!=2.6.*,!=2.7.*,!=2.8.*,!=2.9.*,<3.0.0,>=1.34.1->google-api-core[grpc]!=2.0.*,!=2.1.*,!=2.10.*,!=2.2.*,!=2.3.*,!=2.4.*,!=2.5.*,!=2.6.*,!=2.7.*,!=2.8.*,!=2.9.*,<3.0.0,>=1.34.1->google-ai-generativelanguage<0.7.0,>=0.6.18->langchain-google-genai) (1.70.0)\n",
            "Requirement already satisfied: grpcio<2.0.0,>=1.33.2 in /usr/local/lib/python3.11/dist-packages (from google-api-core[grpc]!=2.0.*,!=2.1.*,!=2.10.*,!=2.2.*,!=2.3.*,!=2.4.*,!=2.5.*,!=2.6.*,!=2.7.*,!=2.8.*,!=2.9.*,<3.0.0,>=1.34.1->google-ai-generativelanguage<0.7.0,>=0.6.18->langchain-google-genai) (1.72.1)\n",
            "Requirement already satisfied: grpcio-status<2.0.0,>=1.33.2 in /usr/local/lib/python3.11/dist-packages (from google-api-core[grpc]!=2.0.*,!=2.1.*,!=2.10.*,!=2.2.*,!=2.3.*,!=2.4.*,!=2.5.*,!=2.6.*,!=2.7.*,!=2.8.*,!=2.9.*,<3.0.0,>=1.34.1->google-ai-generativelanguage<0.7.0,>=0.6.18->langchain-google-genai) (1.71.0)\n",
            "Requirement already satisfied: cachetools<6.0,>=2.0.0 in /usr/local/lib/python3.11/dist-packages (from google-auth!=2.24.0,!=2.25.0,<3.0.0,>=2.14.1->google-ai-generativelanguage<0.7.0,>=0.6.18->langchain-google-genai) (5.5.2)\n",
            "Requirement already satisfied: pyasn1-modules>=0.2.1 in /usr/local/lib/python3.11/dist-packages (from google-auth!=2.24.0,!=2.25.0,<3.0.0,>=2.14.1->google-ai-generativelanguage<0.7.0,>=0.6.18->langchain-google-genai) (0.4.2)\n",
            "Requirement already satisfied: rsa<5,>=3.1.4 in /usr/local/lib/python3.11/dist-packages (from google-auth!=2.24.0,!=2.25.0,<3.0.0,>=2.14.1->google-ai-generativelanguage<0.7.0,>=0.6.18->langchain-google-genai) (4.9.1)\n",
            "Requirement already satisfied: anyio in /usr/local/lib/python3.11/dist-packages (from httpx<1,>=0.23.0->langsmith<0.4,>=0.1.17->langchain) (4.9.0)\n",
            "Requirement already satisfied: httpcore==1.* in /usr/local/lib/python3.11/dist-packages (from httpx<1,>=0.23.0->langsmith<0.4,>=0.1.17->langchain) (1.0.9)\n",
            "Requirement already satisfied: h11>=0.16 in /usr/local/lib/python3.11/dist-packages (from httpcore==1.*->httpx<1,>=0.23.0->langsmith<0.4,>=0.1.17->langchain) (0.16.0)\n",
            "Requirement already satisfied: jsonpointer>=1.9 in /usr/local/lib/python3.11/dist-packages (from jsonpatch<2.0,>=1.33->langchain-core<1.0.0,>=0.3.58->langchain) (3.0.0)\n",
            "Collecting mypy-extensions>=0.3.0 (from typing-inspect<1,>=0.4.0->dataclasses-json<0.7,>=0.5.7->langchain_community)\n",
            "  Downloading mypy_extensions-1.1.0-py3-none-any.whl.metadata (1.1 kB)\n",
            "Requirement already satisfied: pyasn1<0.7.0,>=0.6.1 in /usr/local/lib/python3.11/dist-packages (from pyasn1-modules>=0.2.1->google-auth!=2.24.0,!=2.25.0,<3.0.0,>=2.14.1->google-ai-generativelanguage<0.7.0,>=0.6.18->langchain-google-genai) (0.6.1)\n",
            "Requirement already satisfied: sniffio>=1.1 in /usr/local/lib/python3.11/dist-packages (from anyio->httpx<1,>=0.23.0->langsmith<0.4,>=0.1.17->langchain) (1.3.1)\n",
            "Downloading langchain_community-0.3.25-py3-none-any.whl (2.5 MB)\n",
            "\u001b[2K   \u001b[90m━━━━━━━━━━━━━━━━━━━━━━━━━━━━━━━━━━━━━━━━\u001b[0m \u001b[32m2.5/2.5 MB\u001b[0m \u001b[31m27.3 MB/s\u001b[0m eta \u001b[36m0:00:00\u001b[0m\n",
            "\u001b[?25hDownloading langchain_google_genai-2.1.5-py3-none-any.whl (44 kB)\n",
            "\u001b[2K   \u001b[90m━━━━━━━━━━━━━━━━━━━━━━━━━━━━━━━━━━━━━━━━\u001b[0m \u001b[32m44.8/44.8 kB\u001b[0m \u001b[31m3.0 MB/s\u001b[0m eta \u001b[36m0:00:00\u001b[0m\n",
            "\u001b[?25hDownloading dataclasses_json-0.6.7-py3-none-any.whl (28 kB)\n",
            "Downloading filetype-1.2.0-py2.py3-none-any.whl (19 kB)\n",
            "Downloading google_ai_generativelanguage-0.6.18-py3-none-any.whl (1.4 MB)\n",
            "\u001b[2K   \u001b[90m━━━━━━━━━━━━━━━━━━━━━━━━━━━━━━━━━━━━━━━━\u001b[0m \u001b[32m1.4/1.4 MB\u001b[0m \u001b[31m45.3 MB/s\u001b[0m eta \u001b[36m0:00:00\u001b[0m\n",
            "\u001b[?25hDownloading httpx_sse-0.4.0-py3-none-any.whl (7.8 kB)\n",
            "Downloading langchain_core-0.3.65-py3-none-any.whl (438 kB)\n",
            "\u001b[2K   \u001b[90m━━━━━━━━━━━━━━━━━━━━━━━━━━━━━━━━━━━━━━━━\u001b[0m \u001b[32m438.1/438.1 kB\u001b[0m \u001b[31m24.8 MB/s\u001b[0m eta \u001b[36m0:00:00\u001b[0m\n",
            "\u001b[?25hDownloading langsmith-0.3.45-py3-none-any.whl (363 kB)\n",
            "\u001b[2K   \u001b[90m━━━━━━━━━━━━━━━━━━━━━━━━━━━━━━━━━━━━━━━━\u001b[0m \u001b[32m363.0/363.0 kB\u001b[0m \u001b[31m20.4 MB/s\u001b[0m eta \u001b[36m0:00:00\u001b[0m\n",
            "\u001b[?25hDownloading pydantic_settings-2.9.1-py3-none-any.whl (44 kB)\n",
            "\u001b[2K   \u001b[90m━━━━━━━━━━━━━━━━━━━━━━━━━━━━━━━━━━━━━━━━\u001b[0m \u001b[32m44.4/44.4 kB\u001b[0m \u001b[31m2.4 MB/s\u001b[0m eta \u001b[36m0:00:00\u001b[0m\n",
            "\u001b[?25hDownloading marshmallow-3.26.1-py3-none-any.whl (50 kB)\n",
            "\u001b[2K   \u001b[90m━━━━━━━━━━━━━━━━━━━━━━━━━━━━━━━━━━━━━━━━\u001b[0m \u001b[32m50.9/50.9 kB\u001b[0m \u001b[31m3.1 MB/s\u001b[0m eta \u001b[36m0:00:00\u001b[0m\n",
            "\u001b[?25hDownloading python_dotenv-1.1.0-py3-none-any.whl (20 kB)\n",
            "Downloading typing_inspect-0.9.0-py3-none-any.whl (8.8 kB)\n",
            "Downloading mypy_extensions-1.1.0-py3-none-any.whl (5.0 kB)\n",
            "Installing collected packages: filetype, python-dotenv, mypy-extensions, marshmallow, httpx-sse, typing-inspect, pydantic-settings, langsmith, dataclasses-json, langchain-core, google-ai-generativelanguage, langchain-google-genai, langchain_community\n",
            "  Attempting uninstall: langsmith\n",
            "    Found existing installation: langsmith 0.3.44\n",
            "    Uninstalling langsmith-0.3.44:\n",
            "      Successfully uninstalled langsmith-0.3.44\n",
            "  Attempting uninstall: langchain-core\n",
            "    Found existing installation: langchain-core 0.3.63\n",
            "    Uninstalling langchain-core-0.3.63:\n",
            "      Successfully uninstalled langchain-core-0.3.63\n",
            "  Attempting uninstall: google-ai-generativelanguage\n",
            "    Found existing installation: google-ai-generativelanguage 0.6.15\n",
            "    Uninstalling google-ai-generativelanguage-0.6.15:\n",
            "      Successfully uninstalled google-ai-generativelanguage-0.6.15\n",
            "\u001b[31mERROR: pip's dependency resolver does not currently take into account all the packages that are installed. This behaviour is the source of the following dependency conflicts.\n",
            "google-generativeai 0.8.5 requires google-ai-generativelanguage==0.6.15, but you have google-ai-generativelanguage 0.6.18 which is incompatible.\u001b[0m\u001b[31m\n",
            "\u001b[0mSuccessfully installed dataclasses-json-0.6.7 filetype-1.2.0 google-ai-generativelanguage-0.6.18 httpx-sse-0.4.0 langchain-core-0.3.65 langchain-google-genai-2.1.5 langchain_community-0.3.25 langsmith-0.3.45 marshmallow-3.26.1 mypy-extensions-1.1.0 pydantic-settings-2.9.1 python-dotenv-1.1.0 typing-inspect-0.9.0\n"
          ]
        },
        {
          "output_type": "display_data",
          "data": {
            "application/vnd.colab-display-data+json": {
              "pip_warning": {
                "packages": [
                  "google"
                ]
              },
              "id": "f181c970b9fa410b8ef3283e47426dd5"
            }
          },
          "metadata": {}
        }
      ],
      "source": [
        "!pip install langchain langchain_community langchain-google-genai"
      ]
    },
    {
      "cell_type": "code",
      "execution_count": 4,
      "metadata": {
        "colab": {
          "base_uri": "https://localhost:8080/",
          "height": 144
        },
        "id": "iZWwlF420AbU",
        "outputId": "499bdb5d-16c3-4117-c689-8d958b1740cc"
      },
      "outputs": [
        {
          "output_type": "execute_result",
          "data": {
            "text/plain": [
              "\"Imran Khan Niazi is a Pakistani politician and former cricketer who served as the 22nd Prime Minister of Pakistan from August 2018 until April 2022.\\n\\nHere's a bit more about him:\\n\\n*   **Cricket Career:** Before entering politics, Khan was a world-renowned cricketer. He captained the Pakistan national cricket team to victory in the 1992 Cricket World Cup. He is widely regarded as one of the greatest cricketers of all time.\\n\\n*   **Political Career:** Khan founded the Pakistan Tehreek-e-Insaf (PTI) political party in 1996. He served as Prime Minister from 2018 to 2022, during which time his government focused on issues such as anti-corruption, economic reform, and an independent foreign policy.\\n\\n*   **Ouster:** Khan was removed from office in April 2022 following a vote of no confidence in the National Assembly. He alleges that his ouster was the result of a US-led conspiracy.\\n\\n*   **Recent Events:** Since being removed from power, Khan has remained a prominent political figure in Pakistan, leading large public rallies and criticizing the current government. He has faced various legal challenges and arrests.\""
            ],
            "application/vnd.google.colaboratory.intrinsic+json": {
              "type": "string"
            }
          },
          "metadata": {},
          "execution_count": 4
        }
      ],
      "source": [
        "from langchain_google_genai import ChatGoogleGenerativeAI\n",
        "\n",
        "Model = ChatGoogleGenerativeAI(\n",
        "    model = \"gemini-2.0-flash\",\n",
        "    api_key = GEMINI\n",
        ")\n",
        "\n",
        "Model.invoke(\"Who is imran khan niazi from pakistan\").content"
      ]
    },
    {
      "cell_type": "code",
      "execution_count": 5,
      "metadata": {
        "colab": {
          "base_uri": "https://localhost:8080/"
        },
        "id": "qE-WqxSR0OR8",
        "outputId": "1217dcfa-0fe4-47a8-f40a-15bc10b53d69"
      },
      "outputs": [
        {
          "output_type": "stream",
          "name": "stdout",
          "text": [
            "Collecting langgraph\n",
            "  Downloading langgraph-0.4.8-py3-none-any.whl.metadata (6.8 kB)\n",
            "Requirement already satisfied: langchain-core>=0.1 in /usr/local/lib/python3.11/dist-packages (from langgraph) (0.3.65)\n",
            "Collecting langgraph-checkpoint>=2.0.26 (from langgraph)\n",
            "  Downloading langgraph_checkpoint-2.0.26-py3-none-any.whl.metadata (4.6 kB)\n",
            "Collecting langgraph-prebuilt>=0.2.0 (from langgraph)\n",
            "  Downloading langgraph_prebuilt-0.2.2-py3-none-any.whl.metadata (4.5 kB)\n",
            "Collecting langgraph-sdk>=0.1.42 (from langgraph)\n",
            "  Downloading langgraph_sdk-0.1.70-py3-none-any.whl.metadata (1.5 kB)\n",
            "Requirement already satisfied: pydantic>=2.7.4 in /usr/local/lib/python3.11/dist-packages (from langgraph) (2.11.5)\n",
            "Requirement already satisfied: xxhash>=3.5.0 in /usr/local/lib/python3.11/dist-packages (from langgraph) (3.5.0)\n",
            "Requirement already satisfied: langsmith<0.4,>=0.3.45 in /usr/local/lib/python3.11/dist-packages (from langchain-core>=0.1->langgraph) (0.3.45)\n",
            "Requirement already satisfied: tenacity!=8.4.0,<10.0.0,>=8.1.0 in /usr/local/lib/python3.11/dist-packages (from langchain-core>=0.1->langgraph) (9.1.2)\n",
            "Requirement already satisfied: jsonpatch<2.0,>=1.33 in /usr/local/lib/python3.11/dist-packages (from langchain-core>=0.1->langgraph) (1.33)\n",
            "Requirement already satisfied: PyYAML>=5.3 in /usr/local/lib/python3.11/dist-packages (from langchain-core>=0.1->langgraph) (6.0.2)\n",
            "Requirement already satisfied: packaging<25,>=23.2 in /usr/local/lib/python3.11/dist-packages (from langchain-core>=0.1->langgraph) (24.2)\n",
            "Requirement already satisfied: typing-extensions>=4.7 in /usr/local/lib/python3.11/dist-packages (from langchain-core>=0.1->langgraph) (4.14.0)\n",
            "Collecting ormsgpack<2.0.0,>=1.8.0 (from langgraph-checkpoint>=2.0.26->langgraph)\n",
            "  Downloading ormsgpack-1.10.0-cp311-cp311-manylinux_2_17_x86_64.manylinux2014_x86_64.whl.metadata (43 kB)\n",
            "\u001b[2K     \u001b[90m━━━━━━━━━━━━━━━━━━━━━━━━━━━━━━━━━━━━━━━━\u001b[0m \u001b[32m43.7/43.7 kB\u001b[0m \u001b[31m2.4 MB/s\u001b[0m eta \u001b[36m0:00:00\u001b[0m\n",
            "\u001b[?25hRequirement already satisfied: httpx>=0.25.2 in /usr/local/lib/python3.11/dist-packages (from langgraph-sdk>=0.1.42->langgraph) (0.28.1)\n",
            "Requirement already satisfied: orjson>=3.10.1 in /usr/local/lib/python3.11/dist-packages (from langgraph-sdk>=0.1.42->langgraph) (3.10.18)\n",
            "Requirement already satisfied: annotated-types>=0.6.0 in /usr/local/lib/python3.11/dist-packages (from pydantic>=2.7.4->langgraph) (0.7.0)\n",
            "Requirement already satisfied: pydantic-core==2.33.2 in /usr/local/lib/python3.11/dist-packages (from pydantic>=2.7.4->langgraph) (2.33.2)\n",
            "Requirement already satisfied: typing-inspection>=0.4.0 in /usr/local/lib/python3.11/dist-packages (from pydantic>=2.7.4->langgraph) (0.4.1)\n",
            "Requirement already satisfied: anyio in /usr/local/lib/python3.11/dist-packages (from httpx>=0.25.2->langgraph-sdk>=0.1.42->langgraph) (4.9.0)\n",
            "Requirement already satisfied: certifi in /usr/local/lib/python3.11/dist-packages (from httpx>=0.25.2->langgraph-sdk>=0.1.42->langgraph) (2025.4.26)\n",
            "Requirement already satisfied: httpcore==1.* in /usr/local/lib/python3.11/dist-packages (from httpx>=0.25.2->langgraph-sdk>=0.1.42->langgraph) (1.0.9)\n",
            "Requirement already satisfied: idna in /usr/local/lib/python3.11/dist-packages (from httpx>=0.25.2->langgraph-sdk>=0.1.42->langgraph) (3.10)\n",
            "Requirement already satisfied: h11>=0.16 in /usr/local/lib/python3.11/dist-packages (from httpcore==1.*->httpx>=0.25.2->langgraph-sdk>=0.1.42->langgraph) (0.16.0)\n",
            "Requirement already satisfied: jsonpointer>=1.9 in /usr/local/lib/python3.11/dist-packages (from jsonpatch<2.0,>=1.33->langchain-core>=0.1->langgraph) (3.0.0)\n",
            "Requirement already satisfied: requests<3,>=2 in /usr/local/lib/python3.11/dist-packages (from langsmith<0.4,>=0.3.45->langchain-core>=0.1->langgraph) (2.32.3)\n",
            "Requirement already satisfied: requests-toolbelt<2.0.0,>=1.0.0 in /usr/local/lib/python3.11/dist-packages (from langsmith<0.4,>=0.3.45->langchain-core>=0.1->langgraph) (1.0.0)\n",
            "Requirement already satisfied: zstandard<0.24.0,>=0.23.0 in /usr/local/lib/python3.11/dist-packages (from langsmith<0.4,>=0.3.45->langchain-core>=0.1->langgraph) (0.23.0)\n",
            "Requirement already satisfied: charset-normalizer<4,>=2 in /usr/local/lib/python3.11/dist-packages (from requests<3,>=2->langsmith<0.4,>=0.3.45->langchain-core>=0.1->langgraph) (3.4.2)\n",
            "Requirement already satisfied: urllib3<3,>=1.21.1 in /usr/local/lib/python3.11/dist-packages (from requests<3,>=2->langsmith<0.4,>=0.3.45->langchain-core>=0.1->langgraph) (2.4.0)\n",
            "Requirement already satisfied: sniffio>=1.1 in /usr/local/lib/python3.11/dist-packages (from anyio->httpx>=0.25.2->langgraph-sdk>=0.1.42->langgraph) (1.3.1)\n",
            "Downloading langgraph-0.4.8-py3-none-any.whl (152 kB)\n",
            "\u001b[2K   \u001b[90m━━━━━━━━━━━━━━━━━━━━━━━━━━━━━━━━━━━━━━━━\u001b[0m \u001b[32m152.4/152.4 kB\u001b[0m \u001b[31m3.3 MB/s\u001b[0m eta \u001b[36m0:00:00\u001b[0m\n",
            "\u001b[?25hDownloading langgraph_checkpoint-2.0.26-py3-none-any.whl (44 kB)\n",
            "\u001b[2K   \u001b[90m━━━━━━━━━━━━━━━━━━━━━━━━━━━━━━━━━━━━━━━━\u001b[0m \u001b[32m44.2/44.2 kB\u001b[0m \u001b[31m2.9 MB/s\u001b[0m eta \u001b[36m0:00:00\u001b[0m\n",
            "\u001b[?25hDownloading langgraph_prebuilt-0.2.2-py3-none-any.whl (23 kB)\n",
            "Downloading langgraph_sdk-0.1.70-py3-none-any.whl (49 kB)\n",
            "\u001b[2K   \u001b[90m━━━━━━━━━━━━━━━━━━━━━━━━━━━━━━━━━━━━━━━━\u001b[0m \u001b[32m50.0/50.0 kB\u001b[0m \u001b[31m3.0 MB/s\u001b[0m eta \u001b[36m0:00:00\u001b[0m\n",
            "\u001b[?25hDownloading ormsgpack-1.10.0-cp311-cp311-manylinux_2_17_x86_64.manylinux2014_x86_64.whl (216 kB)\n",
            "\u001b[2K   \u001b[90m━━━━━━━━━━━━━━━━━━━━━━━━━━━━━━━━━━━━━━━━\u001b[0m \u001b[32m216.5/216.5 kB\u001b[0m \u001b[31m10.3 MB/s\u001b[0m eta \u001b[36m0:00:00\u001b[0m\n",
            "\u001b[?25hInstalling collected packages: ormsgpack, langgraph-sdk, langgraph-checkpoint, langgraph-prebuilt, langgraph\n",
            "Successfully installed langgraph-0.4.8 langgraph-checkpoint-2.0.26 langgraph-prebuilt-0.2.2 langgraph-sdk-0.1.70 ormsgpack-1.10.0\n"
          ]
        }
      ],
      "source": [
        "!pip install langgraph"
      ]
    },
    {
      "cell_type": "code",
      "execution_count": 6,
      "metadata": {
        "id": "xxsSmH6X14at"
      },
      "outputs": [],
      "source": [
        "from typing_extensions import TypedDict\n",
        "from langchain_core.messages import AIMessage,HumanMessage,SystemMessage"
      ]
    },
    {
      "cell_type": "code",
      "execution_count": null,
      "metadata": {
        "id": "eXrA2Yvy2GyW"
      },
      "outputs": [],
      "source": [
        "# Start with tools messages\n",
        "# wehn we intract with the llm we get the response only till the date when llm was trained let suppose i am asking to google what will be the weather tommrow llm cant answer\n",
        "# for these type of cases we gona used tools and respons from that basically this is the somple work of langgraph."
      ]
    },
    {
      "cell_type": "code",
      "execution_count": 7,
      "metadata": {
        "id": "mL7alCST3HJ0"
      },
      "outputs": [],
      "source": [
        "from pprint import pprint\n",
        "messages = [AIMessage(content=\"so your name is waris\", name=\"AI Assistant\")]\n",
        "messages.append(HumanMessage(content=\"what is my name\",name=\"Human assistant\"))\n",
        "messages.append(AIMessage(content=\"AS you dicussed already that your name is waris.so our name is waris\",name=\"AI Assistant\"))\n",
        "messages.append(HumanMessage(content=\"You got it perfect\",name=\"Human assistant\"))"
      ]
    },
    {
      "cell_type": "code",
      "execution_count": 8,
      "metadata": {
        "colab": {
          "base_uri": "https://localhost:8080/"
        },
        "id": "suTPGpQi5hAf",
        "outputId": "4f69cbb4-70b4-4e18-a03b-2d508d9b864e"
      },
      "outputs": [
        {
          "output_type": "execute_result",
          "data": {
            "text/plain": [
              "[AIMessage(content='so your name is waris', additional_kwargs={}, response_metadata={}, name='AI Assistant'),\n",
              " HumanMessage(content='what is my name', additional_kwargs={}, response_metadata={}, name='Human assistant'),\n",
              " AIMessage(content='AS you dicussed already that your name is waris.so our name is waris', additional_kwargs={}, response_metadata={}, name='AI Assistant'),\n",
              " HumanMessage(content='You got it perfect', additional_kwargs={}, response_metadata={}, name='Human assistant')]"
            ]
          },
          "metadata": {},
          "execution_count": 8
        }
      ],
      "source": [
        "messages"
      ]
    },
    {
      "cell_type": "code",
      "execution_count": 9,
      "metadata": {
        "colab": {
          "base_uri": "https://localhost:8080/"
        },
        "id": "y9K-QUD-5jUq",
        "outputId": "7f5c6155-cf4a-4489-df3f-0eff7fa606fd"
      },
      "outputs": [
        {
          "output_type": "stream",
          "name": "stdout",
          "text": [
            "==================================\u001b[1m Ai Message \u001b[0m==================================\n",
            "Name: AI Assistant\n",
            "\n",
            "so your name is waris\n",
            "================================\u001b[1m Human Message \u001b[0m=================================\n",
            "Name: Human assistant\n",
            "\n",
            "what is my name\n",
            "==================================\u001b[1m Ai Message \u001b[0m==================================\n",
            "Name: AI Assistant\n",
            "\n",
            "AS you dicussed already that your name is waris.so our name is waris\n",
            "================================\u001b[1m Human Message \u001b[0m=================================\n",
            "Name: Human assistant\n",
            "\n",
            "You got it perfect\n"
          ]
        }
      ],
      "source": [
        "for m in messages:\n",
        "  m.pretty_print()"
      ]
    },
    {
      "cell_type": "code",
      "execution_count": 10,
      "metadata": {
        "colab": {
          "base_uri": "https://localhost:8080/"
        },
        "id": "oULX40FJ5rfO",
        "outputId": "16b9a979-d71d-4ddd-8c3b-e6bfe2142da7"
      },
      "outputs": [
        {
          "output_type": "execute_result",
          "data": {
            "text/plain": [
              "AIMessage(content='Okay, here\\'s a roadmap to learning LangGraph, designed to take you from beginner to building complex conversational applications:\\n\\n**Phase 1: Foundations (Understanding the Basics)**\\n\\n*   **Goal:**  Understand the core concepts behind LangGraph and its purpose.\\n\\n*   **Resources:**\\n    *   **LangChain Documentation (Crucial):**\\n        *   Start with the official LangChain documentation on LangGraph: [https://python.langchain.com/docs/langgraph](https://python.langchain.com/docs/langgraph)\\n        *   Pay close attention to the introductory sections, key concepts like:\\n            *   **Nodes:**  The fundamental building blocks of your graph (LLMs, tools, functions, etc.).\\n            *   **Edges:**  The connections between nodes, defining the flow of information.\\n            *   **State:**  How data is passed between nodes and updated throughout the graph\\'s execution.\\n            *   **Conditional Edges:**  Edges that determine the flow based on conditions.\\n            *   **Cycles:**  Creating loops in your graph for iterative processes.\\n    *   **LangChain Blog Posts/Tutorials (Optional):** Look for introductory blog posts or tutorials specifically on LangGraph.  The LangChain team and community often release helpful content.\\n    *   **LangChain YouTube Channel (Optional):** Check the official LangChain YouTube channel for any videos on LangGraph.\\n\\n*   **Steps:**\\n    1.  **Read the LangGraph Introduction:**  Thoroughly read the introduction and overview sections in the LangChain documentation.\\n    2.  **Understand the Core Concepts:**  Make sure you grasp the definitions and purpose of nodes, edges, state, conditional edges, and cycles.  Draw diagrams or create mental models to help you visualize these concepts.\\n    3.  **Basic Example:**  Work through a simple \"hello world\" LangGraph example from the documentation.  Get it running and understand how the data flows.\\n\\n**Phase 2: Building Simple Graphs**\\n\\n*   **Goal:**  Implement basic LangGraph applications with a few nodes and simple logic.\\n\\n*   **Resources:**\\n    *   **LangChain Documentation (Examples):**  Focus on the examples provided in the LangChain documentation.  These are invaluable.\\n    *   **LangChain Cookbook (If Available):**  Check the LangChain Cookbook for LangGraph recipes.\\n    *   **Community Forums/Discord:**  Join the LangChain community forums (e.g., Discord) to ask questions and see how others are using LangGraph.\\n\\n*   **Steps:**\\n    1.  **Simple Conversational Agent:**  Create a basic LangGraph that acts as a conversational agent.  This might involve:\\n        *   A node for receiving user input.\\n        *   A node for an LLM (e.g., GPT-3.5) to generate a response.\\n        *   A node for outputting the response to the user.\\n    2.  **Conditional Routing:**  Implement a LangGraph with conditional edges.  For example:\\n        *   A node to analyze user input and determine the user\\'s intent (e.g., \"book a flight\", \"get weather information\").\\n        *   Conditional edges to route the flow to different branches based on the intent.\\n        *   Separate branches for booking flights and getting weather information.\\n    3.  **Tool Integration:**  Integrate a simple tool (e.g., a search engine) into your LangGraph.  This might involve:\\n        *   A node to determine when to use the tool.\\n        *   A node to call the tool and retrieve results.\\n        *   A node to incorporate the tool\\'s results into the LLM\\'s response.\\n    4.  **Experiment with State:**  Learn how to manage state within your LangGraph.  Store information about the conversation history or user preferences.\\n\\n**Phase 3: Advanced Concepts and Complex Applications**\\n\\n*   **Goal:**  Build more sophisticated LangGraph applications with complex logic, cycles, and advanced features.\\n\\n*   **Resources:**\\n    *   **LangChain Documentation (Advanced Sections):**  Explore the advanced sections of the LangChain documentation, including topics like:\\n        *   **Custom Nodes:**  Creating your own custom node types.\\n        *   **Parallel Execution:**  Running nodes in parallel for faster performance.\\n        *   **Error Handling:**  Implementing robust error handling in your graph.\\n    *   **Research Papers (If Applicable):**  If you\\'re working on cutting-edge applications, consider reading research papers related to graph-based conversational models.\\n    *   **Open-Source LangChain Projects:**  Examine open-source LangChain projects that use LangGraph to see how others are implementing complex solutions.\\n\\n*   **Steps:**\\n    1.  **Implement Cycles:**  Create a LangGraph that uses cycles to iteratively refine a response or perform a multi-step task.  For example, a graph that iteratively generates and evaluates code until it meets certain criteria.\\n    2.  **Custom Nodes:**  Build your own custom node types to encapsulate specific logic or integrate with external services.\\n    3.  **Parallel Execution:**  Experiment with running nodes in parallel to improve the performance of your LangGraph.\\n    4.  **Robust Error Handling:**  Implement comprehensive error handling to gracefully handle exceptions and prevent your graph from crashing.\\n    5.  **Real-World Application:**  Build a more complex LangGraph application that solves a real-world problem.  This could be a customer service chatbot, a personal assistant, or a tool for automating complex workflows.\\n    6.  **Contribute to the Community:**  Share your knowledge and experience with the LangChain community.  Contribute to open-source projects or write blog posts about your LangGraph projects.\\n\\n**Tips for Success:**\\n\\n*   **Start Small:**  Don\\'t try to build a complex application right away.  Start with simple examples and gradually increase the complexity.\\n*   **Read the Documentation Carefully:**  The LangChain documentation is your best resource.  Read it thoroughly and refer to it often.\\n*   **Experiment and Iterate:**  Don\\'t be afraid to experiment with different approaches.  Try things out and see what works best.\\n*   **Ask for Help:**  If you get stuck, don\\'t hesitate to ask for help from the LangChain community.\\n*   **Focus on Understanding, Not Just Copying:**  Make sure you understand the underlying concepts and principles behind LangGraph, rather than just copying code snippets.\\n*   **Version Control (Git):**  Use Git to track your changes and experiment without fear of breaking your code.\\n\\n**Example Project Ideas:**\\n\\n*   **Interactive Story Generator:** A LangGraph that generates a story based on user input, with choices that branch the narrative.\\n*   **Personalized Learning Tutor:** A LangGraph that adapts its teaching style and content based on the student\\'s learning progress.\\n*   **Automated Code Reviewer:** A LangGraph that analyzes code and provides feedback on potential issues.\\n*   **Multi-Agent Collaboration:** A LangGraph that coordinates the actions of multiple agents to achieve a common goal.\\n\\nBy following this roadmap and putting in the effort, you can become proficient in LangGraph and build powerful conversational applications. Good luck!', additional_kwargs={}, response_metadata={'prompt_feedback': {'block_reason': 0, 'safety_ratings': []}, 'finish_reason': 'STOP', 'model_name': 'gemini-2.0-flash', 'safety_ratings': []}, id='run--0a29c963-6c6e-4b53-af70-e2aaad823d1d-0', usage_metadata={'input_tokens': 50, 'output_tokens': 1557, 'total_tokens': 1607, 'input_token_details': {'cache_read': 0}})"
            ]
          },
          "metadata": {},
          "execution_count": 10
        }
      ],
      "source": [
        "messages.append(HumanMessage(content=\"could you help me to make the roadmap of langgraph how i can learn it.\",name=\"Human Assistant\"))\n",
        "Model.invoke(messages)"
      ]
    },
    {
      "cell_type": "code",
      "execution_count": 11,
      "metadata": {
        "id": "ABCnQBa57C8l"
      },
      "outputs": [],
      "source": [
        "#lets dicuss the tools\n",
        "def deposit_money(name:str, account_number:int, amount:int):\n",
        "  \"\"\"this is the function which will used to deposit the money in the account_number and amount mentioned\n",
        "\n",
        "  Args:\n",
        "  name: str\n",
        "  account_number : int\n",
        "  amount : int\n",
        "\n",
        "  \"\"\"\n",
        "  return f\"Successfully ${amount} has been deposited in the {account_number} on the name {name}\""
      ]
    },
    {
      "cell_type": "code",
      "execution_count": 12,
      "metadata": {
        "colab": {
          "base_uri": "https://localhost:8080/"
        },
        "id": "7vbpZ-g8-DIk",
        "outputId": "014073b8-b763-43e7-8a99-0ce79b90a618"
      },
      "outputs": [
        {
          "output_type": "stream",
          "name": "stdout",
          "text": [
            "Successfully $12129 has been deposited in the 12122 on the name waris\n"
          ]
        }
      ],
      "source": [
        "print(deposit_money(name=\"waris\",account_number=12122,amount=12129))"
      ]
    },
    {
      "cell_type": "code",
      "execution_count": 14,
      "metadata": {
        "id": "8QgRW7Y27BtD"
      },
      "outputs": [],
      "source": [
        "Model_with_tool = Model.bind_tools([deposit_money])"
      ]
    },
    {
      "cell_type": "code",
      "execution_count": 15,
      "metadata": {
        "colab": {
          "base_uri": "https://localhost:8080/"
        },
        "id": "jtaXX7AS841O",
        "outputId": "140f88b0-3bb6-4713-ccc3-8c88c15fc825"
      },
      "outputs": [
        {
          "output_type": "execute_result",
          "data": {
            "text/plain": [
              "AIMessage(content='I am sorry, but I cannot fulfill this request. I am programmed to be a helpful and harmless AI assistant. Sending money on behalf of a user would violate my ethical guidelines and security protocols. I cannot ask for or send Personally Identifiable Information (PII).', additional_kwargs={}, response_metadata={'prompt_feedback': {'block_reason': 0, 'safety_ratings': []}, 'finish_reason': 'STOP', 'model_name': 'gemini-2.0-flash', 'safety_ratings': []}, id='run--f8da72b0-b29f-4263-95c8-fdbc9acb9106-0', usage_metadata={'input_tokens': 27, 'output_tokens': 53, 'total_tokens': 80, 'input_token_details': {'cache_read': 0}})"
            ]
          },
          "metadata": {},
          "execution_count": 15
        }
      ],
      "source": [
        "Model.invoke([HumanMessage(content=\"could you please sent the 1000 rupes in the acount 3298392 of waris\",name=\"Human Assistant\")])"
      ]
    },
    {
      "cell_type": "code",
      "execution_count": 16,
      "metadata": {
        "colab": {
          "base_uri": "https://localhost:8080/"
        },
        "id": "b-5_wBoR9DXX",
        "outputId": "4c5b0c1b-dca7-4aee-fed3-8804d239fe95"
      },
      "outputs": [
        {
          "output_type": "execute_result",
          "data": {
            "text/plain": [
              "AIMessage(content='', additional_kwargs={'function_call': {'name': 'deposit_money', 'arguments': '{\"account_number\": 3298392.0, \"amount\": 1000.0, \"name\": \"waris\"}'}}, response_metadata={'prompt_feedback': {'block_reason': 0, 'safety_ratings': []}, 'finish_reason': 'STOP', 'model_name': 'gemini-2.0-flash', 'safety_ratings': []}, id='run--d6b23446-9a95-4be5-b95a-cb52b509a611-0', tool_calls=[{'name': 'deposit_money', 'args': {'account_number': 3298392.0, 'amount': 1000.0, 'name': 'waris'}, 'id': '23ad5128-cd36-45b3-8bff-7b0df2f6a40c', 'type': 'tool_call'}], usage_metadata={'input_tokens': 66, 'output_tokens': 12, 'total_tokens': 78, 'input_token_details': {'cache_read': 0}})"
            ]
          },
          "metadata": {},
          "execution_count": 16
        }
      ],
      "source": [
        "Model_with_tool.invoke([HumanMessage(content=\"could you please sent the 1000 rupes in the acount 3298392 of waris\",name=\"Human Assistant\")])  #now this one is passing the parametrs to the model as mentioned in the prompt"
      ]
    },
    {
      "cell_type": "code",
      "execution_count": 17,
      "metadata": {
        "colab": {
          "base_uri": "https://localhost:8080/"
        },
        "id": "_UMdkVtM9KPw",
        "outputId": "9ef45a88-a557-4b8f-a8c9-65f3ba4593ee"
      },
      "outputs": [
        {
          "output_type": "execute_result",
          "data": {
            "text/plain": [
              "AIMessage(content='Sachin Tendulkar is widely regarded as one of the greatest cricketers of all time. He holds numerous records in the sport, including being the highest run-scorer in both Test and One Day International cricket. Tendulkar is the only player to have scored 100 international centuries and was the first to score a double century in a One Day International match. He is often referred to as the \"God of Cricket\" by his fans.', additional_kwargs={}, response_metadata={'prompt_feedback': {'block_reason': 0, 'safety_ratings': []}, 'finish_reason': 'STOP', 'model_name': 'gemini-2.0-flash', 'safety_ratings': []}, id='run--731dfb70-f583-4174-a9f3-1cf116c666dd-0', usage_metadata={'input_tokens': 48, 'output_tokens': 93, 'total_tokens': 141, 'input_token_details': {'cache_read': 0}})"
            ]
          },
          "metadata": {},
          "execution_count": 17
        }
      ],
      "source": [
        "Model_with_tool.invoke([HumanMessage(content=\"write something about sachin tandulkar?\",name=\"Human assistant\")])"
      ]
    },
    {
      "cell_type": "code",
      "execution_count": 19,
      "metadata": {
        "id": "l7B3uHce-6Nr"
      },
      "outputs": [],
      "source": [
        "#lts build the graph\n",
        "from typing_extensions import TypedDict\n",
        "from langgraph.graph import StateGraph,START,END\n",
        "\n",
        "\n",
        "class ChatHistory(TypedDict):\n",
        "  messages : list          #this will override the state and will not provide the whole context hisotry.\n",
        "\n",
        "\n",
        "def Model_Response(state:ChatHistory):\n",
        "  message = state[\"messages\"]\n",
        "  response = Model_with_tool.invoke(message)\n",
        "  return {f\"messages\": [response]}\n",
        "\n",
        "\n",
        "\n",
        "# #define the graph\n",
        "\n",
        "Builder = StateGraph(ChatHistory)\n",
        "\n",
        "Builder.add_node(\"ChatBot\",Model_Response)\n",
        "Builder.add_edge(START,\"ChatBot\")\n",
        "Builder.add_edge(\"ChatBot\",END)\n",
        "\n",
        "# compile the graph\n",
        "App =  Builder.compile()"
      ]
    },
    {
      "cell_type": "code",
      "execution_count": 20,
      "metadata": {
        "colab": {
          "base_uri": "https://localhost:8080/",
          "height": 1000
        },
        "id": "fIjsAeI_H11z",
        "outputId": "8c4b7a94-3b45-471f-8b9e-0d89e8bbd7d2"
      },
      "outputs": [
        {
          "output_type": "display_data",
          "data": {
            "text/plain": [
              "b'\\x89PNG\\r\\n\\x1a\\n\\x00\\x00\\x00\\rIHDR\\x00\\x00\\x00j\\x00\\x00\\x00\\xea\\x08\\x02\\x00\\x00\\x00\\xc5\\xf3G\\x18\\x00\\x00\\x10\\x00IDATx\\x9c\\xec\\x9d\\tXTU\\xdf\\xc0/\\xcc\\xbe\\x0f\\x0c\\xdb\\x00\"\\x9b\\x98  \\x8ab*\\xae\\xa8X\\x98\\xb9\\xe1\\xd2\\xa2\\x96\\xaf\\xb9\\xbc\\x96KVf\\xa9\\xb9\\x7f\\xa5ie\\x9a\\xa5\\xbe\\xd9\\xe2\\xf2jj\\x8a\\x96=\\x95{\\xee\\x82\\x8a\\x1b\\x02\\xb2\\xef\\xcb0\\xfb\\n\\xdf\\x7f\\x98\"\\xc2\\x99;\\x03g\\x86w\\x80\\xf3{x\\xe6\\xb9s\\xef\\xb9\\xc3\\xdc\\xdf\\xfc\\xef9\\xe7\\x9es\\xef9\\xd4\\xba\\xba:\\x02\\xd3R\\xa8\\x04\\x06\\x01\\xac\\x0f\\t\\xac\\x0f\\t\\xac\\x0f\\t\\xac\\x0f\\t\\xac\\x0f\\tT}%9j\\x85\\xd4\\xa0V\\x18\\xd4J\\x83A\\xd76\\xea@\\x14\\x9a\\x0b\\x93Mar(\\\\\\x01\\xc5\\xbb3\\x93@\\xc0\\xa5e\\xf5\\xbe\\xc7\\xe9\\x8a\\xectE\\xd6m9OH\\xe5\\xbb\\xd3\\xe0\\xab09\\xae4\\xba+\\xd1\\x16\\xd0ik\\xd5\\x8aZ\\x95\\xc2 \\xad\\xd4)j\\xf4!\\xd1\\xdc\\xe0\\xee\\x9c\\xc0\\x08\\x0e\\xd1|\\x9a\\xad\\xaf,_s\\xe6`\\x99NS\\xdb5\\x96\\x1f\\xda\\x83+\\xf4\\xa4\\x11m\\x19I\\xb9\\xeeQ\\xaa\\xec\\xe1u\\x19\\x83\\xe5:x\\xa2\\x97\\xa7?\\xa3Y\\xbb7C\\x1f\\x9c\\x9b\\xe7\\x0e\\x97\\xe7>P\\xc6%\\xbaw\\x8b\\xe3\\x13\\xed\\x8b\\xbb\\x97\\xa4W\\x7f\\xae\\x0c\\x8e\\xe4\\x0e\\x9a\\xe0i\\xfb^\\xb6\\xeaS\\xc9\\r\\xc7\\xbf,\\x82\\x9cb\\xd0\\xf8f|z\\xdb\\xc2\\x18\\x1fG\\xca+\\n5I\\xff\\xf2eq)\\xb6\\xecb\\x93\\xbe\\xcab\\xed\\xb1/\\n{\\x0cv\\x8b\\x19\"$\\xda;7~\\xad\\xbe}\\xa1f\\xccl_w\\x1f\\xba\\xd5\\xc4\\xd6\\xf5A\\xe6\\xba\\x7fc~\\xfcX\\x8f\\xb0\\x9e<\\xa2c\\x00Y\\xe1\\x1f)\\x15\\xc9\\x8b\\x028|+1h\\xa5\\xac\\xd4kk\\x8f\\xed(\\x8a\\x8a\\x17t\\x1cw@\\xd7X^\\xc4\\xd3\\x82\\xe3_\\x16\\x1a\\xf4Vb\\xcb\\x8a\\xbe+?WA\\xd9\\xda{\\x84;\\xd1\\xc1\\xe83\\xd2\\x9d+\\xa4^=UE\\x9e\\x8cL_M\\x85\\xee\\xc15Y\\xc2\\x0b>D\\x87d\\xc4\\x8b>\\xf7\\xafJe\\xd5z\\x924d\\xfa.\\x1c\\xad\\x80\\xb8\\xa3\\xd1]\\x88\\x0e\\t\\x9d\\xe9\\xdas\\x88\\xdb\\xf9\\xa3\\xe5$i,\\xea\\x83\\xd0\\xab(\\xd6D\\xf6\\x17\\x10\\x1d\\x98\\xa8xai\\xae\\x86$\\x00-\\xea{\\x94*\\x07w.m\\xe32\\xccQ\\xb8R\\x08\\x90\\x00\\x97%\\x16\\x13X\\xda\\x90yK\\xd6\\xb9[K.\\x03Q\\x18<xpII\\t\\xd1L\\xf6\\xef\\xdf\\xbfj\\xd5*\\xc21t\\xee\\xc6\\xceL\\x93[\\xdaj^\\x9f\\\\\\xa2W\\xc9\\x0c\"\\xb1\\xf5z\\xa3\\x1d)((\\x90\\xcb\\xe5\\xcd\\xdf\\x8f\\xb8w\\xef\\x1e\\xe10\\xe0*XZ\\xa5\\xb7t\\xfe\\x9ao\\xb0*\\xceQ7\\xf7\\xe2\\xd9v\\xa0\\xa2\\xfe\\xfd\\xf7\\xdf\\x9f<y2777$$\\xa4o\\xdf\\xbe\\xb3g\\xcf\\xbeq\\xe3\\xc6\\x9c9s`kRR\\x12\\xc4\\xe0\\xc6\\x8d\\x1b333\\x0f\\x1d:t\\xed\\xda5\\x88GH6~\\xfc\\xf81c\\xc6@\\x82\\x8c\\x8c\\x8c\\xa9S\\xa7~\\xf2\\xc9\\'\\x1f|\\xf0\\x81\\x97\\x97\\x17\\x8b\\xc5JMM\\x85\\xf5\\xc7\\x8e\\x1d\\xdb\\xbbwoXX\\x18ao\\xbc\\xfc\\x19\\xd0P\\xc2s3\\xe3\\xca\\xbc>\\x8d\\xc2\\xc0\\xe29\\xaa%\\x15\\xdc\\xed\\xd9\\xb3g\\xfa\\xf4\\xe9 \\xa5\\xa8\\xa8\\xe8\\xf3\\xcf?\\x17\\x08\\x04/\\xbc\\xf0\\xc2\\xe6\\xcd\\x9b\\x17.\\\\\\x98\\x92\\x92\\xe2\\xe3c\\xac*m\\xda\\xb4\\xa9\\xb4\\xb4t\\xe9\\xd2\\xa5...YYY\\xabW\\xaf\\x0e\\x08\\x08\\x88\\x89\\x89\\xa1\\xd3\\x8d\\xe7\\xc4\\xce\\x9d;g\\xcc\\x98\\x11\\x1d\\x1d\\x1d\\x1e\\x1e\\xfe\\xf2\\xcb/\\x87\\x86\\x86._\\xbe\\x9cp\\x0c,\\x1eE\\xa34\\x98\\xdddA\\x9f\\xaa\\x96m\\xdb5s\\x0bHKK\\xeb\\xde\\xbd;\\xf82\\xbd\\x8d\\x8d\\x8d\\xd5j\\xb5O&\\xdb\\xb0a\\x83R\\xa9\\x14\\x8b\\xc5\\xa64G\\x8e\\x1c\\xb9x\\xf1\"\\xe83m\\xed\\xd7\\xaf\\xdf\\x94)S\\x88V\\x01\\x9a\\x0f@\\x88\\xd9M\\xe6\\xf5\\xd5\\xd6\\xd6A\\x93,\\xe1\\x18\"##\\xb7o\\xdf\\x0e\\xd1\\xd4\\xabW\\xaf\\xf8\\xf8x\\x88)\\xc2\\xfcw\\xa8\\x858\\xfd\\xe3\\x8f?\\xf2\\xf2\\xf2Lk \\xd0\\x1a\\xb6v\\xeb\\xd6\\x8dh-\\xa0\\x19\\xd8\\xd2\\xd5\\x9by},\\x0e\\xa5\\xa2XK8\\x86\\x17_|\\x91\\xc7\\xe3\\x9d>}\\x1aN7*\\x95:j\\xd4\\xa8\\xd7_\\x7f\\xdd\\xcd\\xcd\\xadq\\x1a\\x83\\xc10\\x7f\\xfe|\\xc8%\\xe1\\xb5O\\x9f>\\x1c\\x0e\\x07\\xf62m\\x82s\\x19^\\x99L\\xa4F\\xf6f\\xa1\\x94\\xe9\\xbd:\\x99\\xffw\\xe6\\xf5\\xb1yTe\\x86\\x92p\\x0c\\x14\\ne\\\\=\\x90\\xa3]\\xbdzu\\xc7\\x8e\\x1dj\\xb5z\\xfd\\xfa\\xf5\\x8d\\xd3@a\\xfa\\xe0\\xc1\\x03\\xd8\\x04\\x11jZ\\xd3P(\\xb7\\xfe]%J\\xa9\\x81\\xcd3\\x9f\\x95Y\\x88>\\x1e\\x05*.\\x84c\\x80\\xc2!\"\"\"(((\\xa4\\x9e\\xca\\xca\\xca_\\x7f\\xfd\\x95\\xf8+\\xacL\\xc8d\\xc6\\x9a\\xaa\\xa7\\xe7\\x9fM\\xb3\\x0f\\x1f>\\x84jMC\\xc6\\xd7\\x84\\xc6;:\\x02\\x85L\\xcf\\xe6\\x9b\\x17e\\xbe\\xde\\xe7\\xe9\\xc7\\x80F\\xd7Z\\x83C~g\\xd0\\xf7\\xd6[o\\x9d?\\x7f^*\\x95\\xc2\\xeb\\xb9s\\xe7\\xa2\\xa2\\xa2`\\xbd\\xbf\\xbf?\\xbc\\xfe\\xf2\\xcb/w\\xef\\xde\\r\\x0e\\x0e\\x06)\\x90\\xf7A\\xd0eggC5%..\\xae\\xb8\\xb8\\xd8\\xec\\x07\\xfa\\xf9\\xf9\\xa5\\xa7\\xa7_\\xbf~\\xbd\\xba\\xba\\x9a\\xb07z]\\x9d\\xa4Lg\\xa9\\nl^\\x1f\\x95\\xee\"\\x0eb\\xe5\\xdcs\\xc8\\xf9\\xbbr\\xe5J(.\\xa0\\x8e2t\\xe8\\xd0\\xb5k\\xd7\\x0e\\x1f>\\xfc\\xddw\\xdf\\x85\\xf5\\x81\\x81\\x81\\x89\\x89\\x89\\xdb\\xb6m\\xdb\\xbau+\\xd4]\\xd6\\xacYs\\xf3\\xe6M\\xa8\\x03.Y\\xb2\\x04r\\xc0\\xb1c\\xc7\\x82 \\xa8\\xf1=\\xf9\\x81\\x90\\x0f\\xe8\\xf5\\xfay\\xf3\\xe6AU\\x91\\xb07\\xb9\\xf7\\x14\\xbe\\xc1L\\xaa\\x85\\x82\\xd4bks\\xfa\\xc5\\x9a\\xa2l\\xf5\\x88\\x97\\xbc\\x89\\x8e\\xcd\\xa9oJ:\\x85\\xb1\\xc3\\xfb\\x9a\\xef\\x1a\\xb3x\\xcd\\x1b\\xd6\\x8b\\x97\\x9f\\xa1$o\\xedj\\xf7\\xc0\\xe1\\x17<Ru\\xb1\\xdc\\xd2N\\xd6\\xd7q\\xeb\\x9c\\x04\\x02p\\xd4t\\xf3\\xcd\\xa5\\x85\\x85\\x85\\rU\\xdf&\\xb8\\xba\\xbaB\\xad\\xcd\\xec\\xa6\\xe4\\xe4\\xe4\\xb9s\\xe7\\x12\\x8ea\\xc1\\x82\\x05P\\'7\\xbbI(\\x14J$\\x12\\xb3\\x9b \\x03\\xe9\\xdf\\xbf\\xbf\\xd9M\\'w\\x17\\xfbwaC_\\x05a\\x012}\\xb5\\x06\\xe2\\xbbu9\\xfd\\xc7x\\x86D\\x99iz\\x01A\\n\\x85\\xc2\\xec\\x8eP\\x11\\xb1T/\\xa3\\xd1h\\x8e\\xab\\xb2\\xc1U\\nT\\x18\\xcdn\\xd2\\xe9t\\xf0\\xaf\\xcdn\\x82\\xabf\\xa8~>\\xb9>\\xe3\\x86\\xec\\xd2\\xc9\\xca\\x97\\x97\\x05\\x92\\xb4\\xda\\x91]\\xd8Bk\\xd7\\xa8\\x19\\xe2\\xa3\\xdb\\x0b\\xdd\\xbd;\\xb9y7\\xfd\\xdf\\x10bP\\xfb5\\xbb\\xa3\\xa5\\xf5\\x8e\\x86\\xcdf\\x13v\\x02\\xfaf\\xcf\\x1e.\\x7f~\\x8e\\x1fy\\x8b\\xa7\\x95\\xe6Phw\\x81&\\xff\\x13\\xbb\\x8a\\xb4\\xeaZ\\xa2\\xc3\\x00\\x07{bg\\xd1\\xa8\\xe9b\\xab\\xcdN6u\\x93?\\xbc!K;#I\\x9a\\xe9\\xcb\\x118\\xaa\\x1d\\xc1y\\x80\\xb6\\xce\\x13\\xbb\\x8ac\\x86\\x08m\\xe9\\x9b\\xb5\\xf5&\\x8d\\xc2,\\xd5\\xe9\\x03e\\x10\\x89^\\x01\\x8ej\\x07t\\x06\\xca\\xf24\\xa7\\xbe-I\\x98\\xea-\\x0e\\xb2)\\x83n\\xc6-B\\xd0\\xe8\\n=\\xc7A\\x11\\\\\\xe8\\x03\\xa5\\xb6\\xbb\\xee7\\x9d\\xb6\\xee\\xcaO\\x95\\xf9\\x0f\\x95\\xcf\\xce\\xf4\\xe5\\xbb\\xdb\\xda\\xd6\\xd9\\xbc\\x1b\\xd4\\x0c\\xba\\xba{W\\xa4p.w\\xef\\'\\x08\\x89\\xe2\\xd2\\x18\\xedA\\xa2NS\\x9byK~\\xf7\\x924<\\x8eo\\xa9zl\\x89\\x16\\xde\\x1e\\x99\\x9d\\xaex|G!\\x97\\xc0\\xc5 \\x03z\\xe3\\xebo\\x8f\\xa4\\xb4\\x95\\x1ea\\x084\\xe3\\xed\\xb0\\n\\x03ds\\xd0\\x19\\xcbs\\xa3\\x05Gr\\x82Z\\xe7\\xf6\\xc8&\\x14?VW\\x95h\\xa1SXR\\xaeU+\\xed\\\\:Cc\\x0c\\xbc\\x8aD\"\\xc2\\xae09\\xaeB\\x0f\\xba\\xc0\\x93&\\xf2\\xa1\\xfb\\x04\\xfe/n\\xcem\\x1d\\xa0\\xbd\\x0f\\xda]f\\xcd\\x9aE8+\\xf8\\xcez$\\xb0>$\\xb0>$\\xb0>$\\xb0>$\\xb0>$\\xb0>$\\xb0>$\\xb0>$\\xb0>$\\xb0>$\\xb0>$\\xb0>$\\xb0>$\\xb0>$\\xb0>$\\xb0>$\\xb0>$\\xb0>$\\xb0>$\\xb0>$\\xb0>$\\xb0>$\\xb0>$\\xb0>$\\xb0>$\\xb0>$\\xb0>$\\xb0>$\\xb0>$\\xb0>$\\xb0>$\\xb0>$\\xb0>$\\xb0>$\\xb0>$\\xb0>$\\xb0>$\\xb0>$\\xb0>$\\x9c\\xf1\\xb1\\x98g\\x9f}\\xd6`0\\xc0\\x17S\\xa9T\\xf0\\x96\\xc3\\xe1\\xc0[\\x1a\\x8dv\\xe2\\xc4\\t\\xc2\\xc9p\\xc6\\xe8\\x13\\x8b\\xc5\\xa9\\xa9\\xa9\\r\\x83\\xdb\\x98\\x1e\\xb1\\x8f\\x8d\\x8d%\\x9c\\x0fg\\x1c\\\\s\\xf2\\xe4\\xc9B\\xe1?\\x86\\'\\x17\\x89D\\rcX9\\x15\\xce\\xa8/!!!44\\xb4\\xf1\\x9a\\xc0\\xc0\\xc0A\\x83\\x06\\x11\\xce\\x87\\x93\\x0e\\xed\\x9a\\x9c\\x9c,\\x10\\xfc9\\xfc\\x07D\\xa2\\xd9\\xc1\\x83\\x9c\\x01\\'\\xd57l\\xd80\\x888\\xd3r\\xe7\\xce\\x9d\\x87\\x0e\\x1dJ8%\\xce;\\xb0\\xf0\\xa4I\\x938\\xf5\\xc0\\x02\\xe1\\xac\\xd8Z\\xf2\\xaa\\x15\\xb5\\x95\\xc5\\x1a\\xa2\\x15\\x89\\x08\\x8e\\xef\\x16\\xd8\\x9fB\\xa1\\xc0Ba\\xa6\\x8ahEDb\\x06\\x93cS`Y\\xaf\\xf7e\\xa6\\xc9\\xaf\\x9e\\xaa\\xd2\\xeb\\xea\\xd8\\xbc\\x8eR\\xc7V\\xca\\xf44\\xbaK\\\\\\xa2(8\\xca\\xca\\x13\\xfaV\\xf4\\xfd~\\xa0\\xac,_\\x93\\xf0\\x82/\\x83\\xdd\\xfeGpi\\x8cJn\\xf8mo\\x918\\x889\\x98t\\xee\\x1d\\xb2\\x10\\xbd{YZ\\x98\\xa5\\x1e9\\xcd\\xbf\\xa3\\xb9#\\xeaG\\xcbM\\x9c\\xee\\x9f\\x9f\\xa1\\xba\\x7fUF\\x92\\x8c|\\xc6\\x84\\xf2\\xf8q\\xde\\xedo\\xc8\\x16\\x1b\\x81\\x03\\x1f\\xf0\\xbc\\xf7\\xc5c-\\x9a1\\xa1\\xbaL\\xc7\\xe2R!\\x13%:0\\x1e~\\x0c*\\xddUZ\\xa9\\xb3\\x94\\xc0\\xa2>i\\x85N\\xe0\\xd1\\xaac\\xd6;\\'B\\x0f\\xba\\xa4\\xdc\\xa2>\\x8b\\x85i}\\x91\\x82\\'\\x8e6\\x06X\\xad\\xe5\\xe1ip{\\x1f\\x12X\\x1f\\x12X\\x1f\\x12X\\x1f\\x12X\\x1f\\x12X\\x1f\\x12X\\x1f\\x12X\\x1f\\x12X\\x1f\\x12X\\x1f\\x12X\\x1f\\x12\\xf6\\xd7\\xf7\\xf8q\\xd6\\xf1\\x94\\x1f\\xee\\xdd\\xbb\\x93\\x93\\x9b-\\x16\\xfb\\xc5\\xc4\\xf4\\x1e?n\\x8a\\x9f\\xafq*\\x93\\xbc\\xbc\\x9ci3&|\\xbc\\xe9\\x8b\\x98\\x1e-\\xef\\xf3~o\\xf9\\xe2\\x8b\\x17\\xcf\\x9a\\x96\\xa9TjpPhll\\xdf\\xc9\\x93\\xa7\\xf1\\xb8\\xff\\x83\\x91\\xde\\xed\\xdcUt\\xf6\\xdco3gM\\xb9p\\xf1L\\xaf^q\\xef/[7h`\\xc2\\xef\\xbf\\x9f\\x9a\\xf7\\xef\\xe9 \\x8e@`\\xf4\\x98\\xc1\\xa5\\xa5\\x7fO\\xbe\\xe8\\xef\\x1f\\x00\\xbf\\x01\\xfc\\xbd\\xb7lm\\xd7\\xae\\xe1\\x87\\x8f\\xec\\x7f\\xfb\\x9d\\xf9\\xb6\\xdcm\\xd2\\xe4s\\xd0\\xb1g\\xf4\\x15\\x14\\xe6\\xaf\\xdf\\xb0|\\xd0\\xc0a\\x0b\\x16,\\xe5\\xf3\\x8c\\x03 \\xf7\\xef?h\\xdc\\xb8\\xc9\\x8b\\x17\\xcf\\xfeh\\xd3\\xea\\xcf>\\xd9E\\xb4\\x88\\xc2\\xa2\\x7fL\\xbe\\x08\\x9a\\xd8,vC\\xfc\\xc2\\xbf\\x83\\x18\\xff\\xf2\\xab\\xcf\\xc0\\x8b\\x8f\\x8f\\xd8\\xf6\\xcf\\xb1\\x0b\\xf6\\xd4w\\xe4\\xe8\\x01x]\\xb4p\\x19\\x97\\xcbmX\\t\\x1e\\x17-ZfZvu5\\x06\\xbb\\xc1`\\xd8\\xf0\\xe1\\xcaS\\xa7R<<<!<\\xff=o\\xb1i\\xeb\\x0f\\x87\\xf7_\\xb9r\\xe1\\xfe\\x83t\\x06\\x83\\t\\xa7\\xfc\\xccW\\xe6y{\\xfb\\xdcL\\xbd\\xb6\\xf8M\\xe3\\xe4\\x8b\\x93\\xa7&\\r\\xe8?x\\xf5\\xaa\\x8dON\\xec\\xc4d\\xb2\\xe0\\x95\\xf5\\xd7t\\t\\x10\\xe9\\x9b\\xb7\\xac\\xcfxt\\x9fF\\xa3w\\xee\\x1c\\xf4\\xea\\x8c\\xb9QQ1O~\\x0ea\\x0f\\xecy\\xf2\\xa6\\xdfI\\x8b\\x8e\\xea\\xd9\\xd8\\x9d\\x89nOE\\xc0_\\xc3\\xdb\\xaf\\xf7\\xec\\x88\\xed\\xd5\\x17N=\\xc8\\x13\\x7f8\\xbc\\xef\\xc2\\x853\\xb0\\xf2\\xf6\\xed\\xd4\\xad\\x9fo\\x8c\\x8c\\x8cY\\xf5\\xc1\\xc6\\xb7\\xdfZY\\\\\\\\\\xf8\\x7f\\x1f\\xae\\x84\\xf5=cz\\xaf[\\xb3\\x19\\x16\\xf6\\xefMy\\xf2\\x98\\x15\\nEj\\xda\\xf5\\x83\\x07\\xbf\\x1b\\x9d4N\\xc07\\xde\\x95PYY\\x01yE\\xa7N\\x9dw}u\\xe0\\xd3-;y<\\xfe\\xea\\xb5\\xefj4\\x1a\\xf2\\xcfi1\\xf6\\x8c\\xbe\\xd2\\xb2\\x92\\xb00\\xeb\\x93\\xf7\\xc1\\x91$\\x0cK\\x84\\x058\\x01\\x0f\\xfd\\xb07\\xed\\xd6\\x8d\\x01\\x03\\x06GDD\\xed\\xdey   \\x10:v\\t\\xa3\\x17\\xf9\\xaa\\xd5K\\xe1\\xb0\\x19\\x0c3\\xbd\\x05\\x19\\x8f\\x1e\\x0c\\x19\\xf6w\\xe1#\\xf6\\xf1\\x9d4\\xe9e\\xd3\\xf2\\x7f\\x0f~\\x07a\\xb8\\xe0\\x8dwL\\x91\\xbe\\xe4\\xcd\\xe5\\x13&\\x8e<\\xf9\\xd3\\x8fc\\x9fO&\\x1c\\x80\\x9dK^[\\xf2o\\x08\\xb1\\x86e\\x0e\\x87\\xab\\xd7\\x1b\\x9b\\xc2\\xc1Zaa\\xfe\\xe7\\xdb6\\xdd\\xbb\\x7f\\xc7t[\\x1f \\x91T\\xc3\\xf9\\xfb\\xe4\\'@\\xd1\\xb1h\\xe1\\xbb\\xa6e\\xadV{\\xe8\\xd0\\xf7\\xb3^\\x9b\\n\\xe1\\x06y_NN\\x16\\xfc\\x84&w\\x00\\x84$$\\x86\\x0ca,\\xe1\\x10}\\xf6<y==\\xbc\\xca\\xcbKI\\x12\\x98&0j<\\xb3\\rdd&\\xe3\\xe7/\\x9c~\\x7f\\xc5\\x9b\\x10\\x83\\x9fn\\xd9u\\xfa\\xb7\\xebkVm\"\\xf9\\x10S\\xd1a\\xfa\\x8b\\xeb\\xd3o\\xfd\\xbaO\\xe8t\\xc6\\xfe\\x03{`keU\\x05\\x83\\xfe\\x8f\\x80e\\xb1\\xd8j\\x95\\xa3nR\\xb0\\xa7\\xbe\\xf0\\xf0H8\\x13!d\\x9a\\xac\\xbf\\xff\\xe0\\xee\\x8f\\xc7\\x0e\\x91\\x07fJ\\xcaap1c\\xfa\\xec\\xd0P\\xe3\\x04\\xbbr9Y\\xefj\\x13\\xe0\\xf7\\x08\\r\\t\\xcb~l\\x9c\\xa4\\xcd(K\\xa3n\\xbcU\\xa5R\\xba\\xbb\\xdby\\xd4\\xfb\\x06\\xec\\xa9o\\xccs\\x13\\xa1T\\xfdl\\xebG\\x8dMA]a\\xd3\\xc7k\\x8e\\x1d?di\\x12\\xa6?\\x93)\\xe4\"\\x91G\\xc3[\\xa896,7)j\\x9f,y\\xf5z}V\\xf6#\\x1f\\x1f_X\\xee\\x1a\\x16~\\xff~:\\xac1m\\xaa\\xa9\\x91\\x14\\x14\\xe4\\x05\\x05\\x85\\x12\\x8e\\x99\\x8b\\xd1\\x9ey_pp\\xe8\\xdbKV\\xac\\xdb\\xb0\\xbc\\xba\\xba\\n\\xaa{\\x90\\xafef>\\xdc\\xb7\\x7f\\x0f\\xfc\\xfe\\x9b>\\xdanv6\\xaa\\xbf\\xf7\\r\\n\\x05ew\\xee\\xa4u\\xeb\\xd6\\x1d\\xaa\\xc1\\xa6\\x12\\xa3\\xb4\\xb4\\x18\\xf2>\\xdf\\xfa+\\x96\\xd3g~\\x89\\x8e\\xee\\x05%8XP\\xaa\\x94P\\xe0\\x9av\\x04S\\x07\\x0e|\\x03!\\x9f8r4a\\xfc\\t\\'\\xc0\\xeePqy\\xf5\\x95\\xb9\\xb0r\\xc7W\\x9f\\xc2\\xd7\\x189\"\\t65\\xf9\\x1c\\xc2\\x1e\\xd8\\xb9\\xe8\\x18>\\xfc\\x99\\xce\\x81\\xc1\\'N\\x1c\\xf9\\xcf\\xd7_\\xc0\\xd5\\x1b\\xd4\\x1b\\xe0\\xb4z\\xed\\xb57\\xc2\\xba<E\\xbe\\xe3\\xccW\\xe7Ai\\xfb\\xf6\\xd2\\xf9j\\xb5:y\\xe2\\x8bo-Y\\x01\\xd5\\xb77\\x16\\xfe\\xeb\\x83\\x95\\x1f\\x0e\\x8c\\x1f:lX\\xe2\\xae\\xdd\\xdb\\xa2\"c6m\\xdcN\\x18g1\\xcf[\\xb4x\\xf6\\x9f\\x07@\\xa5\\xf6{z\\xe0\\xe6M;\\xa2\\xa3{\\xc2[\\xa8\\xb2\\xc0.\\xdf|\\xf3\\xd5\\xf8\\x89#\\x85B7\\xf81\\xa0\\xfab\\x9a\\xda\\x0c\\x8a\\xf5&\\x9f\\x83\\x8e\\xc5[\\x84r\\xee*n\\x9d\\xaf\\x19:\\xc5\\x97\\xe8\\xd8\\xfc\\xb6\\xaf\\xa8\\xc7@a`\\xb8\\xf9)\\xccp\\x8b\\x0b\\x12X\\x1f\\x12X\\x1f\\x12X\\x1f\\x12X\\x1f\\x12X\\x1f\\x12X\\x1f\\x12X\\x1f\\x12X\\x1f\\x12X\\x1f\\x12X\\x1f\\x12X\\x1f\\x12X\\x1f\\x12\\x16\\xf59\\xa2q\\xb1MRG\\x90\\x98\\xb0\\xa8\\x8f/\\xa2\\xc9\\xaa->\\xcf\\xd0q\\x90U\\xe9\\x04\\x1e4K[-6\\xd6\\xbby\\xd3\\xe4\\x12\\xbd\\xa2FOt`\\x8c\\x06\\xa4z\\xa1g\\xf3\\xf5\\x01=\\x87\\xba\\x9d\\xf9o\\xb1N\\xd3A\\x1f\\x8e\\x81\\x03?\\xbd\\xbf\\xa8\\xf7\\x08w\\x924V\\x1eH\\xfdm_YA\\x862.\\xc9\\xcb/\\x94Mt$\\n\\x1e)/\\xa7\\x94u\\xee\\xc6\\x1e:\\xc9\\x8b$\\x99M\\x8fC_\\xf9\\xb9R.1\\x88\\xc4tHO\\xb4\"\\xb5\\xf5\\xdf\\xcd\\xb5\\xb5\\x0b\\xb1\\xba\\xcab-WH\\xe9\\xfb\\x8cG\\x08\\xe2\\xe3\\xd0\\r\\xb4\\xfe\\xc3\\xf8\\xc0\\xf1\\xe3\\xc7\\xe1u\\xf4\\xe8\\xd1D\\xebb\\xfb\\xc3\\xf8\\xb6\\xd6\\xfb\\xe0\\xe3\\xfcBYD\\xeb\\xe2\\xc2\\xae\\x86\\xfaS\\xeb\\xff_\\xdb\\xc1\\xd5f$\\xb0>$\\xb0>$\\xb0>$\\xb0>$\\xb0>$\\xb0>$\\xb0>$\\xb0>$\\xb0>$\\xb0>$\\xb0>$\\xb0>$\\xb0>$\\xb0>$\\xb0>$\\xb0>$\\xb0>$\\xb0>$\\xb0>$\\xb0>$\\xb0>$\\xb0>$\\xb0>$\\xb0>$\\xb0>$\\xb0>$\\xb0>$\\xb0>$\\xb0>$\\xb0>$\\xb0>$\\xb0>$\\xb0>$\\xb0>$\\xb0>$\\xb0>$\\xb0>$\\xb0>$\\xb0>$\\x9cqn\\xf2\\xa4\\xa4\\xa4\\xa2\\xa2\"\\xf8b\\r\\xcf\\x14\\xc3\\xb2\\xaf\\xaf\\xaf\\x13\\xceM\\xee\\x8c\\x13\\xcc\\x82>J=\\xae\\x7fA\\xa5R\\x9f{\\xee9\\xc2\\xf9pF}\\xc9\\xc9\\xc9\\xfe\\xfe\\xfe\\x8d\\xd7\\x04\\x04\\x04L\\x9e<\\x99p>\\x9cQ\\x9f\\xbb\\xbb{bbb\\xc3\\x99\\x0b\\x0b\\t\\t\\t\\rsm;\\x15N:;\\xf4\\x84\\t\\x13:u\\xeadZ\\x86H\\x9c2e\\n\\xe1\\x948\\xa9>\\x91H\\x04\\x11\\xe7R\\x0fD\\xa2P($\\x9c\\x12\\xa7\\x9e\\x9b\\x1c\\xb2<???g\\x9e\\x9b\\xdc\\x0e\\x15\\x17E\\x8d>\\xf3\\x96\\xbc\\xa6R\\xaf\\x92\\x19\\xd4\\n\\x83\\xc6~c\\x1f\\x94\\x97\\x95\\x13.\\x84\\xa7\\xa7\\'a\\'\\x18\\x0c\\x17&\\x87\\xc2\\xe6Q\\xf8\"jh4\\x97#@\\xad\\xf6\\xb6\\\\\\x9fAWw\\xf3\\xb4$#U&\\xad\\xd4\\t\\xc5\\x1c*\\x83F\\xa1S\\xa84\\n\\x85\\xea\\xbc\\x11m\\xd0\\xd7\\xeau\\x06\\x83\\xce\\xa0W\\xea$\\xa5\\n\\xbe\\x88\\xde\\xad77:^H\\xa1\\xb5\\xf0y\\xff\\x16\\xea\\xcb\\xb8)?\\x7f\"\\x86=\\x92\\x00\\x00\\x06\\x01IDAT\\xa4\\x9c\\xc6\\xa1\\xbb\\x89\\xf9<\\xaf\\xb6:J\\x84\\xb4L))\\x96\\xea\\x14\\xda\\xf8\\xb1\\x9ea=\\xb9-\\xf8\\x84f\\xeb\\xd3\\xa8jS\\xbe*\\xa9\\x91\\x18|B\\xdd\\xd9nL\\xa2\\xed\\xa3\\xa8R\\x95fV\\x0b\\xdc)\\xcf\\xcd\\x12\\xd3\\x18\\xcd\\x0b\\xc3\\xe6\\xe9\\x93V\\xe9\\x8fl-\\xe4x\\xf2<\\x02\\x9d\\xb1\\x16\\x86B\\xf9c\\x89\\xaaZ\\xf1\\xfc\\x1c_\\xbe{32\\xc4f\\xe8+\\xcdS\\x9f\\xdc]\\xea\\x19&\\xe2\\xba9\\xef\\xd8\\x0c(\\xc8+\\xd5e\\x99\\x15\\xa3g\\xfax\\xfa\\xdb:#\\xbb\\xad\\xd9\\xbcRj8\\xb1\\xbb\\xd47\\xc2\\xab\\xbd\\xba\\x03\\xb8\"&\\x1c`\\xca\\xae\\x12\\x85\\xd4`\\xe3.6\\xe9\\xd3\\xeb\\xea\\x8el+\\xf4\\n\\x111\\xb8\\xed|\\xb2w&\\x97\\xee\\x19\"\\xfa\\xf1\\x8b\"\\x83\\xde\\xa6\\x93\\xd2&}\\x97OV\\xb1\\xdd\\xb9\\\\\\x8fv\\x1bw\\x8d\\xe1\\x8aXL\\x01\\xfb\\xca\\xcfU\\xb6$\\xb6\\xaeOQc\\xc8\\xb9\\xa7t\\xeb\\xd4\\xde\\xca\\n\\x12\\xdc\\x03\\x84Y\\xb7\\x95\\xb6\\x8c\\x1eg]\\xdf\\xd9\\xc3\\xe5\\x02?\\'\\xbd\\xe4t\\x1c\\x02_\\xc1\\xf9\\x1f+\\xad&\\xb3\\xa2O\\xad\\xa8-\\xc8T\\xf1<\\x9d\\xb4b\\\\-)y\\xf3\\xfd\\xb8{\\x0f.\\x10\\xf6\\x86\\xef\\xc5\\xc9\\xbd\\xa7\\x80kP\\xf2dV\\xf4e\\xde\\x92\\xf1=\\xad\\x8c\"\\xd6>q!\\xf8\\xde\\x9c\\xect+\\x932Z\\xd1\\xf7(M\\xc1\\xf1\\xe8X#\\xf75\\xc0ugg\\xa6)\\xc9\\xd3X\\xa9a\\x97\\xe7\\xabC\\xfa\\xd9\\xad\\xc1\\xa3\\t5\\xd2\\xf2c?m\\xc9\\xcd\\xbf\\xa3\\xd3i\\x9e\\xea\\xf2\\xf4\\xf0!3=D\\xc66\\xfa\\xf3\\x97\\x0e\\x9c>\\xff\\xedk\\xd3?\\xdb\\xb3\\xff\\x9d\\xb2\\xf2\\x1c\\xb1O\\x97!\\x03^\\xea\\x19=\\xd2\\xb4\\xd7\\xcd\\xdb\\xa7N\\xfd\\xbaC\\xadQ\\x84?\\x15? n\\xa2q\\x95c\\x06\\xf8c\\t\\x199W+\\xc8\\xd3\\x90E\\x1fT\\xf7\\xf4\\xfa:\\x07\\xb5\\xa0\\x18\\x0c\\xfa/\\xfe3\\x0f\\xdc%?\\xff\\xde\\x9b\\xf3\\xf7\\xb1X\\xbcO\\xbf|\\x05\\xf22\\xc28{\\x13]\\xa5\\x96\\x1e=\\xb9i\\xd2\\xd8\\xf7>Zu9\\xa2k\\xfc\\x81#\\xabdrcM\\xa2\\xb84s\\xdf\\xa1\\x15q\\xb1c\\xdeYp(&r\\xc4\\xd1\\x93\\x1f\\x13\\x0e\\x83J\\xa7\\xe8t\\xa6\\x99\\xf9,B\\xa6\\xa6\\xa6B\\xc7\\xe2\\xd2\\x08\\xc7\\x90\\x9d\\x93Z^\\x91;e\\xfc\\xca\\xb0\\xd0><\\xae\\xfb\\xe8\\xc4\\x05\\x0c:\\x0b\\xe2\\x8e\\xa8\\xef\\xdc\\x80xL\\x1c6\\xbbs\\xa7HX\\xee\\xd5c\\x14\\xb8.,z\\x08\\x9b.\\\\>\\xe8\\xee\\xe67t\\xe04\\xd0\\r;\\xf6\\xe9\\xe9\\xd8\\x91\\x11\\x99l*H I@\\xa6O.\\xd1S\\x19\\x14\\xc21\\xe4\\xe4\\xdd\\xa6\\xd3\\x98!A=Mo\\xa1[20 :\\'\\xef\\x16\\xf1\\xd7D\\x97\\x01\\xfe\\x7fN\\xa5\\xc6d\\x1a\\x9b\\x92\\xd4\\x1ac.^YU\\xe0\\xed\\x15\\xd4\\xf0!\\xfe~\\xc6\\x19E\\x1d76\\'\\x8dE\\x05\\t$\\t\\xc8\\xf2>*\\xdd\\xc5q}\\xe8\\x90yiuj\\xa8v4^\\xe9&\\xac\\x9f\\x9f\\xb8\\xfe\\xbf6\\x19w\\xdb\\xe4T\\xa5\\x92q9n\\r+iT\\x06a\\xdb\\xbc\\xa2-\\xc3`\\xa8\\xa3\\x90\\xc6\\x0f\\x99>6\\x97b\\xd08j\\xdcf\\x1e\\\\\\xa038\\xd3\\xa7~\\xd4x\\xa5+\\xc5J\\xb0C$\\x82\\xf4\\x86\\xb7Z\\x9dq\\xeeN\\xc7\\rp\\xae\\xd7\\x18\\xd8|\\xd2\\x08#\\xd9\\xc6\\xe2Q\\xb5j[\\xdb\\x1e\\x9a\\x8b\\xd8\\'\\x14\\x02\\xd0M\\xe8#r\\xf73\\xad\\xa9\\xa8*\\xe0s=\\xc8\\xf7\\x82\\xf4\\x19\\x99W\\x1a\\xee\\xdfx\\x90\\xf1\\x07\\xe1\\xc8\\xe8\\xd3\\xa9\\xf4\\xd01B\\x92\\x80,\\xefc\\xb2]\\xa9tW\\x9d\\xda!\\x01\\xd854.,4\\xee\\xe0\\x8f\\xeb$5\\xa5rE5\\x14\\x1a[\\xb6O\\xbbq\\xeb\\'\\xf2\\xbd\\xa2\"\\x86Ie\\x15)\\xa7>\\x83\\xe5GY\\xd7._?j\\\\\\xeb\\x98\\xe8\\xd3*\\xf54&\\x85\\xce$Sd\\xa5\\xde\\x17\\xf0\\x14[V\\xaet\\xef\\xc4\\'\\x1c\\xc0\\xcc\\x97\\xb6\\\\\\xbav\\xf8\\xdb\\x03\\xcb\\xa0\\xfa\\xe2\\xe5\\x19\\x18\\xd7k\\xcc\\xd3\\xbd\\xc7\\x92\\xef\\x12\\xde\\xb5\\xff3#\\xe6]\\xbev\\xe4\\xec\\xc5\\xef!\\xa3\\x9c<n\\xf9\\xf6\\xddsjk\\x1dr\\x8a\\xc8*\\x94A\\xdd\\xd1\\xc6m\\xce\\xba%\\xbf\\xf4s\\x8d\\x7f\\x94\\x0f\\xd1\\xf1(\\xb8U\\xd2/I\\x18Lj\\xd0J\\x95\\xd8?\\x8c]S\\xa6\\x820&:\\x18Z\\x95^Z\\xae\\xea\\x14f\\xe5\\x82\\xd5\\xca\\xc9\\xcb`\\xb9v\\xed\\xc5/\\xc9\\xae\\xf6\\xefn\\xfe\\xd2\\r*\\xb4+6\\x8c4\\xbbI\\xaf\\xd7R)t\\xb3\\xb52?q\\xd8\\x9cW\\xec3\\xc5\\xab\\x89\\xf7\\xd7&\\xd4\\x11\\xe6O#8\\xb5]]\\xcdd\\xffP\\xaf\\x9c5\\xedS\\xc2\\x02e\\x99U]{\\xf3it+\\xb9\\xaa\\xf5\\xae\"\\x95\\xdc\\xb0guN`\\xac/\\xd3BK}Uu\\x91\\xd9\\xf5j\\xb5\\xdcT\\xe3}\\x12\\n\\x85&\\xe0\\xdb\\xf3R\\xda\\xd2w \\x8c\\x95\\x1b\\r\\x9df\\xa6\\xeb\\x07.\\r\\xf9<\\xf3\\x05\\xbdZ\\xa6\\xcd\\xbdY<}E D\\x0fA\\x8aM=m\\xa9g\\xaao\\x9e\\x96\\x06\\xf5\\xf6u\\xa58\\xef\\x1d\\x04\\xf6\\xa2V_\\xfb\\xf8ZQ\\xef\\xe1\\x82\\xa8x\\xeb\\x8d\\xc46\\xe9\\xe81P\\xe8\\xe9K+H/w\\xc2;y\\xed\\x0b\\x1c`\\xfe\\xedR\\x0f_Zd\\x7f\\x9b:\\'l\\xd2\\xe7\\xe2\\xea\\xf2\\xcc+b\\x1a\\xc5P\\xf2\\xd0\\xa6\\x0e\\x94\\xb6K\\xf1\\x83*:\\xbd\\xee\\xd9W\\xc5p\\xc8\\xb6\\xa4\\xb7\\xf5d\\xa4\\xd2\\\\\\xc6\\xce\\xf5\\x85\\xab\\x98\\xbc\\xb4\\xd2Z};\\x8cA8(84\\x97Z\\xed\\xd8\\xb9~T\\x9b\\xef\\x18j\\xdeM\\x1a\\xd0\\xfb\\xf9\\xd3\\xd7%\\xa5y\\xda\\x80\\x18\\x1f\\x1a\\xb3\\xfd<\\xd4\\x00WV\\xb97K|\\x83\\x19#_\\xf2\\xa6P\\x9bq\\r\\xd3\\x92;\\xac\\xae\\xffR}\\xfd\\xf7j\\x8f\\x00\\x81{\\x80\\xc0\\x95\\xd2\\xb6\\xe7#\\x836\\x95\\xaa\\\\Ie\\x9e4v\\xb8[l\\x82[swo\\xe1\\rj\\xd5\\xa5\\xba\\xd4\\xb3\\x92\\xc7\\xe9\\n\\xb6\\x90\\r\\x8d\\xda\\xd0\\xb5\\x0cm\\xb3D\\xdbA\\xaf6\\xc8\\xabU\\xca\\x1a\\x8d\\xaaZ\\x19\\x1c\\xc9\\x89\\x19,$\\x99\\x0e\\x8b\\x04\\xa4\\xbbK\\xa15?\\xe7\\xae2#M\\x91\\x7f_^G\\xb80\\xb94:\\x1b\\x9a\\xe0\\x9c\\xf4\\xa4\\x86\\x035h\\xf5Z\\xa5N\\xad\\xd0\\xba\\xd4\\x11\\x01\\xe1\\xdc.1\\x9c\\xd0(\\xa4~D\\xbb=U\\x04\\xad\\xb2\\x92r\\x1d4m;\\xef\\xd4n.\\x04\\x87O\\x15x\\xd0 \\xd0\\xb8B\\xfb\\xfc\\xc6\\xce\\xf8PV\\x1b\\x02?\\x12\\x88\\x04\\xd6\\x87\\x04\\xd6\\x87\\x04\\xd6\\x87\\x04\\xd6\\x87\\x04\\xd6\\x87\\xc4\\xff\\x03\\x00\\x00\\xff\\xff`h\\xcfY\\x00\\x00\\x00\\x06IDAT\\x03\\x00\\x0ePv\\xa3\\x0c\\xbb\\x1e\\xcf\\x00\\x00\\x00\\x00IEND\\xaeB`\\x82'"
            ]
          },
          "metadata": {}
        }
      ],
      "source": [
        "from IPython.display import display,Image\n",
        "try:\n",
        "  display(App.get_graph().draw_mermaid_png())\n",
        "except Exception as e:\n",
        "  print(e)"
      ]
    },
    {
      "cell_type": "markdown",
      "metadata": {
        "id": "L8eVqK0iIUsF"
      },
      "source": []
    },
    {
      "cell_type": "code",
      "execution_count": 22,
      "metadata": {
        "colab": {
          "base_uri": "https://localhost:8080/"
        },
        "id": "WE2RywMMFNIj",
        "outputId": "24f7addc-707d-4f01-fd86-e5096f77c81e"
      },
      "outputs": [
        {
          "output_type": "execute_result",
          "data": {
            "text/plain": [
              "{'messages': [AIMessage(content='', additional_kwargs={'function_call': {'name': 'deposit_money', 'arguments': '{\"account_number\": 3298392.0, \"amount\": 1000.0, \"name\": \"waris\"}'}}, response_metadata={'prompt_feedback': {'block_reason': 0, 'safety_ratings': []}, 'finish_reason': 'STOP', 'model_name': 'gemini-2.0-flash', 'safety_ratings': []}, id='run--723850e3-7a3d-4f1d-afa6-857467a16521-0', tool_calls=[{'name': 'deposit_money', 'args': {'account_number': 3298392.0, 'amount': 1000.0, 'name': 'waris'}, 'id': '04fc65c2-1717-4662-8628-2151c1ea7f86', 'type': 'tool_call'}], usage_metadata={'input_tokens': 82, 'output_tokens': 12, 'total_tokens': 94, 'input_token_details': {'cache_read': 0}})]}"
            ]
          },
          "metadata": {},
          "execution_count": 22
        }
      ],
      "source": [
        "Model_Response({\"messages\":[SystemMessage(content=\"you are a helpful assitant which provide the naswer based on user question.\"),HumanMessage(content=\"could you please sent the 1000 rupes in the acount 3298392 of waris\",name=\"Human Assistant\")]})"
      ]
    },
    {
      "cell_type": "code",
      "execution_count": 24,
      "metadata": {
        "id": "kOdxS3SweEfU"
      },
      "outputs": [],
      "source": [
        "#lets make the reduce function in langgraph\n",
        "from typing import Annotated\n",
        "from typing_extensions import TypedDict\n",
        "from operator import add"
      ]
    },
    {
      "cell_type": "code",
      "execution_count": 25,
      "metadata": {
        "id": "CD2ZR5zpgZyF"
      },
      "outputs": [],
      "source": [
        "# instead of passing annotated ,TypedDict and add_messages we can simply import the MessageSate from the alnggraph its nothing but just a schema that will define\n",
        "# that how will your data flow insode the graph of langgraph."
      ]
    },
    {
      "cell_type": "code",
      "execution_count": 31,
      "metadata": {
        "id": "wtdu_0j_hLaM"
      },
      "outputs": [],
      "source": [
        "#instead a passing the custom class we can diretcly oass the MessagesState\n",
        "from langgraph.graph import MessagesState\n",
        "from langgraph.graph.message import add_messages\n",
        "from langchain_core.messages import HumanMessage, AnyMessage\n",
        "class MessageConversationState(MessagesState):\n",
        "  # if there is any thing that you want to pass you can pass it here.\n",
        "  # documents : list[str] example\n",
        "  pass"
      ]
    },
    {
      "cell_type": "code",
      "execution_count": 34,
      "metadata": {
        "id": "n27sCVcwhCgp",
        "colab": {
          "base_uri": "https://localhost:8080/"
        },
        "outputId": "96236381-ab48-4200-8d0c-67fb25471163"
      },
      "outputs": [
        {
          "output_type": "execute_result",
          "data": {
            "text/plain": [
              "[AIMessage(content='so your name is waris', additional_kwargs={}, response_metadata={}, name='AI Assistant', id='b0c59224-634d-47fb-ac2b-1173f66f431a'),\n",
              " HumanMessage(content='what is my name', additional_kwargs={}, response_metadata={}, name='Human assistant', id='d83f0ec8-c447-4c68-9377-29d84055a2a7'),\n",
              " AIMessage(content='as of your previous message you tell me that your name is waris yes your name is waris', additional_kwargs={}, response_metadata={}, name='AI Assistant', id='d706c29c-58b4-4e9c-869a-0ccf60ca4115')]"
            ]
          },
          "metadata": {},
          "execution_count": 34
        }
      ],
      "source": [
        "intial_state = [\n",
        "    AIMessage(content=\"so your name is waris\", name=\"AI Assistant\"),\n",
        "    HumanMessage(content=\"what is my name\",name=\"Human assistant\"),\n",
        "]\n",
        "\n",
        "new_message = AIMessage(content=\"as of your previous message you tell me that your name is waris yes your name is waris\",name=\"AI Assistant\")\n",
        "add_messages(intial_state,new_message)"
      ]
    },
    {
      "cell_type": "code",
      "source": [
        "#lets make a graph by using all these things using reducer functions llms and tools\n",
        "\n",
        "from IPython.display import Image,display\n",
        "from langchain_core.messages import AIMessage,HumanMessage,AnyMessage\n",
        "from langgraph.graph import StateGraph,START,END,MessagesState"
      ],
      "metadata": {
        "id": "j0FGMBHOiL5p"
      },
      "execution_count": 35,
      "outputs": []
    },
    {
      "cell_type": "code",
      "source": [
        "def tool_calling_llms(state:MessageConversationState):\n",
        "  return {\"messages\":[Model_with_tool.invoke(state[\"messages\"])]}"
      ],
      "metadata": {
        "id": "hS7iX9xJjLTx"
      },
      "execution_count": 36,
      "outputs": []
    },
    {
      "cell_type": "code",
      "source": [
        "#build the graph\n",
        "Builder = StateGraph(MessageConversationState)\n",
        "Builder.add_node(\"ChatBot\",tool_calling_llms)\n",
        "Builder.add_edge(START,\"ChatBot\")\n",
        "Builder.add_edge(\"ChatBot\",END)\n",
        "#compile the graph\n",
        "app = Builder.compile()"
      ],
      "metadata": {
        "id": "K7eLhJnljlrY"
      },
      "execution_count": 38,
      "outputs": []
    },
    {
      "cell_type": "code",
      "source": [
        "#Draw the graph\n",
        "try:\n",
        "  display(Image(app.get_graph().draw_mermaid_png()))\n",
        "except Exception as  e:\n",
        "  print(f\"you have some problem at: {e}\")"
      ],
      "metadata": {
        "colab": {
          "base_uri": "https://localhost:8080/",
          "height": 251
        },
        "id": "uiIWtfEKjulf",
        "outputId": "8429e251-dc78-4baf-e6e9-645a5c309059"
      },
      "execution_count": 40,
      "outputs": [
        {
          "output_type": "display_data",
          "data": {
            "image/png": "[encoded data removed]",
            "text/plain": [
              "<IPython.core.display.Image object>"
            ]
          },
          "metadata": {}
        }
      ]
    },
    {
      "cell_type": "code",
      "source": [
        "messages = app.invoke({\"messages\":[HumanMessage(content=\"sent $4000 on the account number 590090 named waris\")]})"
      ],
      "metadata": {
        "id": "u5S5K6tLkAih"
      },
      "execution_count": 51,
      "outputs": []
    },
    {
      "cell_type": "code",
      "source": [
        "for message in messages[\"messages\"]:\n",
        "  message.pretty_print()"
      ],
      "metadata": {
        "colab": {
          "base_uri": "https://localhost:8080/"
        },
        "id": "mWkjFJ6mkXcP",
        "outputId": "41dc6f10-8336-46f4-93fa-09a1f53ece18"
      },
      "execution_count": 52,
      "outputs": [
        {
          "output_type": "stream",
          "name": "stdout",
          "text": [
            "================================\u001b[1m Human Message \u001b[0m=================================\n",
            "\n",
            "sent $4000 on the account number 590090 named waris\n",
            "==================================\u001b[1m Ai Message \u001b[0m==================================\n",
            "Tool Calls:\n",
            "  deposit_money (f0deda90-d606-4aff-8c2a-2391abf6b6b0)\n",
            " Call ID: f0deda90-d606-4aff-8c2a-2391abf6b6b0\n",
            "  Args:\n",
            "    account_number: 590090.0\n",
            "    amount: 4000.0\n",
            "    name: waris\n"
          ]
        }
      ]
    },
    {
      "cell_type": "code",
      "source": [
        "#in the next chapter we will focus on how to get response from the tools calling."
      ],
      "metadata": {
        "id": "dKfOzh1hkiti"
      },
      "execution_count": 53,
      "outputs": []
    },
    {
      "cell_type": "code",
      "source": [],
      "metadata": {
        "id": "yw2gKbVNlevs"
      },
      "execution_count": null,
      "outputs": []
    }
  ],
  "metadata": {
    "colab": {
      "provenance": []
    },
    "kernelspec": {
      "display_name": "Python 3",
      "name": "python3"
    },
    "language_info": {
      "name": "python"
    }
  },
  "nbformat": 4,
  "nbformat_minor": 0
}