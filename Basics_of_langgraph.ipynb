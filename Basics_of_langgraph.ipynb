{
  "nbformat": 4,
  "nbformat_minor": 0,
  "metadata": {
    "colab": {
      "provenance": []
    },
    "kernelspec": {
      "name": "python3",
      "display_name": "Python 3"
    },
    "language_info": {
      "name": "python"
    }
  },
  "cells": [
    {
      "cell_type": "code",
      "execution_count": 2,
      "metadata": {
        "id": "fOgcWMp6-X_O"
      },
      "outputs": [],
      "source": [
        "#install the libraries"
      ]
    },
    {
      "cell_type": "code",
      "source": [
        "import numpy as np\n",
        "import pandas as pd\n",
        "import seaborn as sns\n",
        "import matplotlib.pyplot as plt"
      ],
      "metadata": {
        "id": "_yC4OI7b-926"
      },
      "execution_count": 3,
      "outputs": []
    },
    {
      "cell_type": "code",
      "source": [
        "#SETUP THE ENVIROMENTS\n",
        "from google.colab import userdata\n",
        "GEMINI_API_KEY=userdata.get('GEMINI-API-KEY')\n",
        "LANGSMITH_API_KEY=userdata.get('LANGSMITH_API_KEY')\n",
        "GROQ_API_KEY=userdata.get('GROQ-API-KEY')\n",
        "TAVILY_API_KEY=userdata.get('TAVILY_API_KEY')"
      ],
      "metadata": {
        "id": "N0V1T2Ee_Tez"
      },
      "execution_count": 4,
      "outputs": []
    },
    {
      "cell_type": "code",
      "source": [
        "!pip install langchain_groq"
      ],
      "metadata": {
        "colab": {
          "base_uri": "https://localhost:8080/"
        },
        "id": "pqPhAjitKNvH",
        "outputId": "d2ab3666-829a-4b72-ae42-8874fe8fab99"
      },
      "execution_count": 5,
      "outputs": [
        {
          "output_type": "stream",
          "name": "stdout",
          "text": [
            "Requirement already satisfied: langchain_groq in /usr/local/lib/python3.11/dist-packages (0.3.2)\n",
            "Requirement already satisfied: langchain-core<1.0.0,>=0.3.49 in /usr/local/lib/python3.11/dist-packages (from langchain_groq) (0.3.63)\n",
            "Requirement already satisfied: groq<1,>=0.4.1 in /usr/local/lib/python3.11/dist-packages (from langchain_groq) (0.26.0)\n",
            "Requirement already satisfied: anyio<5,>=3.5.0 in /usr/local/lib/python3.11/dist-packages (from groq<1,>=0.4.1->langchain_groq) (4.9.0)\n",
            "Requirement already satisfied: distro<2,>=1.7.0 in /usr/local/lib/python3.11/dist-packages (from groq<1,>=0.4.1->langchain_groq) (1.9.0)\n",
            "Requirement already satisfied: httpx<1,>=0.23.0 in /usr/local/lib/python3.11/dist-packages (from groq<1,>=0.4.1->langchain_groq) (0.28.1)\n",
            "Requirement already satisfied: pydantic<3,>=1.9.0 in /usr/local/lib/python3.11/dist-packages (from groq<1,>=0.4.1->langchain_groq) (2.11.5)\n",
            "Requirement already satisfied: sniffio in /usr/local/lib/python3.11/dist-packages (from groq<1,>=0.4.1->langchain_groq) (1.3.1)\n",
            "Requirement already satisfied: typing-extensions<5,>=4.10 in /usr/local/lib/python3.11/dist-packages (from groq<1,>=0.4.1->langchain_groq) (4.13.2)\n",
            "Requirement already satisfied: langsmith<0.4,>=0.1.126 in /usr/local/lib/python3.11/dist-packages (from langchain-core<1.0.0,>=0.3.49->langchain_groq) (0.3.43)\n",
            "Requirement already satisfied: tenacity!=8.4.0,<10.0.0,>=8.1.0 in /usr/local/lib/python3.11/dist-packages (from langchain-core<1.0.0,>=0.3.49->langchain_groq) (9.1.2)\n",
            "Requirement already satisfied: jsonpatch<2.0,>=1.33 in /usr/local/lib/python3.11/dist-packages (from langchain-core<1.0.0,>=0.3.49->langchain_groq) (1.33)\n",
            "Requirement already satisfied: PyYAML>=5.3 in /usr/local/lib/python3.11/dist-packages (from langchain-core<1.0.0,>=0.3.49->langchain_groq) (6.0.2)\n",
            "Requirement already satisfied: packaging<25,>=23.2 in /usr/local/lib/python3.11/dist-packages (from langchain-core<1.0.0,>=0.3.49->langchain_groq) (24.2)\n",
            "Requirement already satisfied: idna>=2.8 in /usr/local/lib/python3.11/dist-packages (from anyio<5,>=3.5.0->groq<1,>=0.4.1->langchain_groq) (3.10)\n",
            "Requirement already satisfied: certifi in /usr/local/lib/python3.11/dist-packages (from httpx<1,>=0.23.0->groq<1,>=0.4.1->langchain_groq) (2025.4.26)\n",
            "Requirement already satisfied: httpcore==1.* in /usr/local/lib/python3.11/dist-packages (from httpx<1,>=0.23.0->groq<1,>=0.4.1->langchain_groq) (1.0.9)\n",
            "Requirement already satisfied: h11>=0.16 in /usr/local/lib/python3.11/dist-packages (from httpcore==1.*->httpx<1,>=0.23.0->groq<1,>=0.4.1->langchain_groq) (0.16.0)\n",
            "Requirement already satisfied: jsonpointer>=1.9 in /usr/local/lib/python3.11/dist-packages (from jsonpatch<2.0,>=1.33->langchain-core<1.0.0,>=0.3.49->langchain_groq) (3.0.0)\n",
            "Requirement already satisfied: orjson<4.0.0,>=3.9.14 in /usr/local/lib/python3.11/dist-packages (from langsmith<0.4,>=0.1.126->langchain-core<1.0.0,>=0.3.49->langchain_groq) (3.10.18)\n",
            "Requirement already satisfied: requests<3,>=2 in /usr/local/lib/python3.11/dist-packages (from langsmith<0.4,>=0.1.126->langchain-core<1.0.0,>=0.3.49->langchain_groq) (2.32.3)\n",
            "Requirement already satisfied: requests-toolbelt<2.0.0,>=1.0.0 in /usr/local/lib/python3.11/dist-packages (from langsmith<0.4,>=0.1.126->langchain-core<1.0.0,>=0.3.49->langchain_groq) (1.0.0)\n",
            "Requirement already satisfied: zstandard<0.24.0,>=0.23.0 in /usr/local/lib/python3.11/dist-packages (from langsmith<0.4,>=0.1.126->langchain-core<1.0.0,>=0.3.49->langchain_groq) (0.23.0)\n",
            "Requirement already satisfied: annotated-types>=0.6.0 in /usr/local/lib/python3.11/dist-packages (from pydantic<3,>=1.9.0->groq<1,>=0.4.1->langchain_groq) (0.7.0)\n",
            "Requirement already satisfied: pydantic-core==2.33.2 in /usr/local/lib/python3.11/dist-packages (from pydantic<3,>=1.9.0->groq<1,>=0.4.1->langchain_groq) (2.33.2)\n",
            "Requirement already satisfied: typing-inspection>=0.4.0 in /usr/local/lib/python3.11/dist-packages (from pydantic<3,>=1.9.0->groq<1,>=0.4.1->langchain_groq) (0.4.1)\n",
            "Requirement already satisfied: charset-normalizer<4,>=2 in /usr/local/lib/python3.11/dist-packages (from requests<3,>=2->langsmith<0.4,>=0.1.126->langchain-core<1.0.0,>=0.3.49->langchain_groq) (3.4.2)\n",
            "Requirement already satisfied: urllib3<3,>=1.21.1 in /usr/local/lib/python3.11/dist-packages (from requests<3,>=2->langsmith<0.4,>=0.1.126->langchain-core<1.0.0,>=0.3.49->langchain_groq) (2.4.0)\n"
          ]
        }
      ]
    },
    {
      "cell_type": "code",
      "source": [
        "LANGSMITH_TRACING=True\n",
        "LANGSMITH_ENDPOINT=\"https://api.smith.langchain.com\"\n",
        "LANGSMITH_API_KEY=LANGSMITH_API_KEY\n",
        "LANGSMITH_PROJECT=\"pr-minty-mill-90\""
      ],
      "metadata": {
        "id": "P1iEE-QlMJKc"
      },
      "execution_count": 6,
      "outputs": []
    },
    {
      "cell_type": "code",
      "source": [
        "import langchain\n",
        "from langchain_core.messages import AIMessage,HumanMessage\n",
        "from langchain_groq import ChatGroq"
      ],
      "metadata": {
        "id": "ToicwRW1KoIP"
      },
      "execution_count": 7,
      "outputs": []
    },
    {
      "cell_type": "code",
      "source": [
        "Model = ChatGroq(\n",
        "    model=\"qwen-qwq-32b\",\n",
        "    api_key=GROQ_API_KEY\n",
        ")"
      ],
      "metadata": {
        "id": "ofg93kuuK-wd"
      },
      "execution_count": 8,
      "outputs": []
    },
    {
      "cell_type": "code",
      "source": [
        "Model.invoke(\"Who is sanan abbasi?\")"
      ],
      "metadata": {
        "colab": {
          "base_uri": "https://localhost:8080/"
        },
        "id": "6SniwvHwMo5C",
        "outputId": "0cee6ae0-4adf-411e-a13b-2a422e2a1bf4"
      },
      "execution_count": 9,
      "outputs": [
        {
          "output_type": "execute_result",
          "data": {
            "text/plain": [
              "AIMessage(content='\\n<think>\\nOkay, so the user is asking, \"Who is Sanaan Abbasi?\" I need to figure out who that is. Let me start by checking if there\\'s a well-known person with that name. Maybe I can think of any public figures, politicians, artists, or athletes named Sanaan Abbasi. The spelling might be important here. Sometimes names can be spelled differently, so maybe it\\'s Sanaan Abbasi, Sanaan Abbas, or maybe there\\'s a different variation.\\n\\nFirst, I\\'ll consider possible professions. Maybe they\\'re a politician? In Pakistan, there are several political families. The Abbasi name rings a bell. Wait, the former Prime Minister of Pakistan, Shahid Khaqan Abbasi, comes to mind. But his name is Shahid, not Sanaan. Could this be a relative? Maybe a family member?\\n\\nAlternatively, perhaps there\\'s a younger person in the family. Maybe Sanaan is a son or daughter of Shahid Abbasi. Let me think. If I can recall, Shahid Abbasi served as Prime Minister in 2017-2018. After his term, he might have been involved in some controversies or legal issues. Maybe his family members are in the news.\\n\\nAlternatively, maybe the user misspelled the name. Maybe it\\'s Sana Abbasi instead of Sanaan? Let me check that. Sana Abbasi is a name that comes up in some contexts. Wait, there was a Pakistani actress and model named Sana Abbasi. She\\'s been in the news for her work in the entertainment industry. But is that correct?\\n\\nAlternatively, could it be Sanaullah Abbasi or someone else? Let me see. Another angle: maybe Sanaan Abbasi is involved in sports? Not sure. Let me think of other possibilities. Perhaps a businessperson, academic, or activist?\\n\\nAlternatively, maybe the user is referring to someone else entirely. Let me check my knowledge base. Wait, the user might be referring to Shahid Abbasi\\'s son, Sanaan Abbasi, who made headlines for some social media posts or controversies. Yes, I remember reading that Shahid Abbasi\\'s son, Sanaan, was involved in a Twitter controversy where he made derogatory comments about Indian cricket players, which led to backlash.\\n\\nLet me verify this. Shahid Khaqan Abbasi, the former PM, has a son named Sanaan. In 2017, around the time his father was PM, Sanaan Abbasi posted some offensive tweets about India\\'s cricket team, using slurs and derogatory language. This caused a stir, and there was media coverage about it. The tweets were later deleted, but the screenshots were shared widely. This incident might be what the user is referring to.\\n\\nAlternatively, maybe there\\'s another Sanaan Abbasi in a different field, but given the name and context, the most probable is the son of the former PM. I should check if there\\'s any other prominent person with that exact name. Maybe a quick search in my mind for other references. Not coming up with anything else prominent. So, I think the user is asking about Sanaan Abbasi, the son of Shahid Khaqan Abbasi, known for those controversial tweets.\\n\\nTherefore, the answer should explain that Sanaan Abbasi is the son of the former Prime Minister of Pakistan, and mention the context of the controversy around his social media posts. I should present this information clearly, making sure to note that while he\\'s known for that incident, there might not be much else publicly known about him. Also, clarify the correct spelling and any alternative names if necessary.\\n</think>\\n\\nSanaan Abbasi is the son of **Shahid Khaqan Abbasi**, who served as the Prime Minister of Pakistan from August 2017 to August 2018. While there is limited publicly available information about Sanaan Abbasi\\'s personal life or career, he gained some notoriety in 2017 due to a controversy involving social media posts.\\n\\nIn August 2017, during his father\\'s tenure as Prime Minister, Sanaan Abbasi was criticized for posting **offensive tweets** on his Twitter account. The tweets included derogatory remarks and slurs targeting members of India\\'s cricket team, which sparked backlash from both Pakistani and international audiences. The content was widely shared, leading to public criticism and calls for accountability. The posts were later deleted, but screenshots of them circulated widely in media reports.\\n\\nBeyond this incident, Sanaan Abbasi has not been prominently featured in public life or news. His father, Shahid Khaqan Abbasi, was a senior member of the Pakistan Muslim League (N) party and previously held roles such as chairman of the National Highway Authority and the Oil and Gas Development Company before becoming PM. \\n\\nIt\\'s important to note that the controversy surrounding Sanaan Abbasi\\'s social media activity highlighted broader discussions about public figures\\' personal conduct and the implications of their actions while holding or related to positions of power.', additional_kwargs={}, response_metadata={'token_usage': {'completion_tokens': 1050, 'prompt_tokens': 17, 'total_tokens': 1067, 'completion_time': 2.55487377, 'prompt_time': 0.003818446, 'queue_time': 0.152705416, 'total_time': 2.558692216}, 'model_name': 'qwen-qwq-32b', 'system_fingerprint': 'fp_1e88ca32eb', 'finish_reason': 'stop', 'logprobs': None}, id='run--a828a8bd-d23a-4357-8f4b-6f56d56a3b22-0', usage_metadata={'input_tokens': 17, 'output_tokens': 1050, 'total_tokens': 1067})"
            ]
          },
          "metadata": {},
          "execution_count": 9
        }
      ]
    },
    {
      "cell_type": "code",
      "source": [
        "# lets startr he basics of grpahs from here.\n",
        "from langchain_core.messages import AIMessage,HumanMessage"
      ],
      "metadata": {
        "id": "uSKg2Gs1MwmN"
      },
      "execution_count": 10,
      "outputs": []
    },
    {
      "cell_type": "code",
      "source": [
        "message = HumanMessage(content=\"Hello my name is waris how are you\", name=\"Human assistant\")"
      ],
      "metadata": {
        "id": "0igBhKDLOf1B"
      },
      "execution_count": 11,
      "outputs": []
    },
    {
      "cell_type": "code",
      "source": [
        "human_mesasge = [HumanMessage(content=\"can you assume that itsraining outside\",name=\"Math Assistnat\"),\n",
        "                AIMessage(content=\"yes i can assume that its rainig outside\",name=\"AI-Assistant\"),\n",
        "                HumanMessage(content=\"so could you tell me please that what should i take tea or coffee or some sort of soup\"),\n",
        "                AIMessage(content=\" i think you should take the tea with pakoras\",name=\"AI-Assitant\"),\n",
        "                HumanMessage(content=\"ok got it would you like to tell me  about langchain and langgraph.\"),\n",
        "                AIMessage(content=\"ok got it langgraph and langchain both are best.\"),\n",
        "                HumanMessage(content=\"I WANT TO LEARN and how i can learn that\"),\n",
        "                ]   #conversation hmesha list m huti h isliye humny isko list m wrap kar dea hae.\n",
        "\n",
        "Model.invoke(human_mesasge)"
      ],
      "metadata": {
        "colab": {
          "base_uri": "https://localhost:8080/"
        },
        "id": "-uyNHJOXQS_v",
        "outputId": "4ed86b44-c906-4974-e987-01887ba56bec"
      },
      "execution_count": 12,
      "outputs": [
        {
          "output_type": "execute_result",
          "data": {
            "text/plain": [
              "AIMessage(content='\\n<think>\\nOkay, the user wants to learn about LangChain and LangGraph and is asking how to start. Let me break this down.\\n\\nFirst, I should explain what LangChain is. It\\'s a framework for developing LLM apps, right? It helps with things like prompt engineering, memory, and chains. Then LangGraph, maybe it\\'s related but I\\'m not as familiar. Wait, perhaps it\\'s a tool for visualizing or managing data flow in LangChain? Or maybe it\\'s a separate project. I should make sure I get that right.\\n\\nThe user might be a developer looking to build applications with large language models. They probably need a structured path to learn these tools. For LangChain, the official documentation is key. Tutorials and examples would help. Maybe they need steps like start with the basics, then try examples, dive into the documentation, and work on projects. \\n\\nFor LangGraph, if it\\'s part of LangChain, I should mention how it integrates. If it\\'s a different tool, perhaps explain its purpose and where to find resources. Wait, actually, I should check if LangGraph is a separate tool. Maybe a quick search in my mind: LangChain has a module called LangGraph? Or is it a different library? Hmm, I might be confusing it. Let me recall. Oh, perhaps LangGraph is part of the ecosystem. \\n\\nAlternatively, maybe the user is referring to something else. To be safe, I\\'ll explain LangChain first, then mention if there\\'s a LangGraph component. If I\\'m unsure about LangGraph, I can suggest checking official sources or communities. \\n\\nThe user\\'s main goal is to learn step by step. So, structure the answer into clear steps for each tool. Emphasize resources like docs, tutorials, GitHub repos. Encourage hands-on practice. Maybe suggest building a small project first. Also, mention communities like Discord or forums for support. \\n\\nWait, the user also mentioned \"and how I can learn that\" – so the answer should outline a learning path. Make sure to be encouraging, offer practical steps, and provide links if possible. Since I can\\'t link directly, I can tell them where to find the resources. \\n\\nDouble-check the details on LangChain: it\\'s Python-based, has modules for chains, agents, memory, etc. For LangGraph, maybe it\\'s a visualization tool for data flow in LangChain apps? Or maybe it\\'s a typo? If unsure, I should state that I might be uncertain about LangGraph and suggest they verify the latest info. \\n\\nAlright, structure the response into sections for LangChain and LangGraph, provide learning steps, resources, and practice projects. Keep it clear and helpful.\\n</think>\\n\\nCertainly! **LangChain** and **LangGraph** are tools related to working with large language models (LLMs) and building AI applications. Here\\'s a breakdown of what they are and how to learn them:\\n\\n---\\n\\n### **1. LangChain**\\n**What is LangChain?**  \\nLangChain is a framework for developing applications powered by large language models (LLMs). It provides tools to:  \\n- Structure prompts and workflows (e.g., chains, agents, memory).  \\n- Integrate LLMs with external data sources (e.g., databases, APIs).  \\n- Build end-to-end applications (e.g., chatbots, document analysis tools).  \\n\\n**How to Learn LangChain:**  \\n#### **Step 1: Basics of LLMs**  \\n- Start with foundational concepts of LLMs (e.g., prompts, tokenization, context windows).  \\n- Read: [LangChain’s \"Why LangChain\"](https://langchain.com/why-langchain) for an overview.  \\n\\n#### **Step 2: Official Resources**  \\n- **Documentation**: [LangChain Docs](https://langchain.readthedocs.io/) (the best place to start).  \\n  - Follow the tutorials (e.g., \"Hello World\" examples, prompt templates, chains).  \\n- **GitHub**: Clone the [LangChain GitHub repo](https://github.com/langchain-ai/langchain) to explore examples.  \\n- **YouTube**: Search for \"LangChain tutorials\" for practical walkthroughs.  \\n\\n#### **Step 3: Key Concepts to Learn**  \\n1. **Prompts & Templates**: How to design effective prompts.  \\n2. **Chains**: Combining multiple LLM steps (e.g., input → LLM → output).  \\n3. **Agents**: Letting the LLM decide which tools to use (e.g., querying APIs, databases).  \\n4. **Memory**: Storing context between interactions (critical for chatbots).  \\n5. **Toolkits**: Integrations with external tools (e.g., SerpAPI for web searches).  \\n\\n#### **Step 4: Practice Projects**  \\n- Build a simple chatbot that uses an LLM and external data (e.g., Q&A over a dataset).  \\n- Create a document summarizer using LangChain’s vector databases (e.g., ChromaDB).  \\n\\n#### **Step 5: Community & Support**  \\n- Join the [LangChain Discord](https://discord.gg/langchain).  \\n- Follow the [LangChain Newsletter](https://langchain.com/) for updates.  \\n\\n---\\n\\n### **2. LangGraph (If Related to LangChain)**  \\nThere’s **no official \"LangGraph\" tool** associated with LangChain as of my last update (July 2023). However, here are possibilities:  \\n- **LangChain’s Visualization Tools**: LangChain itself includes tools to visualize chains and workflows (e.g., using Python’s `graphviz` to draw chain diagrams).  \\n- **Third-Party Libraries**: Some developers might use \"LangGraph\" as a custom name for a project. If you found this term elsewhere, check its source for documentation.  \\n\\n---\\n\\n### **General Learning Tips**  \\n- **Start Small**: Begin with LangChain first, as it’s well-documented and widely used.  \\n- **Hands-On Practice**: Build projects while learning (e.g., chatbots, document analysis).  \\n- **Community & Blogs**: Follow blogs like [LangChain’s Medium page](https://medium.com/langchain) for tutorials.  \\n\\n---\\n\\n### **Resources to Start**  \\n- **LangChain Quickstart**: [LangChain Getting Started Guide](https://python.langchain.com/docs/get_started/introduction.html).  \\n- **YouTube Tutorial Series**: [LangChain Tutorials by Nick Moya](https://www.youtube.com/results?search_query=langchain+tutorial) (search for \"LangChain\").  \\n\\nLet me know if you’d like help designing a specific project or debugging code! 😊', additional_kwargs={}, response_metadata={'token_usage': {'completion_tokens': 1370, 'prompt_tokens': 126, 'total_tokens': 1496, 'completion_time': 3.348418374, 'prompt_time': 0.011485866, 'queue_time': 0.023097329999999996, 'total_time': 3.35990424}, 'model_name': 'qwen-qwq-32b', 'system_fingerprint': 'fp_1e88ca32eb', 'finish_reason': 'stop', 'logprobs': None}, id='run--c6487df7-1423-490a-8a10-47be50b7a181-0', usage_metadata={'input_tokens': 126, 'output_tokens': 1370, 'total_tokens': 1496})"
            ]
          },
          "metadata": {},
          "execution_count": 12
        }
      ]
    },
    {
      "cell_type": "code",
      "source": [
        "from langchain_community.tools.tavily_search import TavilySearchResults"
      ],
      "metadata": {
        "id": "nG5NfKlnXhOq"
      },
      "execution_count": 20,
      "outputs": []
    },
    {
      "cell_type": "code",
      "source": [
        "import os\n",
        "os.environ[\"TAVILY_API_KEY\"] = TAVILY_API_KEY"
      ],
      "metadata": {
        "id": "prVTaaF4ZDnr"
      },
      "execution_count": 30,
      "outputs": []
    },
    {
      "cell_type": "code",
      "source": [
        "tool = TavilySearchResults(max_results=1,api_key=TAVILY_API_KEY)\n",
        "# let check the current weather of muree\n",
        "tool.invoke(\"what is the current weather of murree?\")"
      ],
      "metadata": {
        "colab": {
          "base_uri": "https://localhost:8080/"
        },
        "id": "imEY1j5dWx8z",
        "outputId": "f84114f7-72c0-4f63-f67c-c6b66bab6ac4"
      },
      "execution_count": 32,
      "outputs": [
        {
          "output_type": "execute_result",
          "data": {
            "text/plain": [
              "[{'title': 'Murree (Pakistan) weather - Met Office',\n",
              "  'url': 'https://weather.metoffice.gov.uk/forecast/twh0vyk4g',\n",
              "  'content': 'Today. 22° Maximum daytime temperature: 22° Celsius; 11° Minimum nighttime temperature: 11° Celsius; · Fri 6 Jun. 26° Maximum daytime temperature: 26° Celsius;',\n",
              "  'score': 0.6826801}]"
            ]
          },
          "metadata": {},
          "execution_count": 32
        }
      ]
    },
    {
      "cell_type": "code",
      "source": [
        "#Edges and graph   ======> we will nake the basic graph"
      ],
      "metadata": {
        "id": "t9CWqOBrYIzr"
      },
      "execution_count": 34,
      "outputs": []
    },
    {
      "cell_type": "code",
      "source": [
        "# State define the scehma of the graph like which type of data will flow in the graph\n",
        "#langchain_state is nothing but it decide the flow of execution in the langgraph."
      ],
      "metadata": {
        "id": "ZcRn-3NPZmoO"
      },
      "execution_count": 35,
      "outputs": []
    },
    {
      "cell_type": "code",
      "source": [
        "from typing_extensions import TypedDict"
      ],
      "metadata": {
        "id": "5hRjpcpSdJR6"
      },
      "execution_count": 39,
      "outputs": []
    },
    {
      "cell_type": "code",
      "source": [
        "class LearningSate(TypedDict):\n",
        "  prompt:str"
      ],
      "metadata": {
        "id": "3cIRjCRbdNc4"
      },
      "execution_count": 41,
      "outputs": []
    },
    {
      "cell_type": "code",
      "source": [
        "langchain=LearningSate(prompt=\"what is langchain\")"
      ],
      "metadata": {
        "id": "7Ecjir9OdVSj"
      },
      "execution_count": 47,
      "outputs": []
    },
    {
      "cell_type": "code",
      "source": [
        "langchain"
      ],
      "metadata": {
        "colab": {
          "base_uri": "https://localhost:8080/"
        },
        "id": "ehUmur1kdw2J",
        "outputId": "7bf9cf34-6301-4e47-e95e-d2c86cbca0d8"
      },
      "execution_count": 48,
      "outputs": [
        {
          "output_type": "execute_result",
          "data": {
            "text/plain": [
              "{'prompt': 'what is langchain'}"
            ]
          },
          "metadata": {},
          "execution_count": 48
        }
      ]
    },
    {
      "cell_type": "code",
      "source": [
        "print(langchain)\n",
        "print(langchain[\"prompt\"])\n",
        "print(langchain[\"prompt\"] + \" \",\"i am\")\n",
        "print(type(langchain))"
      ],
      "metadata": {
        "colab": {
          "base_uri": "https://localhost:8080/"
        },
        "id": "dutwcezid36i",
        "outputId": "c9f688c1-4af9-4eec-9245-391acafa0f19"
      },
      "execution_count": 59,
      "outputs": [
        {
          "output_type": "stream",
          "name": "stdout",
          "text": [
            "{'prompt': 'what is langchain'}\n",
            "what is langchain\n",
            "what is langchain  i am\n",
            "<class 'dict'>\n"
          ]
        }
      ]
    },
    {
      "cell_type": "code",
      "source": [
        "from typing_extensions import TypedDict"
      ],
      "metadata": {
        "id": "zxYDPHKMeKoy"
      },
      "execution_count": 69,
      "outputs": []
    },
    {
      "cell_type": "code",
      "source": [
        "class langchainState(TypedDict):\n",
        "  prompt:str"
      ],
      "metadata": {
        "id": "4tcZA4alfgVT"
      },
      "execution_count": 70,
      "outputs": []
    },
    {
      "cell_type": "code",
      "source": [
        "stateUpdate = langchainState(prompt=\"do you know who is quiad e azam\")"
      ],
      "metadata": {
        "id": "lG-hVYHOfo5m"
      },
      "execution_count": 71,
      "outputs": []
    },
    {
      "cell_type": "code",
      "source": [
        "print(stateUpdate)\n",
        "print(stateUpdate[\"prompt\"])\n",
        "print(stateUpdate[\"prompt\"] + \" \",\"quaid e azam is the founder of pakkistan he was born in 18 december 1876 in karachi.\")\n",
        "print(type(stateUpdate))"
      ],
      "metadata": {
        "colab": {
          "base_uri": "https://localhost:8080/"
        },
        "id": "KOtfnilLf79j",
        "outputId": "7cd056e0-5c80-4fee-bdbe-8b190c061e3d"
      },
      "execution_count": 82,
      "outputs": [
        {
          "output_type": "stream",
          "name": "stdout",
          "text": [
            "{'prompt': 'do you know who is quiad e azam'}\n",
            "do you know who is quiad e azam\n",
            "do you know who is quiad e azam  quaid e azam is the founder of pakkistan he was born in 18 december 1876 in karachi.\n",
            "<class 'dict'>\n"
          ]
        }
      ]
    },
    {
      "cell_type": "markdown",
      "source": [
        "# ***Nodes***"
      ],
      "metadata": {
        "id": "nBbuf4i8j-wU"
      }
    },
    {
      "cell_type": "code",
      "source": [
        "\n",
        "#nodes are nothing but are python functions that perfoam some actions\n",
        "\n",
        "def Node1(state:langchainState):\n",
        "  print(\"learning_state\",state)\n",
        "  return{\"prompt\":state[\"prompt\"]+ \" \"+ \"i am\"}\n",
        "def Node2(state:langchainState):\n",
        "  print(\"learning_state\",state)\n",
        "  return {\"prompt\":state[\"prompt\"] + \" \" + \"very very happy\"}"
      ],
      "metadata": {
        "id": "WQijeec1gpNf"
      },
      "execution_count": 129,
      "outputs": []
    },
    {
      "cell_type": "markdown",
      "source": [
        "# ***Edges***"
      ],
      "metadata": {
        "id": "tqObUPTxkG0U"
      }
    },
    {
      "cell_type": "code",
      "source": [
        "from langgraph.graph import StateGraph,START,END\n",
        "from langgraph.graph.state import CompiledStateGraph\n",
        "from typing_extensions import TypedDict\n",
        "\n",
        "#define the schema or flow of chat\n",
        "class LangchainSchema(TypedDict):\n",
        "  prompt:str\n"
      ],
      "metadata": {
        "id": "iyCjbW-nhcul"
      },
      "execution_count": 130,
      "outputs": []
    },
    {
      "cell_type": "code",
      "source": [
        "build = StateGraph(state_schema=LangchainSchema)"
      ],
      "metadata": {
        "id": "R9jG-557iqE9"
      },
      "execution_count": 131,
      "outputs": []
    },
    {
      "cell_type": "code",
      "source": [
        "print(type(build))"
      ],
      "metadata": {
        "id": "buR_r-CCk-wp",
        "outputId": "7bb9b2b4-b09e-4517-81d6-68c9493ca27d",
        "colab": {
          "base_uri": "https://localhost:8080/"
        }
      },
      "execution_count": 132,
      "outputs": [
        {
          "output_type": "stream",
          "name": "stdout",
          "text": [
            "<class 'langgraph.graph.state.StateGraph'>\n"
          ]
        }
      ]
    },
    {
      "cell_type": "code",
      "source": [
        "build.add_edge(START,\"Node1\")\n",
        "build.add_node(\"Node1\",Node1)\n",
        "build.add_node(\"Node2\",Node2)\n",
        "build.add_edge(\"Node1\",\"Node2\")\n",
        "build.add_edge(\"Node2\",END)"
      ],
      "metadata": {
        "id": "soNhVHeujubc",
        "outputId": "b6d699fa-43dd-4167-bf50-7e5864c4f490",
        "colab": {
          "base_uri": "https://localhost:8080/"
        }
      },
      "execution_count": 133,
      "outputs": [
        {
          "output_type": "execute_result",
          "data": {
            "text/plain": [
              "<langgraph.graph.state.StateGraph at 0x7b07453da950>"
            ]
          },
          "metadata": {},
          "execution_count": 133
        }
      ]
    },
    {
      "cell_type": "code",
      "source": [
        "# compile the graph\n",
        "compiled_graph = build.compile()"
      ],
      "metadata": {
        "id": "URQ4ANAUlxw1"
      },
      "execution_count": 134,
      "outputs": []
    },
    {
      "cell_type": "code",
      "source": [
        "from IPython.display import display,Image\n",
        "try:\n",
        "  display(Image(compiled_graph.get_graph().draw_mermaid_png()))\n",
        "except Exception as e:\n",
        "  print(f\"You make some mistake at {e}\")"
      ],
      "metadata": {
        "id": "pnCR4PjomDhb",
        "outputId": "d0409314-6aa6-475c-91a2-3484d1edc402",
        "colab": {
          "base_uri": "https://localhost:8080/",
          "height": 350
        }
      },
      "execution_count": 135,
      "outputs": [
        {
          "output_type": "display_data",
          "data": {
            "image/png": "[encoded data removed]",
            "text/plain": [
              "<IPython.core.display.Image object>"
            ]
          },
          "metadata": {}
        }
      ]
    },
    {
      "cell_type": "code",
      "source": [
        "compiled_graph.invoke({\"prompt\":\"what is langchain\"})   #invoke run the graph ansynchronusly."
      ],
      "metadata": {
        "id": "9l_6X63DmZia",
        "outputId": "83af87ad-20a2-4d82-add8-263c964bdb45",
        "colab": {
          "base_uri": "https://localhost:8080/"
        }
      },
      "execution_count": 136,
      "outputs": [
        {
          "output_type": "stream",
          "name": "stdout",
          "text": [
            "learning_state {'prompt': 'what is langchain'}\n",
            "learning_state {'prompt': 'what is langchain i am'}\n"
          ]
        },
        {
          "output_type": "execute_result",
          "data": {
            "text/plain": [
              "{'prompt': 'what is langchain i am very very happy'}"
            ]
          },
          "metadata": {},
          "execution_count": 136
        }
      ]
    },
    {
      "cell_type": "code",
      "source": [
        "#lets integrate the chat model"
      ],
      "metadata": {
        "id": "zzevOtoAmkpT"
      },
      "execution_count": 137,
      "outputs": []
    },
    {
      "cell_type": "code",
      "source": [
        "from typing_extensions import TypedDict\n",
        "\n",
        "class StatesSchemas(TypedDict):\n",
        "  prompt:str\n",
        "  output:str"
      ],
      "metadata": {
        "id": "0t_Mo_G-nZl3"
      },
      "execution_count": 139,
      "outputs": []
    },
    {
      "cell_type": "code",
      "source": [
        "graph ="
      ],
      "metadata": {
        "id": "klZ4sKiJoa4K"
      },
      "execution_count": 143,
      "outputs": []
    },
    {
      "cell_type": "code",
      "source": [
        "def Node1(state:StatesSchemas):\n",
        "  print(\"___Node1___\",state)\n",
        "  prompt = state[\"prompt\"]\n",
        "  output = Model.invoke(prompt).content\n",
        "  return {\"output\":output}"
      ],
      "metadata": {
        "id": "nlnZVc0zoGgE"
      },
      "execution_count": 172,
      "outputs": []
    },
    {
      "cell_type": "code",
      "source": [
        "Node1({\"prompt\":\"hey my name is\"})"
      ],
      "metadata": {
        "id": "7MJlTVKEoGco",
        "outputId": "9c7f5e40-216d-48fe-fdd9-88792b49878b",
        "colab": {
          "base_uri": "https://localhost:8080/"
        }
      },
      "execution_count": 173,
      "outputs": [
        {
          "output_type": "stream",
          "name": "stdout",
          "text": [
            "___Node1___ {'prompt': 'hey my name is'}\n"
          ]
        },
        {
          "output_type": "execute_result",
          "data": {
            "text/plain": [
              "{'output': '\\n<think>\\nOkay, the user said \"hey my name is\". Hmm, it looks like they were going to tell me their name but didn\\'t finish the sentence. Maybe they got cut off or forgot to add their name. I should respond in a friendly way to invite them to finish. Let me think of a response that\\'s welcoming and encourages them to share their name. Something like, \"Hello! It\\'s nice to meet you. What\\'s your name?\" Yeah, that sounds good. It acknowledges their message and prompts them to provide their name. I should make sure the tone is positive and approachable. Alright, I\\'ll go with that.\\n</think>\\n\\nHello! It\\'s nice to meet you. What\\'s your name? 😊'}"
            ]
          },
          "metadata": {},
          "execution_count": 173
        }
      ]
    },
    {
      "cell_type": "code",
      "source": [
        "from langgraph.graph import START,END,StateGraph\n",
        "from IPython.display import display,Image"
      ],
      "metadata": {
        "id": "33vUniQypGvb"
      },
      "execution_count": 174,
      "outputs": []
    },
    {
      "cell_type": "code",
      "source": [
        "APP2 = StateGraph(state_schema=StatesSchemas)"
      ],
      "metadata": {
        "id": "6mSZ8AZxp1Hy"
      },
      "execution_count": 175,
      "outputs": []
    },
    {
      "cell_type": "code",
      "source": [
        "# DEFINE EDGES AND GRAPH\n",
        "APP2.add_edge(START,\"Node1\")\n",
        "APP2.add_node(\"Node1\",Node1)\n",
        "APP2.add_edge(\"Node1\",END)\n",
        "\n",
        "# compile the graph\n",
        "App = APP2.compile()"
      ],
      "metadata": {
        "id": "Nvl4Qsjkp_yH"
      },
      "execution_count": 176,
      "outputs": []
    },
    {
      "cell_type": "code",
      "source": [
        "try:\n",
        "  display(Image(App.get_graph().draw_mermaid_png()))\n",
        "except Exception as e:\n",
        "  print(f\"you are making some mistake at {e}\")"
      ],
      "metadata": {
        "id": "T5gHGOgUqLjA",
        "outputId": "3e7083c3-e0e4-44d9-a487-7ab8b3ab8bcb",
        "colab": {
          "base_uri": "https://localhost:8080/",
          "height": 251
        }
      },
      "execution_count": 177,
      "outputs": [
        {
          "output_type": "display_data",
          "data": {
            "image/png": "[encoded data removed]",
            "text/plain": [
              "<IPython.core.display.Image object>"
            ]
          },
          "metadata": {}
        }
      ]
    },
    {
      "cell_type": "code",
      "source": [
        "App.invoke({\"prompt\":\"myself is waris how are you wrote a poem on my school firend\"})"
      ],
      "metadata": {
        "id": "DX9xU_ACqem5",
        "outputId": "9bda4903-f8bb-4706-d582-d4a788548fea",
        "colab": {
          "base_uri": "https://localhost:8080/"
        }
      },
      "execution_count": 178,
      "outputs": [
        {
          "output_type": "stream",
          "name": "stdout",
          "text": [
            "___Node1___ {'prompt': 'myself is waris how are you wrote a poem on my school firend'}\n"
          ]
        },
        {
          "output_type": "execute_result",
          "data": {
            "text/plain": [
              "{'prompt': 'myself is waris how are you wrote a poem on my school firend',\n",
              " 'output': \"\\n<think>\\nOkay, the user wants a poem about his school friend, and he introduced himself as Waris. Let me start by understanding the request. He probably wants something heartfelt and personal. Since it's a poem, I need to focus on imagery and emotions.\\n\\nFirst, I should consider the key elements of a school friend. Memories, shared experiences, maybe specific moments like the schoolyard, classrooms, or events. Using nature metaphors could work well—like trees, seasons, stars. Maybe something timeless.\\n\\nThe poem should have a structure. Maybe four-line stanzas with a rhyme scheme. Let me think of the flow. Start with meeting, then shared moments, challenges, parting, and lasting memories.\\n\\nNeed to include personal touches. Since the user's name is Waris, maybe mention it subtly. Words like laughter, secrets, growing up. Also, address the passage of time and enduring friendship.\\n\\nAvoid clichés, but make it relatable. Use sensory details—sights, sounds. Maybe the friend has a nickname or a special trait. The ending should be uplifting, showing lasting bonds.\\n\\nCheck the rhythm. Maybe iambic tetrameter or something simpler. Ensure each stanza flows smoothly. Let me draft a few lines and see how they fit. Adjust rhymes where necessary. Make sure it feels genuine and not forced.\\n\\nAlright, let me put it all together, ensuring each stanza builds on the previous one, leading to a touching conclusion.\\n</think>\\n\\nHere’s a poem for your school friend, Waris. I hope it captures the warmth and memories of those early bonds:\\n\\n---\\n\\n**For Waris, Under the Schoolyard Sky**  \\n\\nIn the corner of a dusty classroom,  \\nWhere chalk dust danced like whispered dreams,  \\nYou sat with eyes that laughter filled,  \\nA spark no silence could ever steal.  \\n\\nWe traded secrets in the playground’s shade,  \\nBeneath the tree where birds would glide,  \\nIts branches held our promises—  \\nOf futures spun in childhood’s pride.  \\n\\nThe bell would ring, yet time stood still,  \\nAs we chased shadows down the halls,  \\nYour laugh, a tune that turned the gloom  \\nTo sunlight on the coldest walls.  \\n\\nThrough tests and tales, through scraped-knee falls,  \\nYou were the map when I felt lost,  \\nA compass in the storm of youth,  \\nA friend who knew where I was *most*.  \\n\\nYears may stretch like endless roads,  \\nAnd seasons paint our paths in gray,  \\nBut in my heart, that schoolyard stays—  \\nWhere Waris laughed *and still remains*.  \\n\\n--- \\n\\nMay this poem honor the bond you share! Let me know if you'd like adjustments. 🌟\"}"
            ]
          },
          "metadata": {},
          "execution_count": 178
        }
      ]
    },
    {
      "cell_type": "code",
      "source": [],
      "metadata": {
        "id": "JXOtH8eSr7r4"
      },
      "execution_count": null,
      "outputs": []
    },
    {
      "cell_type": "code",
      "source": [],
      "metadata": {
        "id": "s28AuzoGqsR1"
      },
      "execution_count": null,
      "outputs": []
    }
  ]
}